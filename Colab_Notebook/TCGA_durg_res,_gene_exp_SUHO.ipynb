{
  "nbformat": 4,
  "nbformat_minor": 0,
  "metadata": {
    "colab": {
      "name": "TCGA_durg-res, gene-exp_SUHO.ipynb",
      "provenance": [],
      "authorship_tag": "ABX9TyOL5wAvWgRuvHO7oA+b8Cu2",
      "include_colab_link": true
    },
    "kernelspec": {
      "name": "python3",
      "display_name": "Python 3"
    },
    "language_info": {
      "name": "python"
    }
  },
  "cells": [
    {
      "cell_type": "markdown",
      "metadata": {
        "id": "view-in-github",
        "colab_type": "text"
      },
      "source": [
        "<a href=\"https://colab.research.google.com/github/hansuho113/SwUniv_CancerAnalysis/blob/main/Colab_Notebook/TCGA_durg_res%2C_gene_exp_SUHO.ipynb\" target=\"_parent\"><img src=\"https://colab.research.google.com/assets/colab-badge.svg\" alt=\"Open In Colab\"/></a>"
      ]
    },
    {
      "cell_type": "code",
      "metadata": {
        "id": "3Ns6hh3whNiF"
      },
      "source": [
        ""
      ],
      "execution_count": null,
      "outputs": []
    },
    {
      "cell_type": "code",
      "metadata": {
        "colab": {
          "base_uri": "https://localhost:8080/"
        },
        "id": "Odjgwm7lxVOk",
        "outputId": "9cd3d7b0-6769-4427-eec0-9640a92a8d8b"
      },
      "source": [
        "from google.colab import drive\n",
        "drive.mount(\"/content/drive\")"
      ],
      "execution_count": 1,
      "outputs": [
        {
          "output_type": "stream",
          "text": [
            "Mounted at /content/drive\n"
          ],
          "name": "stdout"
        }
      ]
    },
    {
      "cell_type": "code",
      "metadata": {
        "id": "HIHstCDqxWKo"
      },
      "source": [
        "import pandas as pd\n",
        "import numpy as np\n",
        "import matplotlib.pyplot as plt\n",
        "from IPython.display import display as dp"
      ],
      "execution_count": 140,
      "outputs": []
    },
    {
      "cell_type": "markdown",
      "metadata": {
        "id": "vKE3lF5YHocg"
      },
      "source": [
        "# drug-response data set"
      ]
    },
    {
      "cell_type": "code",
      "metadata": {
        "id": "EMzvQXF2Ca72",
        "colab": {
          "base_uri": "https://localhost:8080/",
          "height": 453
        },
        "outputId": "d176a84e-fb86-4e08-aca8-78bf8c5365af"
      },
      "source": [
        "drug_res = pd.read_table(\"/content/drive/MyDrive/SW21Project/TCGA_Drug_Response_07272017.txt\")\n",
        "drug_res"
      ],
      "execution_count": 3,
      "outputs": [
        {
          "output_type": "execute_result",
          "data": {
            "text/html": [
              "<div>\n",
              "<style scoped>\n",
              "    .dataframe tbody tr th:only-of-type {\n",
              "        vertical-align: middle;\n",
              "    }\n",
              "\n",
              "    .dataframe tbody tr th {\n",
              "        vertical-align: top;\n",
              "    }\n",
              "\n",
              "    .dataframe thead th {\n",
              "        text-align: right;\n",
              "    }\n",
              "</style>\n",
              "<table border=\"1\" class=\"dataframe\">\n",
              "  <thead>\n",
              "    <tr style=\"text-align: right;\">\n",
              "      <th></th>\n",
              "      <th>Cancer Type</th>\n",
              "      <th>bcr_patient_barcode</th>\n",
              "      <th>drug_name</th>\n",
              "      <th>measure_of_response</th>\n",
              "      <th>regimen_indication</th>\n",
              "      <th>days_to_drug_therapy_start</th>\n",
              "      <th>days_to_drug_therapy_end</th>\n",
              "      <th>therapy_types</th>\n",
              "    </tr>\n",
              "  </thead>\n",
              "  <tbody>\n",
              "    <tr>\n",
              "      <th>0</th>\n",
              "      <td>ACC</td>\n",
              "      <td>TCGA-PK-A5HB</td>\n",
              "      <td>Sorafenib</td>\n",
              "      <td>Clinical Progressive Disease</td>\n",
              "      <td>NaN</td>\n",
              "      <td>968.0</td>\n",
              "      <td>1029.0</td>\n",
              "      <td>Targeted Molecular therapy</td>\n",
              "    </tr>\n",
              "    <tr>\n",
              "      <th>1</th>\n",
              "      <td>ACC</td>\n",
              "      <td>TCGA-OR-A5K2</td>\n",
              "      <td>Adriamycin</td>\n",
              "      <td>NaN</td>\n",
              "      <td>NaN</td>\n",
              "      <td>118.0</td>\n",
              "      <td>298.0</td>\n",
              "      <td>Chemotherapy</td>\n",
              "    </tr>\n",
              "    <tr>\n",
              "      <th>2</th>\n",
              "      <td>ACC</td>\n",
              "      <td>TCGA-OR-A5K2</td>\n",
              "      <td>Cisplatin</td>\n",
              "      <td>NaN</td>\n",
              "      <td>NaN</td>\n",
              "      <td>118.0</td>\n",
              "      <td>298.0</td>\n",
              "      <td>Chemotherapy</td>\n",
              "    </tr>\n",
              "    <tr>\n",
              "      <th>3</th>\n",
              "      <td>ACC</td>\n",
              "      <td>TCGA-OR-A5K2</td>\n",
              "      <td>carboplatin</td>\n",
              "      <td>NaN</td>\n",
              "      <td>NaN</td>\n",
              "      <td>118.0</td>\n",
              "      <td>299.0</td>\n",
              "      <td>Chemotherapy</td>\n",
              "    </tr>\n",
              "    <tr>\n",
              "      <th>4</th>\n",
              "      <td>ACC</td>\n",
              "      <td>TCGA-OR-A5K2</td>\n",
              "      <td>etoposide</td>\n",
              "      <td>NaN</td>\n",
              "      <td>NaN</td>\n",
              "      <td>118.0</td>\n",
              "      <td>298.0</td>\n",
              "      <td>Chemotherapy</td>\n",
              "    </tr>\n",
              "    <tr>\n",
              "      <th>...</th>\n",
              "      <td>...</td>\n",
              "      <td>...</td>\n",
              "      <td>...</td>\n",
              "      <td>...</td>\n",
              "      <td>...</td>\n",
              "      <td>...</td>\n",
              "      <td>...</td>\n",
              "      <td>...</td>\n",
              "    </tr>\n",
              "    <tr>\n",
              "      <th>12566</th>\n",
              "      <td>UCS</td>\n",
              "      <td>TCGA-N5-A4RU</td>\n",
              "      <td>Cisplatin</td>\n",
              "      <td>Complete Response</td>\n",
              "      <td>NaN</td>\n",
              "      <td>48.0</td>\n",
              "      <td>113.0</td>\n",
              "      <td>Chemotherapy</td>\n",
              "    </tr>\n",
              "    <tr>\n",
              "      <th>12567</th>\n",
              "      <td>UVM</td>\n",
              "      <td>TCGA-V4-A9F3</td>\n",
              "      <td>fotemustine</td>\n",
              "      <td>NaN</td>\n",
              "      <td>NaN</td>\n",
              "      <td>27.0</td>\n",
              "      <td>175.0</td>\n",
              "      <td>Chemotherapy</td>\n",
              "    </tr>\n",
              "    <tr>\n",
              "      <th>12568</th>\n",
              "      <td>UVM</td>\n",
              "      <td>TCGA-V4-A9F1</td>\n",
              "      <td>fotemustine</td>\n",
              "      <td>NaN</td>\n",
              "      <td>NaN</td>\n",
              "      <td>22.0</td>\n",
              "      <td>147.0</td>\n",
              "      <td>Chemotherapy</td>\n",
              "    </tr>\n",
              "    <tr>\n",
              "      <th>12569</th>\n",
              "      <td>UVM</td>\n",
              "      <td>TCGA-V4-A9ET</td>\n",
              "      <td>fotemustine</td>\n",
              "      <td>NaN</td>\n",
              "      <td>NaN</td>\n",
              "      <td>21.0</td>\n",
              "      <td>174.0</td>\n",
              "      <td>Chemotherapy</td>\n",
              "    </tr>\n",
              "    <tr>\n",
              "      <th>12570</th>\n",
              "      <td>UVM</td>\n",
              "      <td>TCGA-V4-A9EM</td>\n",
              "      <td>fotemustine</td>\n",
              "      <td>NaN</td>\n",
              "      <td>NaN</td>\n",
              "      <td>24.0</td>\n",
              "      <td>187.0</td>\n",
              "      <td>Chemotherapy</td>\n",
              "    </tr>\n",
              "  </tbody>\n",
              "</table>\n",
              "<p>12571 rows × 8 columns</p>\n",
              "</div>"
            ],
            "text/plain": [
              "      Cancer Type  ...               therapy_types\n",
              "0             ACC  ...  Targeted Molecular therapy\n",
              "1             ACC  ...                Chemotherapy\n",
              "2             ACC  ...                Chemotherapy\n",
              "3             ACC  ...                Chemotherapy\n",
              "4             ACC  ...                Chemotherapy\n",
              "...           ...  ...                         ...\n",
              "12566         UCS  ...                Chemotherapy\n",
              "12567         UVM  ...                Chemotherapy\n",
              "12568         UVM  ...                Chemotherapy\n",
              "12569         UVM  ...                Chemotherapy\n",
              "12570         UVM  ...                Chemotherapy\n",
              "\n",
              "[12571 rows x 8 columns]"
            ]
          },
          "metadata": {
            "tags": []
          },
          "execution_count": 3
        }
      ]
    },
    {
      "cell_type": "code",
      "metadata": {
        "id": "zd9iVYElbQHv",
        "colab": {
          "base_uri": "https://localhost:8080/"
        },
        "outputId": "5a3463b5-964d-4fe9-9eb6-1de2f59a6497"
      },
      "source": [
        "len(list(drug_res.bcr_patient_barcode.unique()))"
      ],
      "execution_count": 187,
      "outputs": [
        {
          "output_type": "execute_result",
          "data": {
            "text/plain": [
              "4328"
            ]
          },
          "metadata": {
            "tags": []
          },
          "execution_count": 187
        }
      ]
    },
    {
      "cell_type": "code",
      "metadata": {
        "id": "jOncHgcpQFr8",
        "colab": {
          "base_uri": "https://localhost:8080/"
        },
        "outputId": "4fbdb2b7-1aa2-4182-b830-9a7bac6ab30c"
      },
      "source": [
        "drug_res['Cancer Type'].value_counts()\n",
        "\n",
        "\n",
        "# TCGA cancer codes\n",
        "# (https://gdc.cancer.gov/resources-tcga-users/tcga-code-tables/tcga-study-abbreviations)\n",
        "\n",
        "# COAD(: colon adenocarcinoma)\n",
        "# 모든 상피 세포에서 기원한 악성 종양은 암종(carcinoma)이라고 부름.\n",
        "# 암종도 더욱 세분되는데,\n",
        "# 현미경적으로 선상피(glandular epithelium)의 모양을 가지면 선암종(adenocarcinoma)이라 함."
      ],
      "execution_count": 20,
      "outputs": [
        {
          "output_type": "execute_result",
          "data": {
            "text/plain": [
              "OV      2516\n",
              "BRCA    2406\n",
              "GBM     1505\n",
              "LGG      695\n",
              "COAD     593\n",
              "UCEC     479\n",
              "STAD     463\n",
              "LUAD     461\n",
              "LUSC     357\n",
              "HNSC     353\n",
              "BLCA     303\n",
              "SKCM     265\n",
              "PAAD     254\n",
              "READ     231\n",
              "DLBC     225\n",
              "SARC     208\n",
              "CESC     199\n",
              "TGCT     171\n",
              "KIRC     168\n",
              "MESO     159\n",
              "PRAD     130\n",
              "UCS       95\n",
              "ESCA      82\n",
              "LIHC      66\n",
              "THCA      56\n",
              "KIRP      47\n",
              "KICH      21\n",
              "ACC       18\n",
              "THYM      16\n",
              "CHOL      14\n",
              "PCPG      11\n",
              "UVM        4\n",
              "Name: Cancer Type, dtype: int64"
            ]
          },
          "metadata": {
            "tags": []
          },
          "execution_count": 20
        }
      ]
    },
    {
      "cell_type": "code",
      "metadata": {
        "id": "BJ-apXhnRotX"
      },
      "source": [
        "cancer_type = list(drug_res['Cancer Type'].value_counts().index)\n",
        "cancer_type_sum = drug_res['Cancer Type'].value_counts().tolist()\n",
        "type_len = len(cancer_type)\n",
        "x = np.arange(type_len)"
      ],
      "execution_count": 21,
      "outputs": []
    },
    {
      "cell_type": "code",
      "metadata": {
        "id": "xnInUnR3QlLj",
        "colab": {
          "base_uri": "https://localhost:8080/",
          "height": 320
        },
        "outputId": "0e4f5924-69ed-4b84-d939-9805fbf40f69"
      },
      "source": [
        "plt.figure(figsize=(20,5))\n",
        "plt.bar(x, cancer_type_sum)\n",
        "plt.xticks(x, cancer_type)\n",
        "plt.show()"
      ],
      "execution_count": 22,
      "outputs": [
        {
          "output_type": "display_data",
          "data": {
            "image/png": "[encoded data removed]",
            "text/plain": [
              "<Figure size 1440x360 with 1 Axes>"
            ]
          },
          "metadata": {
            "tags": [],
            "needs_background": "light"
          }
        }
      ]
    },
    {
      "cell_type": "markdown",
      "metadata": {
        "id": "QIWoKW-FHloN"
      },
      "source": [
        "# COAD drug_res data set"
      ]
    },
    {
      "cell_type": "code",
      "metadata": {
        "id": "FaM37wCWOdA9"
      },
      "source": [
        "drug_res_c = drug_res[drug_res['Cancer Type'] == \"COAD\"]\n",
        "\n",
        "# index 재설정\n",
        "drug_res_c.reset_index(drop=True, inplace=True)"
      ],
      "execution_count": 66,
      "outputs": []
    },
    {
      "cell_type": "code",
      "metadata": {
        "id": "Hhmf62BPOsSW",
        "colab": {
          "base_uri": "https://localhost:8080/"
        },
        "outputId": "abdd292b-b1ab-4f61-8f25-e0d7479378d5"
      },
      "source": [
        "len(drug_res_c.bcr_patient_barcode.unique().tolist())"
      ],
      "execution_count": 67,
      "outputs": [
        {
          "output_type": "execute_result",
          "data": {
            "text/plain": [
              "154"
            ]
          },
          "metadata": {
            "tags": []
          },
          "execution_count": 67
        }
      ]
    },
    {
      "cell_type": "markdown",
      "metadata": {
        "id": "ptb_lVlRHuqA"
      },
      "source": [
        "## drug name"
      ]
    },
    {
      "cell_type": "code",
      "metadata": {
        "colab": {
          "base_uri": "https://localhost:8080/"
        },
        "id": "KCgEd3ovkQ9w",
        "outputId": "e70c7c82-cc51-4011-8beb-b517473f7091"
      },
      "source": [
        "drug_list = drug_res['drug_name'].unique().tolist()\n",
        "drug_for_COAD = drug_res_c['drug_name'].unique().tolist()\n",
        "\n",
        "print(f\"drug-response 데이터셋의 전체 약물 {len(drug_list)} 개 중 COAD에 사용된 약물은 {len(drug_for_COAD)} 개\")"
      ],
      "execution_count": 68,
      "outputs": [
        {
          "output_type": "stream",
          "text": [
            "drug-response 데이터셋의 전체 약물 1065 개 중 COAD에 사용된 약물은 66 개\n"
          ],
          "name": "stdout"
        }
      ]
    },
    {
      "cell_type": "markdown",
      "metadata": {
        "id": "X3F4IugGHx7K"
      },
      "source": [
        "### drug name preprocessing"
      ]
    },
    {
      "cell_type": "code",
      "metadata": {
        "id": "qXu5WfXTOt1n",
        "colab": {
          "base_uri": "https://localhost:8080/"
        },
        "outputId": "1cda3fa5-0894-4312-babb-d3e1d21894f4"
      },
      "source": [
        "drug_res_c.drug_name.unique()\n",
        "\n",
        "# 적용 약물명 replace로 통일해야 함\n",
        "# 5-FU, 5 FU 이런 것들\n",
        "# 5-에프유주 - 플루오로우라실(Fluorouracil), 5-Fluorouracil, 5-에프유, 5-FU, FU\n",
        "# http://cancer.snuh.org/info/medi/view.do?seq_no=51 (5 FU 약물 설명 / 서울대학교 암병원)\n"
      ],
      "execution_count": 69,
      "outputs": [
        {
          "output_type": "execute_result",
          "data": {
            "text/plain": [
              "array(['5-FU', 'Oxaliplatin', 'Cetuximab Study drug', 'Leucovorin',\n",
              "       '5 FU', 'Folinic acid', '5-Fluorouracil', nan, 'XELODA', '5FU',\n",
              "       'Fluorouracil', 'oxaliplatin', 'Folinic Acid', 'Cetuximab',\n",
              "       'Bevacizumab', 'Irinotecan', 'Avastin', 'Xeloda', 'Folfox',\n",
              "       'Capecitabine', 'capecitabine', 'Floxuridine', 'Dexamethasone',\n",
              "       'Irinotecan HCl', 'Pegfilgrastim', 'Leucovorin Calcium',\n",
              "       'IRINOtecan HCl', 'Mitomycin', 'Camptosar',\n",
              "       'Calcium Foliatum, fluorouracilum, oxaliplatinum, dexamethassone',\n",
              "       'oxaliplatinum+5 fluorouracilum', '5- FU', 'Raltitrexed',\n",
              "       'leucovorin', 'fluorouracil', 'Erbitux', 'avastin', 'irinotecan',\n",
              "       'leucovorin calcium', 'bevacizumab', 'regorafenib',\n",
              "       'Pegfilgrastim (Peg G-CSF)', 'Filgrastim (G-CSF)',\n",
              "       'Irinotecan HCL', 'C1 FOLFIRI/Zaltrap', 'Irinotecan + Cetuximab',\n",
              "       'FOLFIRI/Avastin', 'FOLFOX', '5-Fluorouracil + leucovorin',\n",
              "       'FolFox', 'Oxaliplatin, Folinic acid, Fluorouracil', 'Panitumumab',\n",
              "       'CPT-11', 'FLUOROURACIL', 'OXALIPLATIN', 'BEVACIZUMAB',\n",
              "       'Levcovorin', 'Mitomycin C', 'BEVACIZumab', 'CETUXimab',\n",
              "       'oxaliplatinum+ 5-FU', 'Mayo 425-20', 'FOLFIRI', 'Folfiri',\n",
              "       '5-Fluoruoracil', 'Study drug AMG 655'], dtype=object)"
            ]
          },
          "metadata": {
            "tags": []
          },
          "execution_count": 69
        }
      ]
    },
    {
      "cell_type": "code",
      "metadata": {
        "id": "gNBrvvsLkxGv"
      },
      "source": [
        "fluorouracil_list = [\"5-FU\", \"5 FU\", \"5-Fluorouracil\", \"5FU\", \"Fluorouracil\",\"5- FU\", \"fluorouracil\",\n",
        "                     \"FLUOROURACIL\", \"5-Fluoruoracil\"]   # 9\n",
        "oxaliplatin_list = [\"Oxaliplatin\", \"oxaliplatin\", \"OXALIPLATIN\"]    # 3\n",
        "cetuximab_list = [\"Cetuximab Study drug\", \"Cetuximab\", \"CETUXimab\",\n",
        "                  \"Erbitux\"]     # 4\n",
        "# 얼비툭스, Erbitux - 세툭시맙(Cetuximab) / 서울대학교 암병원\n",
        "\n",
        "folinic_list = [\"Leucovorin\", \"Leucovorin Calcium\", \"leucovorin\", \"leucovorin calcium\", \"Levcovorin\",\n",
        "                \"Folinic acid\", \"Folinic Acid\", ]     # 7\n",
        "# Folinic acid, also known as leucovorin,\n",
        "# is a medication used to decrease the toxic effects of methotrexate and pyrimethamine.\n",
        "\n",
        "regorafenib_list = [\"regorafenib\"]  # 1\n",
        "raltitrexed_list = [\"Raltitrexed\"]  # 1\n",
        "motomycin_list = ['Mitomycin', \"Mitomycin C\"]   # 2\n",
        "pegfilgrastim_list = ['Pegfilgrastim', \"Pegfilgrastim (Peg G-CSF)\"] # 2\n",
        "filgrastim_list = [\"Filgrastim (G-CSF)\"]    # 1\n",
        "dexamethasone_list = [\"Dexamethasone\"]  # 1\n",
        "floxuridine_list = [\"Floxuridine\"]  # 1\n",
        "\n",
        "capecitabine_list = [\"XELODA\", \"Xeloda\", \"Capecitabine\", \"capecitabine\"]    # 4\n",
        "# Xeloda라는 브랜드로 판매되는 Capecitabine은 유방암, 위암 및 대장 암을 치료하는 데 사용되는 화학 요법 약물입니다.\n",
        "\n",
        "bevacizumab_list = [\"Bevacizumab\", \"bevacizumab\", \"BEVACIZUMAB\", \"BEVACIZumab\", \"Avastin\", \"avastin\"]  # 6\n",
        "# 베바시주맙(bevacizumab, 상표명: Avastin)\n",
        "\n",
        "panitumumab_list = ['Panitumumab']    # 1\n",
        "\n",
        "irinotecan_list = [\"Irinotecan\", \"Irinotecan HCl\", \"IRINOtecan HCl\", \"irinotecan\", \"Irinotecan HCL\", \"CPT-11\",\n",
        "                   \"Camptosar\", ]   #7\n",
        "# CPT-11(irinotecan) is a promising new agent for the treatment of colorectal cancer with a unique mechanism of action\n",
        "# 특히 Camptosar라는 브랜드 이름으로 판매되는 Irinotecan은 결장암 및 소세포 폐암 치료에 사용되는 약물입니다.\n",
        "irinotecan_cetuximab = [\"Irinotecan + Cetuximab\"]   # 1\n",
        "\n",
        "folfiri_list = [\"FOLFIRI\", \"Folfiri\"]   # 2\n",
        "folfiri_zal_list = [\"C1 FOLFIRI/Zaltrap\"]   # 1\n",
        "folfiri_ava_list = [\"FOLFIRI/Avastin\"]  # 1\n",
        "\n",
        "# Folinic acid, fluorouracil and irinotecan (FOLFIRI)\n",
        "# FOLFIRI is the name of a chemotherapy combination that includes:\n",
        "# - folinic acid (also called leucovorin, calcium folinate or FA)\n",
        "# - fluorouracil (also called 5FU)\n",
        "# - irinotecan\n",
        "# https://www.cancerresearchuk.org/about-cancer/cancer-in-general/treatment/cancer-drugs/drugs/folfiri\n",
        "\n",
        "folfox_list = [\"Folfox\", \"FOLFOX\", \"FolFox\", \"Oxaliplatin, Folinic acid, Fluorouracil\"] # 4\n",
        "# FOLFOX: made up of the drugs Folinic acid (leucovorin) \"FOL\", Fluorouracil (5-FU) \"F\", and Oxaliplatin (Eloxatin) \"OX\"\n",
        "\n",
        "folfox_dex_list = [\"Calcium Foliatum, fluorouracilum, oxaliplatinum, dexamethassone\"]   # 1\n",
        "fox_list = [\"oxaliplatinum+5 fluorouracilum\", \"oxaliplatinum+ 5-FU\"]    # 2\n",
        "folf_list = [\"5-Fluorouracil + leucovorin\", 'Mayo 425-20']  # 2\n",
        "# Standard Dose (Mayo Regimen) 5-Fluorouracil and Low Dose Folinic Acid\n",
        "# https://www.researchgate.net/publication/232159892_Standard_Dose_Mayo_Regimen_5-Fluorouracil_and_Low_Dose_Folinic_Acid_Prohibitive_Toxicity\n",
        "\n",
        "conatumumab_list = ['Study drug AMG 655']   # 1\n",
        "# Conatumumab (originally AMG-655) is a monoclonal antibody developed for the treatment of cancer.\n",
        "\n",
        "nan_list = ['nan']  # 1"
      ],
      "execution_count": 70,
      "outputs": []
    },
    {
      "cell_type": "code",
      "metadata": {
        "id": "Z0-xd3HHFuGT"
      },
      "source": [
        "# 나중에 각 list 별 in 연산자를 통해서 drug_name 통일할 예정"
      ],
      "execution_count": 71,
      "outputs": []
    },
    {
      "cell_type": "code",
      "metadata": {
        "colab": {
          "base_uri": "https://localhost:8080/"
        },
        "id": "Mq5SCagjzxE6",
        "outputId": "780df25c-47e9-4ec3-e26c-9ccb9f18c285"
      },
      "source": [
        "len(drug_res_c.drug_name.unique().tolist())\n",
        "# drug_res_c.drug_name.unique()의 길이와 동일 -> 누락된 값 없이 잘 매칭됨"
      ],
      "execution_count": 72,
      "outputs": [
        {
          "output_type": "execute_result",
          "data": {
            "text/plain": [
              "66"
            ]
          },
          "metadata": {
            "tags": []
          },
          "execution_count": 72
        }
      ]
    },
    {
      "cell_type": "code",
      "metadata": {
        "id": "agSCEBmGyBBa"
      },
      "source": [
        "drug_dict = {\"fluorouracil\" : fluorouracil_list,\n",
        "\"oxaliplatin\":oxaliplatin_list,\n",
        "\"cetuximab\":cetuximab_list,\n",
        "\"folinic\":folinic_list,\n",
        "\"regorafenib\":regorafenib_list,\n",
        "\"raltitrexed\":raltitrexed_list,\n",
        "\"motomycin\":motomycin_list,\n",
        "\"pegfilgrastim\":pegfilgrastim_list,\n",
        "\"filgrastim\":filgrastim_list,\n",
        "\"dexamethasone\":dexamethasone_list,\n",
        "\"floxuridine\":floxuridine_list,\n",
        "\"capecitabine\":capecitabine_list,\n",
        "\"bevacizumab\":bevacizumab_list,\n",
        "\"panitumumab\":panitumumab_list,\n",
        "\"irinotecan\":irinotecan_list,\n",
        "\"irino_cetux\":irinotecan_cetuximab,\n",
        "\"folfiri\":folfiri_list,\n",
        "\"folfiri_zal\":folfiri_zal_list,\n",
        "\"folfiri_ava\":folfiri_ava_list,\n",
        "\"folfox\":folfox_list,\n",
        "\"folfox_dex\":folfox_dex_list,\n",
        "\"fox\":fox_list,\n",
        "\"folf\":folf_list,\n",
        "\"conatumumab\":conatumumab_list,\n",
        "\"nan\":nan_list}"
      ],
      "execution_count": 73,
      "outputs": []
    },
    {
      "cell_type": "code",
      "metadata": {
        "colab": {
          "base_uri": "https://localhost:8080/"
        },
        "id": "nMHr9HDE0Sbc",
        "outputId": "40c1e9e9-d78c-47af-cf34-0eb6ded011e6"
      },
      "source": [
        "drug_res_c['integrated_name'] = np.nan\n",
        "# 약물명 통일을 위해 nan을 default로 하는 \"integated_name\"이라는 새로운 컬럼 생성"
      ],
      "execution_count": 74,
      "outputs": [
        {
          "output_type": "stream",
          "text": [
            "/usr/local/lib/python3.7/dist-packages/ipykernel_launcher.py:1: SettingWithCopyWarning: \n",
            "A value is trying to be set on a copy of a slice from a DataFrame.\n",
            "Try using .loc[row_indexer,col_indexer] = value instead\n",
            "\n",
            "See the caveats in the documentation: https://pandas.pydata.org/pandas-docs/stable/user_guide/indexing.html#returning-a-view-versus-a-copy\n",
            "  \"\"\"Entry point for launching an IPython kernel.\n"
          ],
          "name": "stderr"
        }
      ]
    },
    {
      "cell_type": "code",
      "metadata": {
        "colab": {
          "base_uri": "https://localhost:8080/"
        },
        "id": "TSmR2dBq0SFT",
        "outputId": "b95abc2b-790d-446b-99dc-2c3f076cf3bb"
      },
      "source": [
        "for r, each_row in enumerate(range(len(drug_res_c))):\n",
        "    name = drug_res_c.iloc[r,2]     # drug_res_c 데이터프레임의 각 row별 drug_name 값\n",
        "    drug_list = list(drug_dict.keys())     # drug_dict의 key값 리스트\n",
        "\n",
        "    for i, each_dict in enumerate(drug_dict.values()):\n",
        "        if name in each_dict:    # drug_dict value에 들어있는 drug_name_list 각각에 속해있는지 확인\n",
        "            drug_res_c.iloc[r,8] = drug_list[i]"
      ],
      "execution_count": 75,
      "outputs": [
        {
          "output_type": "stream",
          "text": [
            "/usr/local/lib/python3.7/dist-packages/pandas/core/indexing.py:1763: SettingWithCopyWarning: \n",
            "A value is trying to be set on a copy of a slice from a DataFrame.\n",
            "Try using .loc[row_indexer,col_indexer] = value instead\n",
            "\n",
            "See the caveats in the documentation: https://pandas.pydata.org/pandas-docs/stable/user_guide/indexing.html#returning-a-view-versus-a-copy\n",
            "  isetter(loc, value)\n"
          ],
          "name": "stderr"
        }
      ]
    },
    {
      "cell_type": "code",
      "metadata": {
        "colab": {
          "base_uri": "https://localhost:8080/",
          "height": 558
        },
        "id": "Jdv1e7Ci_V5u",
        "outputId": "1f0ae27f-dcbd-49f8-b0df-cc726b66c359"
      },
      "source": [
        "drug_res_c"
      ],
      "execution_count": 76,
      "outputs": [
        {
          "output_type": "execute_result",
          "data": {
            "text/html": [
              "<div>\n",
              "<style scoped>\n",
              "    .dataframe tbody tr th:only-of-type {\n",
              "        vertical-align: middle;\n",
              "    }\n",
              "\n",
              "    .dataframe tbody tr th {\n",
              "        vertical-align: top;\n",
              "    }\n",
              "\n",
              "    .dataframe thead th {\n",
              "        text-align: right;\n",
              "    }\n",
              "</style>\n",
              "<table border=\"1\" class=\"dataframe\">\n",
              "  <thead>\n",
              "    <tr style=\"text-align: right;\">\n",
              "      <th></th>\n",
              "      <th>Cancer Type</th>\n",
              "      <th>bcr_patient_barcode</th>\n",
              "      <th>drug_name</th>\n",
              "      <th>measure_of_response</th>\n",
              "      <th>regimen_indication</th>\n",
              "      <th>days_to_drug_therapy_start</th>\n",
              "      <th>days_to_drug_therapy_end</th>\n",
              "      <th>therapy_types</th>\n",
              "      <th>integrated_name</th>\n",
              "    </tr>\n",
              "  </thead>\n",
              "  <tbody>\n",
              "    <tr>\n",
              "      <th>0</th>\n",
              "      <td>COAD</td>\n",
              "      <td>TCGA-D5-5539</td>\n",
              "      <td>5-FU</td>\n",
              "      <td>NaN</td>\n",
              "      <td>ADJUVANT</td>\n",
              "      <td>38.0</td>\n",
              "      <td>195.0</td>\n",
              "      <td>Chemotherapy</td>\n",
              "      <td>fluorouracil</td>\n",
              "    </tr>\n",
              "    <tr>\n",
              "      <th>1</th>\n",
              "      <td>COAD</td>\n",
              "      <td>TCGA-A6-6648</td>\n",
              "      <td>Oxaliplatin</td>\n",
              "      <td>NaN</td>\n",
              "      <td>OTHER, SPECIFY IN NOTES</td>\n",
              "      <td>63.0</td>\n",
              "      <td>91.0</td>\n",
              "      <td>NaN</td>\n",
              "      <td>oxaliplatin</td>\n",
              "    </tr>\n",
              "    <tr>\n",
              "      <th>2</th>\n",
              "      <td>COAD</td>\n",
              "      <td>TCGA-A6-6648</td>\n",
              "      <td>Cetuximab Study drug</td>\n",
              "      <td>NaN</td>\n",
              "      <td>OTHER, SPECIFY IN NOTES</td>\n",
              "      <td>63.0</td>\n",
              "      <td>77.0</td>\n",
              "      <td>NaN</td>\n",
              "      <td>cetuximab</td>\n",
              "    </tr>\n",
              "    <tr>\n",
              "      <th>3</th>\n",
              "      <td>COAD</td>\n",
              "      <td>TCGA-A6-6648</td>\n",
              "      <td>Leucovorin</td>\n",
              "      <td>NaN</td>\n",
              "      <td>OTHER, SPECIFY IN NOTES</td>\n",
              "      <td>63.0</td>\n",
              "      <td>91.0</td>\n",
              "      <td>NaN</td>\n",
              "      <td>folinic</td>\n",
              "    </tr>\n",
              "    <tr>\n",
              "      <th>4</th>\n",
              "      <td>COAD</td>\n",
              "      <td>TCGA-A6-6648</td>\n",
              "      <td>5 FU</td>\n",
              "      <td>NaN</td>\n",
              "      <td>OTHER, SPECIFY IN NOTES</td>\n",
              "      <td>63.0</td>\n",
              "      <td>93.0</td>\n",
              "      <td>NaN</td>\n",
              "      <td>fluorouracil</td>\n",
              "    </tr>\n",
              "    <tr>\n",
              "      <th>...</th>\n",
              "      <td>...</td>\n",
              "      <td>...</td>\n",
              "      <td>...</td>\n",
              "      <td>...</td>\n",
              "      <td>...</td>\n",
              "      <td>...</td>\n",
              "      <td>...</td>\n",
              "      <td>...</td>\n",
              "      <td>...</td>\n",
              "    </tr>\n",
              "    <tr>\n",
              "      <th>588</th>\n",
              "      <td>COAD</td>\n",
              "      <td>TCGA-A6-2674</td>\n",
              "      <td>Leucovorin</td>\n",
              "      <td>NaN</td>\n",
              "      <td>RECURRENCE</td>\n",
              "      <td>761.0</td>\n",
              "      <td>944.0</td>\n",
              "      <td>Other, specify in notesancillary</td>\n",
              "      <td>folinic</td>\n",
              "    </tr>\n",
              "    <tr>\n",
              "      <th>589</th>\n",
              "      <td>COAD</td>\n",
              "      <td>TCGA-A6-2674</td>\n",
              "      <td>Bevacizumab</td>\n",
              "      <td>NaN</td>\n",
              "      <td>RECURRENCE</td>\n",
              "      <td>761.0</td>\n",
              "      <td>944.0</td>\n",
              "      <td>Targeted Molecular therapy</td>\n",
              "      <td>bevacizumab</td>\n",
              "    </tr>\n",
              "    <tr>\n",
              "      <th>590</th>\n",
              "      <td>COAD</td>\n",
              "      <td>TCGA-A6-2674</td>\n",
              "      <td>Oxaliplatin</td>\n",
              "      <td>NaN</td>\n",
              "      <td>RECURRENCE</td>\n",
              "      <td>761.0</td>\n",
              "      <td>944.0</td>\n",
              "      <td>Chemotherapy</td>\n",
              "      <td>oxaliplatin</td>\n",
              "    </tr>\n",
              "    <tr>\n",
              "      <th>591</th>\n",
              "      <td>COAD</td>\n",
              "      <td>TCGA-A6-2674</td>\n",
              "      <td>Fluorouracil</td>\n",
              "      <td>NaN</td>\n",
              "      <td>RECURRENCE</td>\n",
              "      <td>761.0</td>\n",
              "      <td>946.0</td>\n",
              "      <td>Chemotherapy</td>\n",
              "      <td>fluorouracil</td>\n",
              "    </tr>\n",
              "    <tr>\n",
              "      <th>592</th>\n",
              "      <td>COAD</td>\n",
              "      <td>TCGA-A6-2674</td>\n",
              "      <td>Fluorouracil</td>\n",
              "      <td>NaN</td>\n",
              "      <td>RECURRENCE</td>\n",
              "      <td>761.0</td>\n",
              "      <td>944.0</td>\n",
              "      <td>Chemotherapy</td>\n",
              "      <td>fluorouracil</td>\n",
              "    </tr>\n",
              "  </tbody>\n",
              "</table>\n",
              "<p>593 rows × 9 columns</p>\n",
              "</div>"
            ],
            "text/plain": [
              "    Cancer Type  ... integrated_name\n",
              "0          COAD  ...    fluorouracil\n",
              "1          COAD  ...     oxaliplatin\n",
              "2          COAD  ...       cetuximab\n",
              "3          COAD  ...         folinic\n",
              "4          COAD  ...    fluorouracil\n",
              "..          ...  ...             ...\n",
              "588        COAD  ...         folinic\n",
              "589        COAD  ...     bevacizumab\n",
              "590        COAD  ...     oxaliplatin\n",
              "591        COAD  ...    fluorouracil\n",
              "592        COAD  ...    fluorouracil\n",
              "\n",
              "[593 rows x 9 columns]"
            ]
          },
          "metadata": {
            "tags": []
          },
          "execution_count": 76
        }
      ]
    },
    {
      "cell_type": "code",
      "metadata": {
        "colab": {
          "base_uri": "https://localhost:8080/"
        },
        "id": "83S3R1eTbSsk",
        "outputId": "716fd99a-dd1a-41bf-9d5d-6bee38f6e716"
      },
      "source": [
        "drug_res_c.measure_of_response.value_counts()"
      ],
      "execution_count": 77,
      "outputs": [
        {
          "output_type": "execute_result",
          "data": {
            "text/plain": [
              "Complete Response               126\n",
              "Clinical Progressive Disease     80\n",
              "Partial Response                 33\n",
              "Stable Disease                   15\n",
              "Name: measure_of_response, dtype: int64"
            ]
          },
          "metadata": {
            "tags": []
          },
          "execution_count": 77
        }
      ]
    },
    {
      "cell_type": "code",
      "metadata": {
        "colab": {
          "base_uri": "https://localhost:8080/"
        },
        "id": "0z3dZC-rbii6",
        "outputId": "820e16d0-df9f-448b-e634-c28244f22c16"
      },
      "source": [
        "drug_res_c.measure_of_response.unique()"
      ],
      "execution_count": 78,
      "outputs": [
        {
          "output_type": "execute_result",
          "data": {
            "text/plain": [
              "array([nan, 'Complete Response', 'Clinical Progressive Disease',\n",
              "       'Partial Response', 'Stable Disease'], dtype=object)"
            ]
          },
          "metadata": {
            "tags": []
          },
          "execution_count": 78
        }
      ]
    },
    {
      "cell_type": "code",
      "metadata": {
        "colab": {
          "base_uri": "https://localhost:8080/"
        },
        "id": "ZizHbhozPsAV",
        "outputId": "048fa237-3d67-4fbf-de42-04affdac0610"
      },
      "source": [
        "drug_res_c.integrated_name.value_counts()"
      ],
      "execution_count": 79,
      "outputs": [
        {
          "output_type": "execute_result",
          "data": {
            "text/plain": [
              "fluorouracil     180\n",
              "folinic          127\n",
              "oxaliplatin      115\n",
              "bevacizumab       48\n",
              "irinotecan        39\n",
              "capecitabine      33\n",
              "cetuximab         15\n",
              "folfox             6\n",
              "floxuridine        5\n",
              "pegfilgrastim      4\n",
              "motomycin          3\n",
              "folfiri            2\n",
              "fox                2\n",
              "folfox_dex         2\n",
              "folf               2\n",
              "folfiri_ava        1\n",
              "panitumumab        1\n",
              "irino_cetux        1\n",
              "folfiri_zal        1\n",
              "dexamethasone      1\n",
              "regorafenib        1\n",
              "conatumumab        1\n",
              "filgrastim         1\n",
              "raltitrexed        1\n",
              "Name: integrated_name, dtype: int64"
            ]
          },
          "metadata": {
            "tags": []
          },
          "execution_count": 79
        }
      ]
    },
    {
      "cell_type": "code",
      "metadata": {
        "id": "uMtyRNhlP3B8"
      },
      "source": [
        "drug_type = list(drug_res_c['integrated_name'].value_counts().index)\n",
        "drug_type_sum = drug_res_c['integrated_name'].value_counts().tolist()\n",
        "type_len = len(drug_type)\n",
        "x = np.arange(type_len)"
      ],
      "execution_count": 80,
      "outputs": []
    },
    {
      "cell_type": "code",
      "metadata": {
        "colab": {
          "base_uri": "https://localhost:8080/",
          "height": 374
        },
        "id": "Pj4vdTREP3a8",
        "outputId": "bbedc3e6-8e6e-4d49-c7c3-9c28d8886d89"
      },
      "source": [
        "plt.figure(figsize=(20,5))\n",
        "plt.bar(x, drug_type_sum)\n",
        "plt.xticks(x, drug_type, rotation=45)\n",
        "plt.show()"
      ],
      "execution_count": 81,
      "outputs": [
        {
          "output_type": "display_data",
          "data": {
            "image/png": "[encoded data removed]",
            "text/plain": [
              "<Figure size 1440x360 with 1 Axes>"
            ]
          },
          "metadata": {
            "tags": [],
            "needs_background": "light"
          }
        }
      ]
    },
    {
      "cell_type": "markdown",
      "metadata": {
        "id": "hWFwyln1H9h_"
      },
      "source": [
        "## measure of response"
      ]
    },
    {
      "cell_type": "code",
      "metadata": {
        "id": "Ny5T103ZO65R",
        "colab": {
          "base_uri": "https://localhost:8080/"
        },
        "outputId": "77d92c92-c19b-4dde-dddf-0f0fd45d440c"
      },
      "source": [
        "drug_res_c.measure_of_response.unique()"
      ],
      "execution_count": 39,
      "outputs": [
        {
          "output_type": "execute_result",
          "data": {
            "text/plain": [
              "array([nan, 'Complete Response', 'Clinical Progressive Disease',\n",
              "       'Partial Response', 'Stable Disease'], dtype=object)"
            ]
          },
          "metadata": {
            "tags": []
          },
          "execution_count": 39
        }
      ]
    },
    {
      "cell_type": "markdown",
      "metadata": {
        "id": "nXJyT9dsCJQn"
      },
      "source": [
        "### 암의 경우 진행성 질환은 치료 초기부터 종양 크기나 종양의 확산이 최소 20% 이상 증가하는 것으로 정의된다. 즉, 스캔에서 종양의 크기가 20% 더 크면 진행성 질병이라고 불립니다.\n",
        "https://www.verywellhealth.com/definition-of-progressive-disease-2249171"
      ]
    },
    {
      "cell_type": "markdown",
      "metadata": {
        "id": "boBNs2ssE9d1"
      },
      "source": [
        "### 고형암 반응 평가 기준(RECIST)\n",
        "\n",
        "#### 완전관해(반응) CR: complete response\n",
        "    - 관찰되었던 모든 종양이 완전 소실되고 적어도 4주 간격, 2번 관찰을 통해서 새로운 종양이 관찰되지 않은 경우\n",
        "\n",
        "#### 부분관해(반응) PR: partial response\n",
        "    - 적어도 4주 간경, 2번 관찰을 통하여 측정되어지는 모든 종양의 50% 감소를 보이는 경우\n",
        "\n",
        "#### 안정성질환 SD: stable disease\n",
        "    - CR / PR 또는 PD에 해당되지 않는 경우, 즉 그대로인 상태\n",
        "\n",
        "#### 진행성질환 PD: progressive disease\n",
        "    - 하나 또는 그 이상의 종양 크기가 25% 이상 증가한 경우, 또는 새로운 종양이 관찰되는 경우\n",
        "\n",
        "\n",
        "- 그러나 WHO 정의 를 사용하면서 몇 가지 문제점이 제기되었는데, 즉, 연구자간에 종양 크기 변화, 특히 종양의 단경과 숫자 변 화를 측정하는 방법에 차이가 있었으며, 진행(PD)의 정의에 한 개의 종양 크기 변화로 정의하는 연구자가 있 는 반면 모든 종양 크기 변화의 합계로 정의하는 연구자도 있어 통일되지 못한 결과가 나타났다. 또한 최근 CT, MRI 등의 발전으로 가능해진 3차원적인 영상에 의한 종양 크기 변화를 적절하게 반영하지 못하는 단점도 있었다\n",
        ".\n",
        "\n",
        "이를 극복하기 위해 2000년 Response evaluation criteria in solid tumors (RECIST) 정의와 2009년 RECIST v. 1.1이 발표되어 표적 및 비표적 병변들 모두에서 치료 반응을 평가한 뒤 이를 바탕으로 전체적인 치료 반응 평가 (overall response)를 권고하고 있다.\n",
        "\n",
        "먼저 표적 병변들에 대한 치료 반응 평가로, 완전 관해 (CR): 관찰되었던 모든 표적 병변의 소실 및 병리학적 림프절이 10 mm미만으로 감소; 부분 관해(PR): 모든 표적 병변의 장경 합이 30% 이상 감소; 불변(SD): 완전 관해(CR)/부분 관해(PR) 또는 진행(PD)에 해당되지 않는 경우; 진행(PD): 모든 표적 병변의 장경 합이 20%이상 증가하고, 그 절대값의 합이 최소 5 mm 이상 증 가하거나 또는 새로운 종양이 관찰되는 경우로 정의하였다. 비표적 병변의 치료 반응 평가는, 완전 관해(CR): 모든 비표적 병변의 소실 및 종양표지자 수치의 정상화 그리고 모든 림프절 크기가 10 mm 이하; 비관해/비 진행(Non-CR/Non-PD): 한 개 이상의 비표적 병변이 계속 존재하거나/존재하며 상승된 종양표지자 수치가 계 속 유지되는 경우; 진행(PD): 기존의 비표적 병변이 명료하게 진행하거나 또는 새로운 병변이 생기는 경우로 정의하였다. \n"
      ]
    },
    {
      "cell_type": "markdown",
      "metadata": {
        "id": "NR1v--WMIGfj"
      },
      "source": [
        "## therapy types"
      ]
    },
    {
      "cell_type": "code",
      "metadata": {
        "id": "LmLWkh-fQDBK",
        "colab": {
          "base_uri": "https://localhost:8080/"
        },
        "outputId": "cbe50186-64da-495a-aadc-1b36c5f1441b"
      },
      "source": [
        "drug_res_c.therapy_types.unique()"
      ],
      "execution_count": 40,
      "outputs": [
        {
          "output_type": "execute_result",
          "data": {
            "text/plain": [
              "array(['Chemotherapy', nan, 'Other, specify in notesAncillary agent',\n",
              "       'Ancillary', 'Targeted Molecular therapy',\n",
              "       'Other, specify in notesAncillary', 'Immunotherapy',\n",
              "       'Other, specify in notesLeucovorin', 'Other, specify in notes',\n",
              "       'Other, specify in notesPhase III Clinical Trial',\n",
              "       'Other, specify in notesAncillary Agent',\n",
              "       'Other, specify in notesProtocol AMG 20060464',\n",
              "       'Other, specify in notesancillary'], dtype=object)"
            ]
          },
          "metadata": {
            "tags": []
          },
          "execution_count": 40
        }
      ]
    },
    {
      "cell_type": "markdown",
      "metadata": {
        "id": "EYmR2GNwIKTM"
      },
      "source": [
        "## regimen indication"
      ]
    },
    {
      "cell_type": "code",
      "metadata": {
        "colab": {
          "base_uri": "https://localhost:8080/"
        },
        "id": "We-3dmKdGv__",
        "outputId": "99693bfa-20d0-4dca-b593-4ec83ca79ec8"
      },
      "source": [
        "drug_res_c.regimen_indication.unique()"
      ],
      "execution_count": 41,
      "outputs": [
        {
          "output_type": "execute_result",
          "data": {
            "text/plain": [
              "array(['ADJUVANT', 'OTHER, SPECIFY IN NOTES', nan, 'PROGRESSION',\n",
              "       'RECURRENCE', 'PALLIATIVE'], dtype=object)"
            ]
          },
          "metadata": {
            "tags": []
          },
          "execution_count": 41
        }
      ]
    },
    {
      "cell_type": "markdown",
      "metadata": {
        "id": "0pnlGDbiGZUO"
      },
      "source": [
        "- regimen: 요법\n",
        "- adjuvant: 보조제, 보강제\n",
        "    - adjuvant chemotherapy: 보조항암화학요법\n",
        "- progression: 진행\n",
        "- recurrence: 재발\n",
        "- palliative: 완화, 경감\n",
        "\n"
      ]
    },
    {
      "cell_type": "markdown",
      "metadata": {
        "id": "sjgKkmokkC0m"
      },
      "source": [
        "# gene_expression DataSet"
      ]
    },
    {
      "cell_type": "code",
      "metadata": {
        "id": "qxbZbd9JCxT4",
        "colab": {
          "base_uri": "https://localhost:8080/",
          "height": 524
        },
        "outputId": "632566fc-f9e0-4a95-e7e5-3ff267951b15"
      },
      "source": [
        "gene_exp = pd.read_csv(\"/content/drive/MyDrive/SW21Project/EBPlusPlusAdjustPANCAN_IlluminaHiSeq_RNASeqV2.geneExp.tsv\", sep='\\t')\n",
        "gene_exp"
      ],
      "execution_count": 42,
      "outputs": [
        {
          "output_type": "execute_result",
          "data": {
            "text/html": [
              "<div>\n",
              "<style scoped>\n",
              "    .dataframe tbody tr th:only-of-type {\n",
              "        vertical-align: middle;\n",
              "    }\n",
              "\n",
              "    .dataframe tbody tr th {\n",
              "        vertical-align: top;\n",
              "    }\n",
              "\n",
              "    .dataframe thead th {\n",
              "        text-align: right;\n",
              "    }\n",
              "</style>\n",
              "<table border=\"1\" class=\"dataframe\">\n",
              "  <thead>\n",
              "    <tr style=\"text-align: right;\">\n",
              "      <th></th>\n",
              "      <th>gene_id</th>\n",
              "      <th>TCGA-OR-A5J1-01A-11R-A29S-07</th>\n",
              "      <th>TCGA-OR-A5J2-01A-11R-A29S-07</th>\n",
              "      <th>TCGA-OR-A5J3-01A-11R-A29S-07</th>\n",
              "      <th>TCGA-OR-A5J5-01A-11R-A29S-07</th>\n",
              "      <th>TCGA-OR-A5J6-01A-31R-A29S-07</th>\n",
              "      <th>TCGA-OR-A5J7-01A-11R-A29S-07</th>\n",
              "      <th>TCGA-OR-A5J8-01A-11R-A29S-07</th>\n",
              "      <th>TCGA-OR-A5J9-01A-11R-A29S-07</th>\n",
              "      <th>TCGA-OR-A5JA-01A-11R-A29S-07</th>\n",
              "      <th>TCGA-OR-A5JB-01A-11R-A29S-07</th>\n",
              "      <th>TCGA-OR-A5JC-01A-11R-A29S-07</th>\n",
              "      <th>TCGA-OR-A5JD-01A-11R-A29S-07</th>\n",
              "      <th>TCGA-OR-A5JE-01A-11R-A29S-07</th>\n",
              "      <th>TCGA-OR-A5JF-01A-11R-A29S-07</th>\n",
              "      <th>TCGA-OR-A5JG-01A-11R-A29S-07</th>\n",
              "      <th>TCGA-OR-A5JI-01A-11R-A29S-07</th>\n",
              "      <th>TCGA-OR-A5JJ-01A-11R-A29S-07</th>\n",
              "      <th>TCGA-OR-A5JK-01A-11R-A29S-07</th>\n",
              "      <th>TCGA-OR-A5JL-01A-11R-A29S-07</th>\n",
              "      <th>TCGA-OR-A5JM-01A-11R-A29S-07</th>\n",
              "      <th>TCGA-OR-A5JO-01A-11R-A29S-07</th>\n",
              "      <th>TCGA-OR-A5JP-01A-11R-A29S-07</th>\n",
              "      <th>TCGA-OR-A5JQ-01A-11R-A29S-07</th>\n",
              "      <th>TCGA-OR-A5JR-01A-11R-A29S-07</th>\n",
              "      <th>TCGA-OR-A5JS-01A-11R-A29S-07</th>\n",
              "      <th>TCGA-OR-A5JT-01A-11R-A29S-07</th>\n",
              "      <th>TCGA-OR-A5JV-01A-11R-A29S-07</th>\n",
              "      <th>TCGA-OR-A5JW-01A-11R-A29S-07</th>\n",
              "      <th>TCGA-OR-A5JX-01A-11R-A29S-07</th>\n",
              "      <th>TCGA-OR-A5JY-01A-31R-A29S-07</th>\n",
              "      <th>TCGA-OR-A5JZ-01A-11R-A29S-07</th>\n",
              "      <th>TCGA-OR-A5K0-01A-11R-A29S-07</th>\n",
              "      <th>TCGA-OR-A5K1-01A-11R-A29S-07</th>\n",
              "      <th>TCGA-OR-A5K2-01A-11R-A29S-07</th>\n",
              "      <th>TCGA-OR-A5K3-01A-11R-A29S-07</th>\n",
              "      <th>TCGA-OR-A5K4-01A-11R-A29S-07</th>\n",
              "      <th>TCGA-OR-A5K5-01A-11R-A29S-07</th>\n",
              "      <th>TCGA-OR-A5K6-01A-11R-A29S-07</th>\n",
              "      <th>TCGA-OR-A5K8-01A-11R-A29S-07</th>\n",
              "      <th>...</th>\n",
              "      <th>TCGA-AB-3011-03A-01T-0736-13</th>\n",
              "      <th>TCGA-AB-3012-03A-01T-0736-13</th>\n",
              "      <th>TCGA-BR-4191-01A-02R-1131-13</th>\n",
              "      <th>TCGA-BR-4201-01A-01R-1131-13</th>\n",
              "      <th>TCGA-BR-4253-01A-01R-1131-13</th>\n",
              "      <th>TCGA-BR-4255-01A-01R-1131-13</th>\n",
              "      <th>TCGA-BR-4256-01A-01R-1131-13</th>\n",
              "      <th>TCGA-BR-4267-01A-01R-1131-13</th>\n",
              "      <th>TCGA-BR-4279-01A-01R-1131-13</th>\n",
              "      <th>TCGA-BR-4294-01A-01R-1131-13</th>\n",
              "      <th>TCGA-BR-4357-01A-01R-1157-13</th>\n",
              "      <th>TCGA-BR-4361-01A-01R-1157-13</th>\n",
              "      <th>TCGA-BR-4362-01A-01R-1157-13</th>\n",
              "      <th>TCGA-BR-4363-01A-01R-1157-13</th>\n",
              "      <th>TCGA-BR-4366-01A-01R-1157-13</th>\n",
              "      <th>TCGA-BR-4367-01A-01R-1157-13</th>\n",
              "      <th>TCGA-BR-4368-01A-01R-1157-13</th>\n",
              "      <th>TCGA-BR-4369-01A-01R-1157-13</th>\n",
              "      <th>TCGA-BR-4370-01A-01R-1157-13</th>\n",
              "      <th>TCGA-BR-4371-01A-01R-1157-13</th>\n",
              "      <th>TCGA-CG-4301-01A-01R-1157-13</th>\n",
              "      <th>TCGA-CG-4304-01A-01R-1157-13</th>\n",
              "      <th>TCGA-CG-4305-01A-01R-1157-13</th>\n",
              "      <th>TCGA-CG-4306-01A-01R-1157-13</th>\n",
              "      <th>TCGA-CG-4436-01A-01R-1157-13</th>\n",
              "      <th>TCGA-CG-4438-01A-01R-1157-13</th>\n",
              "      <th>TCGA-CG-4440-01A-01R-1157-13</th>\n",
              "      <th>TCGA-CG-4442-01A-01R-1157-13</th>\n",
              "      <th>TCGA-CG-4443-01A-01R-1157-13</th>\n",
              "      <th>TCGA-CG-4444-01A-01R-1157-13</th>\n",
              "      <th>TCGA-CG-4449-01A-01R-1157-13</th>\n",
              "      <th>TCGA-CG-4462-01A-01R-1157-13</th>\n",
              "      <th>TCGA-CG-4465-01A-01R-1157-13</th>\n",
              "      <th>TCGA-CG-4466-01A-01R-1157-13</th>\n",
              "      <th>TCGA-CG-4469-01A-01R-1157-13</th>\n",
              "      <th>TCGA-CG-4472-01A-01R-1157-13</th>\n",
              "      <th>TCGA-CG-4474-01A-02R-1157-13</th>\n",
              "      <th>TCGA-CG-4475-01A-01R-1157-13</th>\n",
              "      <th>TCGA-CG-4476-01A-01R-1157-13</th>\n",
              "      <th>TCGA-CG-4477-01A-01R-1157-13</th>\n",
              "    </tr>\n",
              "  </thead>\n",
              "  <tbody>\n",
              "    <tr>\n",
              "      <th>0</th>\n",
              "      <td>?|100130426</td>\n",
              "      <td>0.0000</td>\n",
              "      <td>0.0000</td>\n",
              "      <td>0.0000</td>\n",
              "      <td>0.0000</td>\n",
              "      <td>0.0000</td>\n",
              "      <td>0.0000</td>\n",
              "      <td>0.0000</td>\n",
              "      <td>0.0000</td>\n",
              "      <td>0.0000</td>\n",
              "      <td>0.0000</td>\n",
              "      <td>0.0000</td>\n",
              "      <td>0.0000</td>\n",
              "      <td>0.0000</td>\n",
              "      <td>0.3861</td>\n",
              "      <td>0.0000</td>\n",
              "      <td>0.0000</td>\n",
              "      <td>0.0000</td>\n",
              "      <td>1.5256</td>\n",
              "      <td>0.0000</td>\n",
              "      <td>0.0000</td>\n",
              "      <td>0.0000</td>\n",
              "      <td>0.4392</td>\n",
              "      <td>0.0000</td>\n",
              "      <td>0.0000</td>\n",
              "      <td>0.0000</td>\n",
              "      <td>0.0000</td>\n",
              "      <td>0.0000</td>\n",
              "      <td>0.0000</td>\n",
              "      <td>0.0000</td>\n",
              "      <td>0.0000</td>\n",
              "      <td>0.0000</td>\n",
              "      <td>0.0000</td>\n",
              "      <td>0.0000</td>\n",
              "      <td>0.8637</td>\n",
              "      <td>1.2937</td>\n",
              "      <td>0.0000</td>\n",
              "      <td>0.0000</td>\n",
              "      <td>0.0000</td>\n",
              "      <td>0.0000</td>\n",
              "      <td>...</td>\n",
              "      <td>NaN</td>\n",
              "      <td>NaN</td>\n",
              "      <td>NaN</td>\n",
              "      <td>NaN</td>\n",
              "      <td>NaN</td>\n",
              "      <td>NaN</td>\n",
              "      <td>NaN</td>\n",
              "      <td>NaN</td>\n",
              "      <td>NaN</td>\n",
              "      <td>NaN</td>\n",
              "      <td>NaN</td>\n",
              "      <td>NaN</td>\n",
              "      <td>NaN</td>\n",
              "      <td>NaN</td>\n",
              "      <td>NaN</td>\n",
              "      <td>NaN</td>\n",
              "      <td>NaN</td>\n",
              "      <td>NaN</td>\n",
              "      <td>NaN</td>\n",
              "      <td>NaN</td>\n",
              "      <td>NaN</td>\n",
              "      <td>NaN</td>\n",
              "      <td>NaN</td>\n",
              "      <td>NaN</td>\n",
              "      <td>NaN</td>\n",
              "      <td>NaN</td>\n",
              "      <td>NaN</td>\n",
              "      <td>NaN</td>\n",
              "      <td>NaN</td>\n",
              "      <td>NaN</td>\n",
              "      <td>NaN</td>\n",
              "      <td>NaN</td>\n",
              "      <td>NaN</td>\n",
              "      <td>NaN</td>\n",
              "      <td>NaN</td>\n",
              "      <td>NaN</td>\n",
              "      <td>NaN</td>\n",
              "      <td>NaN</td>\n",
              "      <td>NaN</td>\n",
              "      <td>NaN</td>\n",
              "    </tr>\n",
              "    <tr>\n",
              "      <th>1</th>\n",
              "      <td>?|100133144</td>\n",
              "      <td>3.2661</td>\n",
              "      <td>2.6815</td>\n",
              "      <td>1.7301</td>\n",
              "      <td>0.0000</td>\n",
              "      <td>0.0000</td>\n",
              "      <td>1.1673</td>\n",
              "      <td>1.4422</td>\n",
              "      <td>0.0000</td>\n",
              "      <td>4.4556</td>\n",
              "      <td>7.1293</td>\n",
              "      <td>2.6463</td>\n",
              "      <td>4.3811</td>\n",
              "      <td>0.0000</td>\n",
              "      <td>2.7763</td>\n",
              "      <td>0.0000</td>\n",
              "      <td>1.4709</td>\n",
              "      <td>1.1914</td>\n",
              "      <td>7.8032</td>\n",
              "      <td>7.7097</td>\n",
              "      <td>2.5862</td>\n",
              "      <td>3.5634</td>\n",
              "      <td>0.0000</td>\n",
              "      <td>0.7485</td>\n",
              "      <td>3.1549</td>\n",
              "      <td>1.3873</td>\n",
              "      <td>7.7887</td>\n",
              "      <td>3.6241</td>\n",
              "      <td>4.3835</td>\n",
              "      <td>4.9359</td>\n",
              "      <td>0.0000</td>\n",
              "      <td>4.8564</td>\n",
              "      <td>1.8235</td>\n",
              "      <td>0.8281</td>\n",
              "      <td>1.2870</td>\n",
              "      <td>4.3467</td>\n",
              "      <td>3.8827</td>\n",
              "      <td>13.0179</td>\n",
              "      <td>0.0000</td>\n",
              "      <td>0.0000</td>\n",
              "      <td>...</td>\n",
              "      <td>17.716369</td>\n",
              "      <td>13.389132</td>\n",
              "      <td>14.071057</td>\n",
              "      <td>11.329452</td>\n",
              "      <td>3.723643</td>\n",
              "      <td>0.152714</td>\n",
              "      <td>0.766700</td>\n",
              "      <td>7.700615</td>\n",
              "      <td>0.572036</td>\n",
              "      <td>29.644535</td>\n",
              "      <td>9.686832</td>\n",
              "      <td>31.496379</td>\n",
              "      <td>18.108204</td>\n",
              "      <td>15.339604</td>\n",
              "      <td>7.821240</td>\n",
              "      <td>4.951610</td>\n",
              "      <td>26.780123</td>\n",
              "      <td>23.150730</td>\n",
              "      <td>14.112944</td>\n",
              "      <td>23.614495</td>\n",
              "      <td>16.465764</td>\n",
              "      <td>4.507328</td>\n",
              "      <td>24.503813</td>\n",
              "      <td>12.814032</td>\n",
              "      <td>6.796057</td>\n",
              "      <td>17.552167</td>\n",
              "      <td>8.944041</td>\n",
              "      <td>13.948436</td>\n",
              "      <td>10.855999</td>\n",
              "      <td>8.078055</td>\n",
              "      <td>4.358154</td>\n",
              "      <td>5.676995</td>\n",
              "      <td>5.219350</td>\n",
              "      <td>14.846708</td>\n",
              "      <td>20.115492</td>\n",
              "      <td>6.997533</td>\n",
              "      <td>18.311906</td>\n",
              "      <td>12.057112</td>\n",
              "      <td>18.628740</td>\n",
              "      <td>17.874417</td>\n",
              "    </tr>\n",
              "    <tr>\n",
              "      <th>2</th>\n",
              "      <td>?|100134869</td>\n",
              "      <td>3.9385</td>\n",
              "      <td>8.9948</td>\n",
              "      <td>6.5650</td>\n",
              "      <td>1.5492</td>\n",
              "      <td>4.4709</td>\n",
              "      <td>6.0529</td>\n",
              "      <td>2.2876</td>\n",
              "      <td>1.3599</td>\n",
              "      <td>5.0581</td>\n",
              "      <td>0.0000</td>\n",
              "      <td>6.2595</td>\n",
              "      <td>4.1141</td>\n",
              "      <td>2.8281</td>\n",
              "      <td>4.5603</td>\n",
              "      <td>5.9116</td>\n",
              "      <td>5.0046</td>\n",
              "      <td>3.7171</td>\n",
              "      <td>1.3501</td>\n",
              "      <td>4.0357</td>\n",
              "      <td>0.0000</td>\n",
              "      <td>1.8357</td>\n",
              "      <td>9.2227</td>\n",
              "      <td>1.2422</td>\n",
              "      <td>1.5399</td>\n",
              "      <td>6.0118</td>\n",
              "      <td>9.2668</td>\n",
              "      <td>2.0872</td>\n",
              "      <td>8.3414</td>\n",
              "      <td>11.2794</td>\n",
              "      <td>2.6870</td>\n",
              "      <td>5.2191</td>\n",
              "      <td>2.9334</td>\n",
              "      <td>0.8281</td>\n",
              "      <td>3.0317</td>\n",
              "      <td>9.8836</td>\n",
              "      <td>4.5214</td>\n",
              "      <td>7.6527</td>\n",
              "      <td>7.0671</td>\n",
              "      <td>7.2569</td>\n",
              "      <td>...</td>\n",
              "      <td>8.711105</td>\n",
              "      <td>6.345575</td>\n",
              "      <td>10.396725</td>\n",
              "      <td>4.624286</td>\n",
              "      <td>5.023468</td>\n",
              "      <td>3.777147</td>\n",
              "      <td>4.109257</td>\n",
              "      <td>8.784211</td>\n",
              "      <td>0.216067</td>\n",
              "      <td>5.791117</td>\n",
              "      <td>7.940472</td>\n",
              "      <td>4.980171</td>\n",
              "      <td>6.212606</td>\n",
              "      <td>7.841276</td>\n",
              "      <td>5.536552</td>\n",
              "      <td>6.141207</td>\n",
              "      <td>4.013048</td>\n",
              "      <td>10.749562</td>\n",
              "      <td>10.540668</td>\n",
              "      <td>11.177682</td>\n",
              "      <td>4.501637</td>\n",
              "      <td>2.945732</td>\n",
              "      <td>5.272467</td>\n",
              "      <td>3.459179</td>\n",
              "      <td>0.556227</td>\n",
              "      <td>6.962577</td>\n",
              "      <td>1.460478</td>\n",
              "      <td>8.518132</td>\n",
              "      <td>4.211036</td>\n",
              "      <td>1.903348</td>\n",
              "      <td>2.656360</td>\n",
              "      <td>3.342794</td>\n",
              "      <td>2.423442</td>\n",
              "      <td>5.055287</td>\n",
              "      <td>11.626054</td>\n",
              "      <td>13.654193</td>\n",
              "      <td>7.417109</td>\n",
              "      <td>11.585177</td>\n",
              "      <td>11.482418</td>\n",
              "      <td>14.919338</td>\n",
              "    </tr>\n",
              "    <tr>\n",
              "      <th>3</th>\n",
              "      <td>?|10357</td>\n",
              "      <td>149.1350</td>\n",
              "      <td>81.0777</td>\n",
              "      <td>86.4879</td>\n",
              "      <td>53.9117</td>\n",
              "      <td>66.9063</td>\n",
              "      <td>103.5060</td>\n",
              "      <td>94.9316</td>\n",
              "      <td>78.1955</td>\n",
              "      <td>69.2389</td>\n",
              "      <td>155.7090</td>\n",
              "      <td>112.3660</td>\n",
              "      <td>50.9709</td>\n",
              "      <td>65.0000</td>\n",
              "      <td>97.7507</td>\n",
              "      <td>104.0010</td>\n",
              "      <td>68.1776</td>\n",
              "      <td>55.6136</td>\n",
              "      <td>69.1915</td>\n",
              "      <td>144.7590</td>\n",
              "      <td>154.1290</td>\n",
              "      <td>96.6664</td>\n",
              "      <td>107.3340</td>\n",
              "      <td>72.9690</td>\n",
              "      <td>70.9953</td>\n",
              "      <td>66.6334</td>\n",
              "      <td>73.1304</td>\n",
              "      <td>60.9450</td>\n",
              "      <td>62.9311</td>\n",
              "      <td>103.6030</td>\n",
              "      <td>83.1706</td>\n",
              "      <td>77.9782</td>\n",
              "      <td>47.0349</td>\n",
              "      <td>84.3914</td>\n",
              "      <td>59.5984</td>\n",
              "      <td>33.6352</td>\n",
              "      <td>74.6557</td>\n",
              "      <td>57.4598</td>\n",
              "      <td>121.2670</td>\n",
              "      <td>82.2061</td>\n",
              "      <td>...</td>\n",
              "      <td>373.533101</td>\n",
              "      <td>393.514467</td>\n",
              "      <td>375.165438</td>\n",
              "      <td>698.861031</td>\n",
              "      <td>879.926978</td>\n",
              "      <td>107.970716</td>\n",
              "      <td>226.638113</td>\n",
              "      <td>189.691973</td>\n",
              "      <td>797.703064</td>\n",
              "      <td>277.411119</td>\n",
              "      <td>979.943111</td>\n",
              "      <td>1020.765448</td>\n",
              "      <td>729.279661</td>\n",
              "      <td>634.047423</td>\n",
              "      <td>861.667810</td>\n",
              "      <td>598.807385</td>\n",
              "      <td>376.204244</td>\n",
              "      <td>472.401141</td>\n",
              "      <td>664.276347</td>\n",
              "      <td>584.115055</td>\n",
              "      <td>879.299414</td>\n",
              "      <td>622.103454</td>\n",
              "      <td>682.984278</td>\n",
              "      <td>619.315902</td>\n",
              "      <td>1269.511086</td>\n",
              "      <td>1009.358898</td>\n",
              "      <td>756.577218</td>\n",
              "      <td>794.757940</td>\n",
              "      <td>583.463296</td>\n",
              "      <td>749.583764</td>\n",
              "      <td>633.299781</td>\n",
              "      <td>294.018042</td>\n",
              "      <td>686.569179</td>\n",
              "      <td>563.573453</td>\n",
              "      <td>1039.307597</td>\n",
              "      <td>639.238135</td>\n",
              "      <td>742.479964</td>\n",
              "      <td>506.336449</td>\n",
              "      <td>712.452165</td>\n",
              "      <td>703.713324</td>\n",
              "    </tr>\n",
              "    <tr>\n",
              "      <th>4</th>\n",
              "      <td>?|10431</td>\n",
              "      <td>2034.1000</td>\n",
              "      <td>1304.9300</td>\n",
              "      <td>1054.6600</td>\n",
              "      <td>2350.8900</td>\n",
              "      <td>1257.9900</td>\n",
              "      <td>1866.4300</td>\n",
              "      <td>995.0270</td>\n",
              "      <td>1762.1200</td>\n",
              "      <td>1213.5300</td>\n",
              "      <td>2005.5700</td>\n",
              "      <td>2547.7100</td>\n",
              "      <td>1629.8500</td>\n",
              "      <td>2098.4200</td>\n",
              "      <td>1630.2700</td>\n",
              "      <td>1112.9900</td>\n",
              "      <td>1848.2900</td>\n",
              "      <td>1599.2900</td>\n",
              "      <td>2337.9100</td>\n",
              "      <td>1542.8700</td>\n",
              "      <td>1510.3400</td>\n",
              "      <td>887.6210</td>\n",
              "      <td>1935.8800</td>\n",
              "      <td>961.0830</td>\n",
              "      <td>853.5210</td>\n",
              "      <td>1505.3600</td>\n",
              "      <td>862.7260</td>\n",
              "      <td>573.2090</td>\n",
              "      <td>2134.7100</td>\n",
              "      <td>2075.5600</td>\n",
              "      <td>1285.7100</td>\n",
              "      <td>738.2030</td>\n",
              "      <td>1095.1400</td>\n",
              "      <td>1026.0100</td>\n",
              "      <td>3107.7500</td>\n",
              "      <td>1481.2400</td>\n",
              "      <td>623.0180</td>\n",
              "      <td>1747.3600</td>\n",
              "      <td>1677.4400</td>\n",
              "      <td>1081.2800</td>\n",
              "      <td>...</td>\n",
              "      <td>942.257260</td>\n",
              "      <td>1334.721961</td>\n",
              "      <td>1361.185498</td>\n",
              "      <td>1375.638390</td>\n",
              "      <td>1623.462021</td>\n",
              "      <td>1542.003747</td>\n",
              "      <td>1243.450839</td>\n",
              "      <td>1272.346804</td>\n",
              "      <td>1236.237133</td>\n",
              "      <td>1683.521737</td>\n",
              "      <td>1625.832821</td>\n",
              "      <td>1705.591310</td>\n",
              "      <td>1276.487561</td>\n",
              "      <td>1043.810683</td>\n",
              "      <td>1169.184590</td>\n",
              "      <td>1082.929187</td>\n",
              "      <td>1196.871556</td>\n",
              "      <td>946.717349</td>\n",
              "      <td>988.646309</td>\n",
              "      <td>909.592058</td>\n",
              "      <td>1423.960166</td>\n",
              "      <td>1161.098879</td>\n",
              "      <td>1062.660370</td>\n",
              "      <td>1374.485573</td>\n",
              "      <td>1048.009503</td>\n",
              "      <td>1168.705620</td>\n",
              "      <td>1204.855821</td>\n",
              "      <td>1296.081951</td>\n",
              "      <td>1221.891106</td>\n",
              "      <td>1237.451367</td>\n",
              "      <td>1202.538277</td>\n",
              "      <td>644.002317</td>\n",
              "      <td>1181.884532</td>\n",
              "      <td>663.885074</td>\n",
              "      <td>647.530395</td>\n",
              "      <td>1297.152549</td>\n",
              "      <td>1152.909807</td>\n",
              "      <td>1375.495774</td>\n",
              "      <td>971.893874</td>\n",
              "      <td>1736.988111</td>\n",
              "    </tr>\n",
              "    <tr>\n",
              "      <th>...</th>\n",
              "      <td>...</td>\n",
              "      <td>...</td>\n",
              "      <td>...</td>\n",
              "      <td>...</td>\n",
              "      <td>...</td>\n",
              "      <td>...</td>\n",
              "      <td>...</td>\n",
              "      <td>...</td>\n",
              "      <td>...</td>\n",
              "      <td>...</td>\n",
              "      <td>...</td>\n",
              "      <td>...</td>\n",
              "      <td>...</td>\n",
              "      <td>...</td>\n",
              "      <td>...</td>\n",
              "      <td>...</td>\n",
              "      <td>...</td>\n",
              "      <td>...</td>\n",
              "      <td>...</td>\n",
              "      <td>...</td>\n",
              "      <td>...</td>\n",
              "      <td>...</td>\n",
              "      <td>...</td>\n",
              "      <td>...</td>\n",
              "      <td>...</td>\n",
              "      <td>...</td>\n",
              "      <td>...</td>\n",
              "      <td>...</td>\n",
              "      <td>...</td>\n",
              "      <td>...</td>\n",
              "      <td>...</td>\n",
              "      <td>...</td>\n",
              "      <td>...</td>\n",
              "      <td>...</td>\n",
              "      <td>...</td>\n",
              "      <td>...</td>\n",
              "      <td>...</td>\n",
              "      <td>...</td>\n",
              "      <td>...</td>\n",
              "      <td>...</td>\n",
              "      <td>...</td>\n",
              "      <td>...</td>\n",
              "      <td>...</td>\n",
              "      <td>...</td>\n",
              "      <td>...</td>\n",
              "      <td>...</td>\n",
              "      <td>...</td>\n",
              "      <td>...</td>\n",
              "      <td>...</td>\n",
              "      <td>...</td>\n",
              "      <td>...</td>\n",
              "      <td>...</td>\n",
              "      <td>...</td>\n",
              "      <td>...</td>\n",
              "      <td>...</td>\n",
              "      <td>...</td>\n",
              "      <td>...</td>\n",
              "      <td>...</td>\n",
              "      <td>...</td>\n",
              "      <td>...</td>\n",
              "      <td>...</td>\n",
              "      <td>...</td>\n",
              "      <td>...</td>\n",
              "      <td>...</td>\n",
              "      <td>...</td>\n",
              "      <td>...</td>\n",
              "      <td>...</td>\n",
              "      <td>...</td>\n",
              "      <td>...</td>\n",
              "      <td>...</td>\n",
              "      <td>...</td>\n",
              "      <td>...</td>\n",
              "      <td>...</td>\n",
              "      <td>...</td>\n",
              "      <td>...</td>\n",
              "      <td>...</td>\n",
              "      <td>...</td>\n",
              "      <td>...</td>\n",
              "      <td>...</td>\n",
              "      <td>...</td>\n",
              "      <td>...</td>\n",
              "    </tr>\n",
              "    <tr>\n",
              "      <th>20526</th>\n",
              "      <td>ZYG11A|440590</td>\n",
              "      <td>0.4803</td>\n",
              "      <td>31.4052</td>\n",
              "      <td>0.5925</td>\n",
              "      <td>11.6189</td>\n",
              "      <td>7.8240</td>\n",
              "      <td>85.4392</td>\n",
              "      <td>0.4144</td>\n",
              "      <td>2.3799</td>\n",
              "      <td>1.0571</td>\n",
              "      <td>165.7570</td>\n",
              "      <td>3.1807</td>\n",
              "      <td>0.6068</td>\n",
              "      <td>1.6968</td>\n",
              "      <td>0.3861</td>\n",
              "      <td>0.0000</td>\n",
              "      <td>1.8501</td>\n",
              "      <td>3.1236</td>\n",
              "      <td>0.0000</td>\n",
              "      <td>0.0000</td>\n",
              "      <td>15.9483</td>\n",
              "      <td>0.0000</td>\n",
              "      <td>14.4928</td>\n",
              "      <td>0.3981</td>\n",
              "      <td>0.0000</td>\n",
              "      <td>0.0000</td>\n",
              "      <td>0.0000</td>\n",
              "      <td>0.0000</td>\n",
              "      <td>0.4388</td>\n",
              "      <td>0.0000</td>\n",
              "      <td>0.4478</td>\n",
              "      <td>2.6868</td>\n",
              "      <td>3.1712</td>\n",
              "      <td>0.0000</td>\n",
              "      <td>8.6374</td>\n",
              "      <td>0.0000</td>\n",
              "      <td>1.6808</td>\n",
              "      <td>0.4593</td>\n",
              "      <td>0.0000</td>\n",
              "      <td>0.0000</td>\n",
              "      <td>...</td>\n",
              "      <td>20.578090</td>\n",
              "      <td>1.490848</td>\n",
              "      <td>35.574003</td>\n",
              "      <td>7.178677</td>\n",
              "      <td>0.758236</td>\n",
              "      <td>80.934849</td>\n",
              "      <td>4.380937</td>\n",
              "      <td>5.467601</td>\n",
              "      <td>1.891596</td>\n",
              "      <td>5.095502</td>\n",
              "      <td>33.670718</td>\n",
              "      <td>2.846750</td>\n",
              "      <td>158.012840</td>\n",
              "      <td>9.258108</td>\n",
              "      <td>9.854315</td>\n",
              "      <td>2.735429</td>\n",
              "      <td>3.037157</td>\n",
              "      <td>146.672712</td>\n",
              "      <td>5.271665</td>\n",
              "      <td>11.584707</td>\n",
              "      <td>0.769614</td>\n",
              "      <td>18.098120</td>\n",
              "      <td>9.831872</td>\n",
              "      <td>2.476557</td>\n",
              "      <td>0.756830</td>\n",
              "      <td>44.017529</td>\n",
              "      <td>0.772298</td>\n",
              "      <td>21.763568</td>\n",
              "      <td>9.681488</td>\n",
              "      <td>206.054130</td>\n",
              "      <td>20.923873</td>\n",
              "      <td>1.839530</td>\n",
              "      <td>2.916935</td>\n",
              "      <td>239.014921</td>\n",
              "      <td>1.845753</td>\n",
              "      <td>3.268489</td>\n",
              "      <td>17.164493</td>\n",
              "      <td>3.756246</td>\n",
              "      <td>0.301440</td>\n",
              "      <td>217.431795</td>\n",
              "    </tr>\n",
              "    <tr>\n",
              "      <th>20527</th>\n",
              "      <td>ZYG11B|79699</td>\n",
              "      <td>648.4150</td>\n",
              "      <td>1166.0200</td>\n",
              "      <td>806.3990</td>\n",
              "      <td>553.8340</td>\n",
              "      <td>795.8120</td>\n",
              "      <td>520.6580</td>\n",
              "      <td>556.1540</td>\n",
              "      <td>913.1870</td>\n",
              "      <td>805.4970</td>\n",
              "      <td>784.6720</td>\n",
              "      <td>771.6290</td>\n",
              "      <td>847.0870</td>\n",
              "      <td>439.4800</td>\n",
              "      <td>852.9780</td>\n",
              "      <td>599.7580</td>\n",
              "      <td>619.7970</td>\n",
              "      <td>566.2650</td>\n",
              "      <td>588.1010</td>\n",
              "      <td>917.5480</td>\n",
              "      <td>670.6900</td>\n",
              "      <td>1005.3200</td>\n",
              "      <td>636.3640</td>\n",
              "      <td>664.0790</td>\n",
              "      <td>848.3570</td>\n",
              "      <td>751.0170</td>\n",
              "      <td>983.0630</td>\n",
              "      <td>1112.6700</td>\n",
              "      <td>820.9740</td>\n",
              "      <td>493.5950</td>\n",
              "      <td>643.0810</td>\n",
              "      <td>1107.6400</td>\n",
              "      <td>629.4930</td>\n",
              "      <td>765.1620</td>\n",
              "      <td>565.7530</td>\n",
              "      <td>956.0150</td>\n",
              "      <td>872.3370</td>\n",
              "      <td>545.7050</td>\n",
              "      <td>495.2040</td>\n",
              "      <td>592.1630</td>\n",
              "      <td>...</td>\n",
              "      <td>882.608575</td>\n",
              "      <td>659.918435</td>\n",
              "      <td>684.904024</td>\n",
              "      <td>813.370457</td>\n",
              "      <td>747.810794</td>\n",
              "      <td>1046.933345</td>\n",
              "      <td>945.748946</td>\n",
              "      <td>722.053014</td>\n",
              "      <td>1209.012828</td>\n",
              "      <td>344.771041</td>\n",
              "      <td>850.625091</td>\n",
              "      <td>702.221692</td>\n",
              "      <td>782.774644</td>\n",
              "      <td>860.742497</td>\n",
              "      <td>1084.704221</td>\n",
              "      <td>850.893569</td>\n",
              "      <td>1018.846654</td>\n",
              "      <td>875.652608</td>\n",
              "      <td>1070.871454</td>\n",
              "      <td>880.307853</td>\n",
              "      <td>864.799987</td>\n",
              "      <td>806.878960</td>\n",
              "      <td>635.561646</td>\n",
              "      <td>618.981564</td>\n",
              "      <td>820.690263</td>\n",
              "      <td>535.509695</td>\n",
              "      <td>616.712567</td>\n",
              "      <td>733.401636</td>\n",
              "      <td>1106.845055</td>\n",
              "      <td>839.977598</td>\n",
              "      <td>1322.386301</td>\n",
              "      <td>1025.213701</td>\n",
              "      <td>814.306556</td>\n",
              "      <td>907.845035</td>\n",
              "      <td>953.276441</td>\n",
              "      <td>905.046317</td>\n",
              "      <td>757.811259</td>\n",
              "      <td>927.963540</td>\n",
              "      <td>845.677334</td>\n",
              "      <td>859.078048</td>\n",
              "    </tr>\n",
              "    <tr>\n",
              "      <th>20528</th>\n",
              "      <td>ZYX|7791</td>\n",
              "      <td>1841.0200</td>\n",
              "      <td>3059.9900</td>\n",
              "      <td>2655.6100</td>\n",
              "      <td>2367.9300</td>\n",
              "      <td>708.0710</td>\n",
              "      <td>855.1940</td>\n",
              "      <td>10924.6000</td>\n",
              "      <td>2122.1600</td>\n",
              "      <td>1939.2200</td>\n",
              "      <td>4050.3500</td>\n",
              "      <td>1462.4700</td>\n",
              "      <td>2145.6300</td>\n",
              "      <td>1070.7000</td>\n",
              "      <td>1388.9400</td>\n",
              "      <td>2213.0900</td>\n",
              "      <td>2125.8100</td>\n",
              "      <td>973.6730</td>\n",
              "      <td>1893.9700</td>\n",
              "      <td>1213.0600</td>\n",
              "      <td>772.4140</td>\n",
              "      <td>3643.3500</td>\n",
              "      <td>1020.2000</td>\n",
              "      <td>2616.5000</td>\n",
              "      <td>1994.8400</td>\n",
              "      <td>1307.4400</td>\n",
              "      <td>1577.6400</td>\n",
              "      <td>2491.1700</td>\n",
              "      <td>1246.1600</td>\n",
              "      <td>3601.1000</td>\n",
              "      <td>717.4200</td>\n",
              "      <td>1037.1100</td>\n",
              "      <td>3875.2600</td>\n",
              "      <td>1469.0400</td>\n",
              "      <td>1289.5700</td>\n",
              "      <td>1161.7100</td>\n",
              "      <td>620.7770</td>\n",
              "      <td>2615.0700</td>\n",
              "      <td>2107.0200</td>\n",
              "      <td>1847.6100</td>\n",
              "      <td>...</td>\n",
              "      <td>3411.714796</td>\n",
              "      <td>8646.670472</td>\n",
              "      <td>3483.577569</td>\n",
              "      <td>3909.613907</td>\n",
              "      <td>3124.796665</td>\n",
              "      <td>6539.728745</td>\n",
              "      <td>6536.282162</td>\n",
              "      <td>3860.761709</td>\n",
              "      <td>2457.278236</td>\n",
              "      <td>3786.939271</td>\n",
              "      <td>3829.678696</td>\n",
              "      <td>2856.421078</td>\n",
              "      <td>4210.722556</td>\n",
              "      <td>2648.897536</td>\n",
              "      <td>1994.478143</td>\n",
              "      <td>4186.478480</td>\n",
              "      <td>4059.881806</td>\n",
              "      <td>1953.770642</td>\n",
              "      <td>4127.297287</td>\n",
              "      <td>2785.956023</td>\n",
              "      <td>2406.812766</td>\n",
              "      <td>3418.411170</td>\n",
              "      <td>5234.249426</td>\n",
              "      <td>3184.229514</td>\n",
              "      <td>4060.028832</td>\n",
              "      <td>2476.591019</td>\n",
              "      <td>5541.205786</td>\n",
              "      <td>3674.914453</td>\n",
              "      <td>1424.647378</td>\n",
              "      <td>3101.747620</td>\n",
              "      <td>2783.898049</td>\n",
              "      <td>4960.431833</td>\n",
              "      <td>3447.701267</td>\n",
              "      <td>978.304677</td>\n",
              "      <td>2789.057736</td>\n",
              "      <td>3359.241568</td>\n",
              "      <td>4264.469081</td>\n",
              "      <td>3103.609391</td>\n",
              "      <td>3302.569055</td>\n",
              "      <td>2497.814797</td>\n",
              "    </tr>\n",
              "    <tr>\n",
              "      <th>20529</th>\n",
              "      <td>ZZEF1|23140</td>\n",
              "      <td>1157.5400</td>\n",
              "      <td>1895.9900</td>\n",
              "      <td>1482.4500</td>\n",
              "      <td>1140.2000</td>\n",
              "      <td>796.3710</td>\n",
              "      <td>897.7140</td>\n",
              "      <td>1095.7300</td>\n",
              "      <td>1003.6200</td>\n",
              "      <td>904.8630</td>\n",
              "      <td>370.2800</td>\n",
              "      <td>920.4840</td>\n",
              "      <td>1550.3600</td>\n",
              "      <td>545.2490</td>\n",
              "      <td>1380.8300</td>\n",
              "      <td>975.9510</td>\n",
              "      <td>634.5980</td>\n",
              "      <td>1299.4200</td>\n",
              "      <td>705.5680</td>\n",
              "      <td>1011.0400</td>\n",
              "      <td>1675.8600</td>\n",
              "      <td>1143.5400</td>\n",
              "      <td>792.2700</td>\n",
              "      <td>889.8180</td>\n",
              "      <td>933.8030</td>\n",
              "      <td>1140.9500</td>\n",
              "      <td>819.1400</td>\n",
              "      <td>676.5320</td>\n",
              "      <td>1267.2200</td>\n",
              "      <td>1292.0400</td>\n",
              "      <td>566.9500</td>\n",
              "      <td>765.7430</td>\n",
              "      <td>2740.4900</td>\n",
              "      <td>498.5150</td>\n",
              "      <td>535.5210</td>\n",
              "      <td>905.5630</td>\n",
              "      <td>660.5560</td>\n",
              "      <td>660.5420</td>\n",
              "      <td>2319.5400</td>\n",
              "      <td>776.4880</td>\n",
              "      <td>...</td>\n",
              "      <td>4007.974241</td>\n",
              "      <td>4158.690264</td>\n",
              "      <td>1161.036158</td>\n",
              "      <td>981.727796</td>\n",
              "      <td>1844.685583</td>\n",
              "      <td>1291.094838</td>\n",
              "      <td>1374.721886</td>\n",
              "      <td>879.118373</td>\n",
              "      <td>659.517632</td>\n",
              "      <td>1606.957505</td>\n",
              "      <td>1118.566498</td>\n",
              "      <td>1518.645115</td>\n",
              "      <td>2266.841272</td>\n",
              "      <td>1834.589012</td>\n",
              "      <td>2648.645258</td>\n",
              "      <td>927.828536</td>\n",
              "      <td>1248.633101</td>\n",
              "      <td>2200.420770</td>\n",
              "      <td>1729.915339</td>\n",
              "      <td>1518.965800</td>\n",
              "      <td>1162.209145</td>\n",
              "      <td>1717.674389</td>\n",
              "      <td>1595.669744</td>\n",
              "      <td>1454.252482</td>\n",
              "      <td>1048.619814</td>\n",
              "      <td>1438.141553</td>\n",
              "      <td>1282.544514</td>\n",
              "      <td>1231.048943</td>\n",
              "      <td>796.811577</td>\n",
              "      <td>1685.890864</td>\n",
              "      <td>1284.992478</td>\n",
              "      <td>2054.896390</td>\n",
              "      <td>2420.047163</td>\n",
              "      <td>1302.821382</td>\n",
              "      <td>1119.313995</td>\n",
              "      <td>1740.926312</td>\n",
              "      <td>2702.668453</td>\n",
              "      <td>1370.141309</td>\n",
              "      <td>1915.477072</td>\n",
              "      <td>1247.130940</td>\n",
              "    </tr>\n",
              "    <tr>\n",
              "      <th>20530</th>\n",
              "      <td>ZZZ3|26009</td>\n",
              "      <td>596.0620</td>\n",
              "      <td>801.6370</td>\n",
              "      <td>437.2690</td>\n",
              "      <td>512.7810</td>\n",
              "      <td>475.5870</td>\n",
              "      <td>397.1120</td>\n",
              "      <td>462.0800</td>\n",
              "      <td>642.2230</td>\n",
              "      <td>542.8120</td>\n",
              "      <td>995.4330</td>\n",
              "      <td>511.4500</td>\n",
              "      <td>404.1260</td>\n",
              "      <td>138.5750</td>\n",
              "      <td>454.4840</td>\n",
              "      <td>619.1050</td>\n",
              "      <td>401.4800</td>\n",
              "      <td>355.1990</td>\n",
              "      <td>551.4870</td>\n",
              "      <td>591.0270</td>\n",
              "      <td>315.0860</td>\n",
              "      <td>555.0330</td>\n",
              "      <td>525.6920</td>\n",
              "      <td>497.2630</td>\n",
              "      <td>559.6240</td>\n",
              "      <td>355.5310</td>\n",
              "      <td>509.2980</td>\n",
              "      <td>643.3020</td>\n",
              "      <td>569.9870</td>\n",
              "      <td>479.3250</td>\n",
              "      <td>327.8100</td>\n",
              "      <td>538.7070</td>\n",
              "      <td>203.4880</td>\n",
              "      <td>449.6570</td>\n",
              "      <td>393.8670</td>\n",
              "      <td>441.1380</td>\n",
              "      <td>673.4420</td>\n",
              "      <td>192.0070</td>\n",
              "      <td>379.6060</td>\n",
              "      <td>377.3580</td>\n",
              "      <td>...</td>\n",
              "      <td>1351.089749</td>\n",
              "      <td>1177.478188</td>\n",
              "      <td>800.048908</td>\n",
              "      <td>937.122926</td>\n",
              "      <td>1188.070439</td>\n",
              "      <td>668.569920</td>\n",
              "      <td>832.671673</td>\n",
              "      <td>947.578776</td>\n",
              "      <td>651.517714</td>\n",
              "      <td>523.584284</td>\n",
              "      <td>588.452804</td>\n",
              "      <td>982.858814</td>\n",
              "      <td>877.006018</td>\n",
              "      <td>1090.810659</td>\n",
              "      <td>1014.996743</td>\n",
              "      <td>1156.504884</td>\n",
              "      <td>1044.953424</td>\n",
              "      <td>809.799848</td>\n",
              "      <td>795.838335</td>\n",
              "      <td>1213.093917</td>\n",
              "      <td>817.651833</td>\n",
              "      <td>944.025465</td>\n",
              "      <td>1086.257423</td>\n",
              "      <td>1060.453551</td>\n",
              "      <td>853.752161</td>\n",
              "      <td>946.050862</td>\n",
              "      <td>1098.363628</td>\n",
              "      <td>1633.154245</td>\n",
              "      <td>510.125735</td>\n",
              "      <td>1066.862708</td>\n",
              "      <td>1318.307982</td>\n",
              "      <td>819.011279</td>\n",
              "      <td>853.197498</td>\n",
              "      <td>1264.248865</td>\n",
              "      <td>1091.778096</td>\n",
              "      <td>1148.217844</td>\n",
              "      <td>857.336078</td>\n",
              "      <td>473.853001</td>\n",
              "      <td>1027.285482</td>\n",
              "      <td>916.155785</td>\n",
              "    </tr>\n",
              "  </tbody>\n",
              "</table>\n",
              "<p>20531 rows × 11070 columns</p>\n",
              "</div>"
            ],
            "text/plain": [
              "             gene_id  ...  TCGA-CG-4477-01A-01R-1157-13\n",
              "0        ?|100130426  ...                           NaN\n",
              "1        ?|100133144  ...                     17.874417\n",
              "2        ?|100134869  ...                     14.919338\n",
              "3            ?|10357  ...                    703.713324\n",
              "4            ?|10431  ...                   1736.988111\n",
              "...              ...  ...                           ...\n",
              "20526  ZYG11A|440590  ...                    217.431795\n",
              "20527   ZYG11B|79699  ...                    859.078048\n",
              "20528       ZYX|7791  ...                   2497.814797\n",
              "20529    ZZEF1|23140  ...                   1247.130940\n",
              "20530     ZZZ3|26009  ...                    916.155785\n",
              "\n",
              "[20531 rows x 11070 columns]"
            ]
          },
          "metadata": {
            "tags": []
          },
          "execution_count": 42
        }
      ]
    },
    {
      "cell_type": "markdown",
      "metadata": {
        "id": "lVbE1ro0kJKV"
      },
      "source": [
        "## Merge the two DataSet (drug_res, gene_exp)\n",
        "- bcr_patient_barcode in drug_res\n",
        "- gene_exp의 각 column의 앞 10자리 index\n",
        "    - 데이터가 커서 전치 불가"
      ]
    },
    {
      "cell_type": "code",
      "metadata": {
        "id": "ibLSWxvZJEHC",
        "colab": {
          "base_uri": "https://localhost:8080/"
        },
        "outputId": "ce497a1a-955c-4b9f-bba0-8529a34a5549"
      },
      "source": [
        "patients_drug_res = list(drug_res_c.bcr_patient_barcode.unique())    # drug_res_c 데이터의 환자 유일값\n",
        "len(patients_drug_res)\n",
        "# 중복 제거 전 -> 593"
      ],
      "execution_count": 166,
      "outputs": [
        {
          "output_type": "execute_result",
          "data": {
            "text/plain": [
              "154"
            ]
          },
          "metadata": {
            "tags": []
          },
          "execution_count": 166
        }
      ]
    },
    {
      "cell_type": "code",
      "metadata": {
        "colab": {
          "base_uri": "https://localhost:8080/"
        },
        "id": "fmR_rTBFZmdR",
        "outputId": "1204c842-c63e-4e75-a434-cf3d226118dc"
      },
      "source": [
        "patients_gene = list(gene_exp.columns[1:])\n",
        "print(f\"patients_gene 길이 : {len(patients_gene)} ('gene_id' 제외)\")\n",
        "print()\n",
        "print(f\"gene_exp 데이터의 컬럼명 형식: {patients_gene[0]}\")"
      ],
      "execution_count": 83,
      "outputs": [
        {
          "output_type": "stream",
          "text": [
            "patients_gene 길이 : 11069 ('gene_id' 제외)\n",
            "\n",
            "gene_exp 데이터의 컬럼명 형식: TCGA-OR-A5J1-01A-11R-A29S-07\n"
          ],
          "name": "stdout"
        }
      ]
    },
    {
      "cell_type": "code",
      "metadata": {
        "colab": {
          "base_uri": "https://localhost:8080/",
          "height": 35
        },
        "id": "kAXXT4CdZmZv",
        "outputId": "18fe083f-5aa8-4a0f-d1ca-762ff547bfdc"
      },
      "source": [
        "# dataframe 전치는 데이터가 너무 커서 메모리 부족\n",
        "# 컬럼명을 리스트로 만들어서 인덱스로 접근해서 따로 뽑을 예정\n",
        "\n",
        "# bcr_patients_barcode와 맞추기 위해 문자열 앞 12개만 추출\n",
        "patients_gene_c = list(map(lambda x: x[:12], patients_gene))\n",
        "patients_gene_c[0]"
      ],
      "execution_count": 84,
      "outputs": [
        {
          "output_type": "execute_result",
          "data": {
            "application/vnd.google.colaboratory.intrinsic+json": {
              "type": "string"
            },
            "text/plain": [
              "'TCGA-OR-A5J1'"
            ]
          },
          "metadata": {
            "tags": []
          },
          "execution_count": 84
        }
      ]
    },
    {
      "cell_type": "code",
      "metadata": {
        "id": "DnFyfYxwndP_"
      },
      "source": [
        "# # < list index example >\n",
        "# a = ['a','b','c']\n",
        "# b = 'b'\n",
        "\n",
        "# a.index(b)\n",
        "# >>> 1\n",
        "\n",
        "patients_gene_c_idx = []    # gene_exp 데이터에서 drug_res_c의 유일한 환자와 일치하는 컬럼 인덱스 값 리스트\n",
        "for patient in patients_drug_res:\n",
        "    try:\n",
        "        patients_gene_c_idx.append(patients_gene_c.index(patient))\n",
        "    except:\n",
        "        continue"
      ],
      "execution_count": 85,
      "outputs": []
    },
    {
      "cell_type": "code",
      "metadata": {
        "colab": {
          "base_uri": "https://localhost:8080/"
        },
        "id": "08Vphx6BokuI",
        "outputId": "5db4c76c-0ced-4395-9302-a49404b2fd22"
      },
      "source": [
        "len(patients_gene_c_idx)"
      ],
      "execution_count": 86,
      "outputs": [
        {
          "output_type": "execute_result",
          "data": {
            "text/plain": [
              "150"
            ]
          },
          "metadata": {
            "tags": []
          },
          "execution_count": 86
        }
      ]
    },
    {
      "cell_type": "code",
      "metadata": {
        "colab": {
          "base_uri": "https://localhost:8080/"
        },
        "id": "Fi3ya6oshRLJ",
        "outputId": "de691fe3-fda8-4aaa-8c7a-787a1865c2aa"
      },
      "source": [
        "patients_gene_c_idx[:10]"
      ],
      "execution_count": 87,
      "outputs": [
        {
          "output_type": "execute_result",
          "data": {
            "text/plain": [
              "[3442, 3504, 3511, 3572, 3492, 3578, 3689, 3521, 3692, 3665]"
            ]
          },
          "metadata": {
            "tags": []
          },
          "execution_count": 87
        }
      ]
    },
    {
      "cell_type": "code",
      "metadata": {
        "id": "yivckJF1holN"
      },
      "source": [
        "gene_id = list(gene_exp.gene_id)\n",
        "\n",
        "gene_exp_c = gene_exp.iloc[:,patients_gene_c_idx].T    # gene_exp 데이터 중 drug_res의 bcr_patient_barcode와 일치하는 컬럼만 추출\n",
        "gene_exp_c.columns = gene_id\n",
        "\n",
        "gene_exp_c.reset_index(drop=False, inplace=True)"
      ],
      "execution_count": 143,
      "outputs": []
    },
    {
      "cell_type": "code",
      "metadata": {
        "id": "5SsdYCL2no8w"
      },
      "source": [
        "gene_exp_patients_full = list(gene_exp_c['index'])    # gene_exp_c 데이터에서 index값으로 들어간 환자 바코드 전체\n",
        "gene_exp_patients_part = list(map(lambda x: x[:12], gene_exp_patients_full))     # drug_res 데이터와 merge 하기 위해 환자 바코드 일부만 추출\n",
        "gene_exp_patients_part = pd.DataFrame(gene_exp_patients_part, columns=['bcr_patient_barcode'])\n",
        "\n",
        "\n",
        "## 보기 쉽게 환자 바코드 10자리를 앞으로 가져오기 위해 컬럼 추가 대신 concat으로 붙여줌\n",
        "gene_exp_c = pd.concat([gene_exp_patients_part, gene_exp_c], axis=1)"
      ],
      "execution_count": 144,
      "outputs": []
    },
    {
      "cell_type": "code",
      "metadata": {
        "colab": {
          "base_uri": "https://localhost:8080/",
          "height": 398
        },
        "id": "_zw3HIN0pL-Y",
        "outputId": "a5ea021b-927c-4dd4-98d3-8415b687cc96"
      },
      "source": [
        "print(len(gene_exp_c))\n",
        "\n",
        "dp(gene_exp_c.tail(2))"
      ],
      "execution_count": 161,
      "outputs": [
        {
          "output_type": "stream",
          "text": [
            "150\n"
          ],
          "name": "stdout"
        },
        {
          "output_type": "display_data",
          "data": {
            "text/html": [
              "<div>\n",
              "<style scoped>\n",
              "    .dataframe tbody tr th:only-of-type {\n",
              "        vertical-align: middle;\n",
              "    }\n",
              "\n",
              "    .dataframe tbody tr th {\n",
              "        vertical-align: top;\n",
              "    }\n",
              "\n",
              "    .dataframe thead th {\n",
              "        text-align: right;\n",
              "    }\n",
              "</style>\n",
              "<table border=\"1\" class=\"dataframe\">\n",
              "  <thead>\n",
              "    <tr style=\"text-align: right;\">\n",
              "      <th></th>\n",
              "      <th>bcr_patient_barcode</th>\n",
              "      <th>index</th>\n",
              "      <th>?|100130426</th>\n",
              "      <th>?|100133144</th>\n",
              "      <th>?|100134869</th>\n",
              "      <th>?|10357</th>\n",
              "      <th>?|10431</th>\n",
              "      <th>?|136542</th>\n",
              "      <th>?|155060</th>\n",
              "      <th>?|26823</th>\n",
              "      <th>?|280660</th>\n",
              "      <th>?|317712</th>\n",
              "      <th>?|340602</th>\n",
              "      <th>?|388795</th>\n",
              "      <th>?|390284</th>\n",
              "      <th>?|391343</th>\n",
              "      <th>?|391714</th>\n",
              "      <th>?|404770</th>\n",
              "      <th>?|441362</th>\n",
              "      <th>?|442388</th>\n",
              "      <th>?|553137</th>\n",
              "      <th>?|57714</th>\n",
              "      <th>?|645851</th>\n",
              "      <th>?|652919</th>\n",
              "      <th>?|653553</th>\n",
              "      <th>?|728045</th>\n",
              "      <th>?|728603</th>\n",
              "      <th>?|728788</th>\n",
              "      <th>?|729884</th>\n",
              "      <th>?|8225</th>\n",
              "      <th>?|90288</th>\n",
              "      <th>A1BG|1</th>\n",
              "      <th>A1CF|29974</th>\n",
              "      <th>A2BP1|54715</th>\n",
              "      <th>A2LD1|87769</th>\n",
              "      <th>A2M|2</th>\n",
              "      <th>A2ML1|144568</th>\n",
              "      <th>A4GALT|53947</th>\n",
              "      <th>A4GNT|51146</th>\n",
              "      <th>AAA1|404744</th>\n",
              "      <th>...</th>\n",
              "      <th>ZPBP2|124626</th>\n",
              "      <th>ZPLD1|131368</th>\n",
              "      <th>ZRANB1|54764</th>\n",
              "      <th>ZRANB2|9406</th>\n",
              "      <th>ZRANB3|84083</th>\n",
              "      <th>ZRSR2|8233</th>\n",
              "      <th>ZSCAN10|84891</th>\n",
              "      <th>ZSCAN1|284312</th>\n",
              "      <th>ZSCAN12|9753</th>\n",
              "      <th>ZSCAN12P1|221584</th>\n",
              "      <th>ZSCAN16|80345</th>\n",
              "      <th>ZSCAN18|65982</th>\n",
              "      <th>ZSCAN20|7579</th>\n",
              "      <th>ZSCAN21|7589</th>\n",
              "      <th>ZSCAN22|342945</th>\n",
              "      <th>ZSCAN23|222696</th>\n",
              "      <th>ZSCAN2|54993</th>\n",
              "      <th>ZSCAN29|146050</th>\n",
              "      <th>ZSCAN4|201516</th>\n",
              "      <th>ZSCAN5A|79149</th>\n",
              "      <th>ZSCAN5B|342933</th>\n",
              "      <th>ZSWIM1|90204</th>\n",
              "      <th>ZSWIM2|151112</th>\n",
              "      <th>ZSWIM3|140831</th>\n",
              "      <th>ZSWIM4|65249</th>\n",
              "      <th>ZSWIM5|57643</th>\n",
              "      <th>ZSWIM6|57688</th>\n",
              "      <th>ZSWIM7|125150</th>\n",
              "      <th>ZUFSP|221302</th>\n",
              "      <th>ZW10|9183</th>\n",
              "      <th>ZWILCH|55055</th>\n",
              "      <th>ZWINT|11130</th>\n",
              "      <th>ZXDA|7789</th>\n",
              "      <th>ZXDB|158586</th>\n",
              "      <th>ZXDC|79364</th>\n",
              "      <th>ZYG11A|440590</th>\n",
              "      <th>ZYG11B|79699</th>\n",
              "      <th>ZYX|7791</th>\n",
              "      <th>ZZEF1|23140</th>\n",
              "      <th>ZZZ3|26009</th>\n",
              "    </tr>\n",
              "  </thead>\n",
              "  <tbody>\n",
              "    <tr>\n",
              "      <th>148</th>\n",
              "      <td>TCGA-CA-5256</td>\n",
              "      <td>TCGA-CA-5256-01A-01R-1410-07</td>\n",
              "      <td>0.0</td>\n",
              "      <td>6.4456</td>\n",
              "      <td>7.8193</td>\n",
              "      <td>412.479</td>\n",
              "      <td>1998.150</td>\n",
              "      <td>0.0</td>\n",
              "      <td>60.7582</td>\n",
              "      <td>0.0</td>\n",
              "      <td>0.0</td>\n",
              "      <td>0.0</td>\n",
              "      <td>0.0000</td>\n",
              "      <td>1.0567</td>\n",
              "      <td>2.6417</td>\n",
              "      <td>0.0</td>\n",
              "      <td>0.0</td>\n",
              "      <td>0.0</td>\n",
              "      <td>0.0</td>\n",
              "      <td>0.0</td>\n",
              "      <td>0.0</td>\n",
              "      <td>66.5698</td>\n",
              "      <td>0.5283</td>\n",
              "      <td>0.0000</td>\n",
              "      <td>109.893</td>\n",
              "      <td>0.0</td>\n",
              "      <td>0.0</td>\n",
              "      <td>0.0</td>\n",
              "      <td>1.5850</td>\n",
              "      <td>726.456</td>\n",
              "      <td>5.2833</td>\n",
              "      <td>63.3998</td>\n",
              "      <td>291.1110</td>\n",
              "      <td>0.0000</td>\n",
              "      <td>340.573</td>\n",
              "      <td>2434.53</td>\n",
              "      <td>0.0</td>\n",
              "      <td>53.8898</td>\n",
              "      <td>0.0</td>\n",
              "      <td>0.0</td>\n",
              "      <td>...</td>\n",
              "      <td>0.0</td>\n",
              "      <td>0.0000</td>\n",
              "      <td>413.684</td>\n",
              "      <td>1469.220</td>\n",
              "      <td>103.0250</td>\n",
              "      <td>184.388</td>\n",
              "      <td>0.0000</td>\n",
              "      <td>0.0000</td>\n",
              "      <td>122.5730</td>\n",
              "      <td>9.510</td>\n",
              "      <td>186.5010</td>\n",
              "      <td>390.966</td>\n",
              "      <td>28.0016</td>\n",
              "      <td>168.517</td>\n",
              "      <td>81.8914</td>\n",
              "      <td>1.0567</td>\n",
              "      <td>168.010</td>\n",
              "      <td>227.183</td>\n",
              "      <td>0.0</td>\n",
              "      <td>63.9281</td>\n",
              "      <td>0.0000</td>\n",
              "      <td>533.615</td>\n",
              "      <td>0.0</td>\n",
              "      <td>384.097</td>\n",
              "      <td>108.308</td>\n",
              "      <td>175.406</td>\n",
              "      <td>240.919</td>\n",
              "      <td>255.470</td>\n",
              "      <td>249.373</td>\n",
              "      <td>418.439</td>\n",
              "      <td>639.757</td>\n",
              "      <td>1732.930</td>\n",
              "      <td>20.0766</td>\n",
              "      <td>239.334</td>\n",
              "      <td>452.78</td>\n",
              "      <td>0.5283</td>\n",
              "      <td>624.488</td>\n",
              "      <td>2276.05</td>\n",
              "      <td>213.446</td>\n",
              "      <td>621.318</td>\n",
              "    </tr>\n",
              "    <tr>\n",
              "      <th>149</th>\n",
              "      <td>TCGA-A6-6142</td>\n",
              "      <td>TCGA-A6-6142-01A-11R-1774-07</td>\n",
              "      <td>0.0</td>\n",
              "      <td>4.1361</td>\n",
              "      <td>8.7162</td>\n",
              "      <td>191.961</td>\n",
              "      <td>609.902</td>\n",
              "      <td>0.0</td>\n",
              "      <td>94.6400</td>\n",
              "      <td>0.0</td>\n",
              "      <td>0.0</td>\n",
              "      <td>0.0</td>\n",
              "      <td>0.5842</td>\n",
              "      <td>0.0000</td>\n",
              "      <td>4.6736</td>\n",
              "      <td>0.0</td>\n",
              "      <td>0.0</td>\n",
              "      <td>0.0</td>\n",
              "      <td>0.0</td>\n",
              "      <td>0.0</td>\n",
              "      <td>0.0</td>\n",
              "      <td>781.6560</td>\n",
              "      <td>5.8420</td>\n",
              "      <td>2.3368</td>\n",
              "      <td>405.433</td>\n",
              "      <td>0.0</td>\n",
              "      <td>0.0</td>\n",
              "      <td>0.0</td>\n",
              "      <td>32.1309</td>\n",
              "      <td>779.904</td>\n",
              "      <td>0.0000</td>\n",
              "      <td>38.5161</td>\n",
              "      <td>78.8667</td>\n",
              "      <td>1.7526</td>\n",
              "      <td>158.674</td>\n",
              "      <td>8021.01</td>\n",
              "      <td>0.0</td>\n",
              "      <td>605.2290</td>\n",
              "      <td>0.0</td>\n",
              "      <td>0.0</td>\n",
              "      <td>...</td>\n",
              "      <td>0.0</td>\n",
              "      <td>0.5842</td>\n",
              "      <td>583.029</td>\n",
              "      <td>849.178</td>\n",
              "      <td>25.1205</td>\n",
              "      <td>210.311</td>\n",
              "      <td>1.1684</td>\n",
              "      <td>4.6736</td>\n",
              "      <td>64.2617</td>\n",
              "      <td>39.188</td>\n",
              "      <td>88.1846</td>\n",
              "      <td>370.965</td>\n",
              "      <td>65.4301</td>\n",
              "      <td>153.346</td>\n",
              "      <td>57.2514</td>\n",
              "      <td>1.1684</td>\n",
              "      <td>180.517</td>\n",
              "      <td>244.779</td>\n",
              "      <td>0.0</td>\n",
              "      <td>82.9560</td>\n",
              "      <td>0.5842</td>\n",
              "      <td>425.880</td>\n",
              "      <td>0.0</td>\n",
              "      <td>160.654</td>\n",
              "      <td>783.409</td>\n",
              "      <td>228.421</td>\n",
              "      <td>341.171</td>\n",
              "      <td>212.251</td>\n",
              "      <td>120.929</td>\n",
              "      <td>477.873</td>\n",
              "      <td>334.587</td>\n",
              "      <td>539.798</td>\n",
              "      <td>21.6153</td>\n",
              "      <td>288.009</td>\n",
              "      <td>1086.61</td>\n",
              "      <td>1.1684</td>\n",
              "      <td>543.888</td>\n",
              "      <td>6089.67</td>\n",
              "      <td>1525.920</td>\n",
              "      <td>620.418</td>\n",
              "    </tr>\n",
              "  </tbody>\n",
              "</table>\n",
              "<p>2 rows × 20533 columns</p>\n",
              "</div>"
            ],
            "text/plain": [
              "    bcr_patient_barcode                         index  ...  ZZEF1|23140  ZZZ3|26009\n",
              "148        TCGA-CA-5256  TCGA-CA-5256-01A-01R-1410-07  ...      213.446     621.318\n",
              "149        TCGA-A6-6142  TCGA-A6-6142-01A-11R-1774-07  ...     1525.920     620.418\n",
              "\n",
              "[2 rows x 20533 columns]"
            ]
          },
          "metadata": {
            "tags": []
          }
        }
      ]
    },
    {
      "cell_type": "markdown",
      "metadata": {
        "id": "ZtqPSFf2nc07"
      },
      "source": [
        "## merge 문제\n",
        "- gene_exp 데이터 컬럼과 drug_res_c 데이터의 환자 bcr_patient_barcode 컬럼을 이용해서 일치하는 gene_expression만 추출\n",
        "- 컬럼 환자 bcr_patient_barcode는 154개 였는데 일치하는 건 150개로 나옴.."
      ]
    },
    {
      "cell_type": "markdown",
      "metadata": {
        "id": "XMT0ym2fbp5p"
      },
      "source": [
        "## 상위 약물 6개에 대한 drug_res 환자만 추출하고 이에 맞는 gene_exp 데이터 merge"
      ]
    },
    {
      "cell_type": "code",
      "metadata": {
        "id": "xJM3Emutncgn",
        "colab": {
          "base_uri": "https://localhost:8080/"
        },
        "outputId": "d6ebe438-c063-4715-cd39-b6d4d5589da1"
      },
      "source": [
        "drug_top6 = list(drug_res_c.integrated_name.value_counts().keys()[:6])    # 사용량 상위 6개 약물\n",
        "drug_top6"
      ],
      "execution_count": 146,
      "outputs": [
        {
          "output_type": "execute_result",
          "data": {
            "text/plain": [
              "['fluorouracil',\n",
              " 'folinic',\n",
              " 'oxaliplatin',\n",
              " 'bevacizumab',\n",
              " 'irinotecan',\n",
              " 'capecitabine']"
            ]
          },
          "metadata": {
            "tags": []
          },
          "execution_count": 146
        }
      ]
    },
    {
      "cell_type": "code",
      "metadata": {
        "id": "4pvP2IEakA12"
      },
      "source": [
        "index_for_drop = []\n",
        "for i in range(len(drug_res_c)):\n",
        "    if drug_res_c.iloc[i, -1] not in drug_top6:\n",
        "        index_for_drop.append(i)    # 나중에 한꺼번에 drop하기 위해 index_for_drop list에 담아둠"
      ],
      "execution_count": 92,
      "outputs": []
    },
    {
      "cell_type": "code",
      "metadata": {
        "colab": {
          "base_uri": "https://localhost:8080/"
        },
        "id": "wz4WaugLgJEs",
        "outputId": "ec2504c4-1870-4f43-9685-167e14835130"
      },
      "source": [
        "print(f\"사용량 상위 6개 약물의 합: {drug_res_c.integrated_name.value_counts()[:6].sum()}\")\n",
        "print(f\"drug_res_c 전체 약물 수 : {len(drug_res_c)}\")\n",
        "print()\n",
        "print(f\"위 두 숫자의 차이 = (len(index_for_drop)): {len(index_for_drop)}\")\n",
        "print(\"즉, 상위 6개 약물이 542번 사용되었고 그 외 약물이 51번 사용됨\")"
      ],
      "execution_count": 183,
      "outputs": [
        {
          "output_type": "stream",
          "text": [
            "사용량 상위 6개 약물의 합: 542\n",
            "drug_res_c 전체 약물 수 : 593\n",
            "\n",
            "위 두 숫자의 차이 = (len(index_for_drop)): 51\n",
            "즉, 상위 6개 약물이 542번 사용되었고 그 외 약물이 51번 사용됨\n"
          ],
          "name": "stdout"
        }
      ]
    },
    {
      "cell_type": "code",
      "metadata": {
        "colab": {
          "base_uri": "https://localhost:8080/",
          "height": 541
        },
        "id": "oE1N88fChkQ3",
        "outputId": "06b6998c-a131-4bf7-f27b-ad95b99882de"
      },
      "source": [
        "## theraphy_periods 컬럼 추가\n",
        "drug6_res_c = drug_res_c.drop(index_for_drop)\n",
        "drug6_res_c[\"theraphy_period\"] = drug6_res_c.days_to_drug_therapy_end - drug6_res_c.days_to_drug_therapy_start\n",
        "drug6_res_c\n",
        "\n",
        "# https://www.biostars.org/p/126631/\n",
        "# days_to_drug_theraphy columns 설명"
      ],
      "execution_count": 104,
      "outputs": [
        {
          "output_type": "execute_result",
          "data": {
            "text/html": [
              "<div>\n",
              "<style scoped>\n",
              "    .dataframe tbody tr th:only-of-type {\n",
              "        vertical-align: middle;\n",
              "    }\n",
              "\n",
              "    .dataframe tbody tr th {\n",
              "        vertical-align: top;\n",
              "    }\n",
              "\n",
              "    .dataframe thead th {\n",
              "        text-align: right;\n",
              "    }\n",
              "</style>\n",
              "<table border=\"1\" class=\"dataframe\">\n",
              "  <thead>\n",
              "    <tr style=\"text-align: right;\">\n",
              "      <th></th>\n",
              "      <th>Cancer Type</th>\n",
              "      <th>bcr_patient_barcode</th>\n",
              "      <th>drug_name</th>\n",
              "      <th>measure_of_response</th>\n",
              "      <th>regimen_indication</th>\n",
              "      <th>days_to_drug_therapy_start</th>\n",
              "      <th>days_to_drug_therapy_end</th>\n",
              "      <th>therapy_types</th>\n",
              "      <th>integrated_name</th>\n",
              "      <th>theraphy_period</th>\n",
              "    </tr>\n",
              "  </thead>\n",
              "  <tbody>\n",
              "    <tr>\n",
              "      <th>0</th>\n",
              "      <td>COAD</td>\n",
              "      <td>TCGA-D5-5539</td>\n",
              "      <td>5-FU</td>\n",
              "      <td>NaN</td>\n",
              "      <td>ADJUVANT</td>\n",
              "      <td>38.0</td>\n",
              "      <td>195.0</td>\n",
              "      <td>Chemotherapy</td>\n",
              "      <td>fluorouracil</td>\n",
              "      <td>157.0</td>\n",
              "    </tr>\n",
              "    <tr>\n",
              "      <th>1</th>\n",
              "      <td>COAD</td>\n",
              "      <td>TCGA-A6-6648</td>\n",
              "      <td>Oxaliplatin</td>\n",
              "      <td>NaN</td>\n",
              "      <td>OTHER, SPECIFY IN NOTES</td>\n",
              "      <td>63.0</td>\n",
              "      <td>91.0</td>\n",
              "      <td>NaN</td>\n",
              "      <td>oxaliplatin</td>\n",
              "      <td>28.0</td>\n",
              "    </tr>\n",
              "    <tr>\n",
              "      <th>3</th>\n",
              "      <td>COAD</td>\n",
              "      <td>TCGA-A6-6648</td>\n",
              "      <td>Leucovorin</td>\n",
              "      <td>NaN</td>\n",
              "      <td>OTHER, SPECIFY IN NOTES</td>\n",
              "      <td>63.0</td>\n",
              "      <td>91.0</td>\n",
              "      <td>NaN</td>\n",
              "      <td>folinic</td>\n",
              "      <td>28.0</td>\n",
              "    </tr>\n",
              "    <tr>\n",
              "      <th>4</th>\n",
              "      <td>COAD</td>\n",
              "      <td>TCGA-A6-6648</td>\n",
              "      <td>5 FU</td>\n",
              "      <td>NaN</td>\n",
              "      <td>OTHER, SPECIFY IN NOTES</td>\n",
              "      <td>63.0</td>\n",
              "      <td>93.0</td>\n",
              "      <td>NaN</td>\n",
              "      <td>fluorouracil</td>\n",
              "      <td>30.0</td>\n",
              "    </tr>\n",
              "    <tr>\n",
              "      <th>5</th>\n",
              "      <td>COAD</td>\n",
              "      <td>TCGA-AA-3560</td>\n",
              "      <td>Folinic acid</td>\n",
              "      <td>Complete Response</td>\n",
              "      <td>NaN</td>\n",
              "      <td>31.0</td>\n",
              "      <td>212.0</td>\n",
              "      <td>Chemotherapy</td>\n",
              "      <td>folinic</td>\n",
              "      <td>181.0</td>\n",
              "    </tr>\n",
              "    <tr>\n",
              "      <th>...</th>\n",
              "      <td>...</td>\n",
              "      <td>...</td>\n",
              "      <td>...</td>\n",
              "      <td>...</td>\n",
              "      <td>...</td>\n",
              "      <td>...</td>\n",
              "      <td>...</td>\n",
              "      <td>...</td>\n",
              "      <td>...</td>\n",
              "      <td>...</td>\n",
              "    </tr>\n",
              "    <tr>\n",
              "      <th>588</th>\n",
              "      <td>COAD</td>\n",
              "      <td>TCGA-A6-2674</td>\n",
              "      <td>Leucovorin</td>\n",
              "      <td>NaN</td>\n",
              "      <td>RECURRENCE</td>\n",
              "      <td>761.0</td>\n",
              "      <td>944.0</td>\n",
              "      <td>Other, specify in notesancillary</td>\n",
              "      <td>folinic</td>\n",
              "      <td>183.0</td>\n",
              "    </tr>\n",
              "    <tr>\n",
              "      <th>589</th>\n",
              "      <td>COAD</td>\n",
              "      <td>TCGA-A6-2674</td>\n",
              "      <td>Bevacizumab</td>\n",
              "      <td>NaN</td>\n",
              "      <td>RECURRENCE</td>\n",
              "      <td>761.0</td>\n",
              "      <td>944.0</td>\n",
              "      <td>Targeted Molecular therapy</td>\n",
              "      <td>bevacizumab</td>\n",
              "      <td>183.0</td>\n",
              "    </tr>\n",
              "    <tr>\n",
              "      <th>590</th>\n",
              "      <td>COAD</td>\n",
              "      <td>TCGA-A6-2674</td>\n",
              "      <td>Oxaliplatin</td>\n",
              "      <td>NaN</td>\n",
              "      <td>RECURRENCE</td>\n",
              "      <td>761.0</td>\n",
              "      <td>944.0</td>\n",
              "      <td>Chemotherapy</td>\n",
              "      <td>oxaliplatin</td>\n",
              "      <td>183.0</td>\n",
              "    </tr>\n",
              "    <tr>\n",
              "      <th>591</th>\n",
              "      <td>COAD</td>\n",
              "      <td>TCGA-A6-2674</td>\n",
              "      <td>Fluorouracil</td>\n",
              "      <td>NaN</td>\n",
              "      <td>RECURRENCE</td>\n",
              "      <td>761.0</td>\n",
              "      <td>946.0</td>\n",
              "      <td>Chemotherapy</td>\n",
              "      <td>fluorouracil</td>\n",
              "      <td>185.0</td>\n",
              "    </tr>\n",
              "    <tr>\n",
              "      <th>592</th>\n",
              "      <td>COAD</td>\n",
              "      <td>TCGA-A6-2674</td>\n",
              "      <td>Fluorouracil</td>\n",
              "      <td>NaN</td>\n",
              "      <td>RECURRENCE</td>\n",
              "      <td>761.0</td>\n",
              "      <td>944.0</td>\n",
              "      <td>Chemotherapy</td>\n",
              "      <td>fluorouracil</td>\n",
              "      <td>183.0</td>\n",
              "    </tr>\n",
              "  </tbody>\n",
              "</table>\n",
              "<p>542 rows × 10 columns</p>\n",
              "</div>"
            ],
            "text/plain": [
              "    Cancer Type bcr_patient_barcode  ... integrated_name theraphy_period\n",
              "0          COAD        TCGA-D5-5539  ...    fluorouracil           157.0\n",
              "1          COAD        TCGA-A6-6648  ...     oxaliplatin            28.0\n",
              "3          COAD        TCGA-A6-6648  ...         folinic            28.0\n",
              "4          COAD        TCGA-A6-6648  ...    fluorouracil            30.0\n",
              "5          COAD        TCGA-AA-3560  ...         folinic           181.0\n",
              "..          ...                 ...  ...             ...             ...\n",
              "588        COAD        TCGA-A6-2674  ...         folinic           183.0\n",
              "589        COAD        TCGA-A6-2674  ...     bevacizumab           183.0\n",
              "590        COAD        TCGA-A6-2674  ...     oxaliplatin           183.0\n",
              "591        COAD        TCGA-A6-2674  ...    fluorouracil           185.0\n",
              "592        COAD        TCGA-A6-2674  ...    fluorouracil           183.0\n",
              "\n",
              "[542 rows x 10 columns]"
            ]
          },
          "metadata": {
            "tags": []
          },
          "execution_count": 104
        }
      ]
    },
    {
      "cell_type": "code",
      "metadata": {
        "id": "RQR4Bg5RgI5T"
      },
      "source": [
        "patients_drug6_res = list(set(drug6_res_c.bcr_patient_barcode))\n",
        "patients_gene_exp = list(gene_exp_c.bcr_patient_barcode)\n",
        "\n",
        "not_match_patients = []    # 불일치 환자 명단\n",
        "match_patients = []\n",
        "\n",
        "for patient in patients_gene_exp:\n",
        "    \n",
        "    # gene_exp_c의 환자 바코드와 drug6_res_c 환자 바코드 비교\n",
        "    # gene_exp_c의 개별 환자바코드를 하나씩 순회하면서 drug6_res_c의 환자 바코드 리스트에 있는지 파악\n",
        "    # 일치하는 게 있어야만 merge 가능한 것임\n",
        "\n",
        "    if patient not in patients_drug6_res:\n",
        "        not_match_patients.append(patient)\n",
        "    else:\n",
        "        match_patients.append(patient)"
      ],
      "execution_count": 174,
      "outputs": []
    },
    {
      "cell_type": "code",
      "metadata": {
        "colab": {
          "base_uri": "https://localhost:8080/"
        },
        "id": "WA2bM9iixfe4",
        "outputId": "3c732e47-f0b7-457e-a701-71f5a1083b89"
      },
      "source": [
        "\n",
        "print(f\"drug6_res_c 데이터의 총 Row 길이는 {len(drug6_res_c)} 이고, 이 중 중복되지 않는 환자는 {len(patients_drug6_res)}명임\")\n",
        "print(\".    상위 약물 6개로 추리기 전에는 154명\")\n",
        "print(f\"gene_exp_c 데이터의 총 Row 길이는 {len(gene_exp_c)} 이고, 독립적이라 row개수와 환자 수 동일\")\n",
        "print()\n",
        "print(f\"위 코드에서 gene_exp_c와 drug6_res_c의 환자 바코드가 일치하는 경우는 {len(match_patients)} 이고, 불일치하는 경우는 {len(not_match_patients)} 임\")\n",
        "print()\n",
        "print(f\"\"\"\n",
        "durg_res 전체 데이터의 unique한 환자 수는 {len(list(drug_res.bcr_patient_barcode.unique()))} 명 이고,\n",
        "gene_exp 전체 데이터의 unique한 환자 수는 {len(list(gene_exp.columns))} 명임\n",
        "\"\"\")"
      ],
      "execution_count": 191,
      "outputs": [
        {
          "output_type": "stream",
          "text": [
            "drug6_res_c 데이터의 총 Row 길이는 542 이고, 이 중 중복되지 않는 환자는 142명임\n",
            ".    상위 약물 6개로 추리기 전에는 154명\n",
            "gene_exp_c 데이터의 총 Row 길이는 150 이고, 독립적이라 row개수와 환자 수 동일\n",
            "\n",
            "위 코드에서 gene_exp_c와 drug6_res_c의 환자 바코드가 일치하는 경우는 56 이고, 불일치하는 경우는 94 임\n",
            "\n",
            "\n",
            "durg_res 전체 데이터의 unique한 환자 수는 4328 명 이고,\n",
            "gene_exp 전체 데이터의 unique한 환자 수는 11070 명임\n",
            "\n"
          ],
          "name": "stdout"
        }
      ]
    },
    {
      "cell_type": "markdown",
      "metadata": {
        "id": "5lg_DJYBvhsn"
      },
      "source": [
        "## merge 문제\n",
        "- drug6_res_c의 환자 바코드와 gene_exp_c의 환자 바코드가 94개 불일치\n",
        "    - 약물 반응을 기록한 환자들 중 94명은 gene-expression 데이터가 없다는 것..?"
      ]
    },
    {
      "cell_type": "code",
      "metadata": {
        "colab": {
          "base_uri": "https://localhost:8080/",
          "height": 541
        },
        "id": "jt7tHAdrzJb5",
        "outputId": "b0853ecf-84e8-462a-e5bb-e93aca7bb382"
      },
      "source": [
        "drug6_res_c"
      ],
      "execution_count": 177,
      "outputs": [
        {
          "output_type": "execute_result",
          "data": {
            "text/html": [
              "<div>\n",
              "<style scoped>\n",
              "    .dataframe tbody tr th:only-of-type {\n",
              "        vertical-align: middle;\n",
              "    }\n",
              "\n",
              "    .dataframe tbody tr th {\n",
              "        vertical-align: top;\n",
              "    }\n",
              "\n",
              "    .dataframe thead th {\n",
              "        text-align: right;\n",
              "    }\n",
              "</style>\n",
              "<table border=\"1\" class=\"dataframe\">\n",
              "  <thead>\n",
              "    <tr style=\"text-align: right;\">\n",
              "      <th></th>\n",
              "      <th>Cancer Type</th>\n",
              "      <th>bcr_patient_barcode</th>\n",
              "      <th>drug_name</th>\n",
              "      <th>measure_of_response</th>\n",
              "      <th>regimen_indication</th>\n",
              "      <th>days_to_drug_therapy_start</th>\n",
              "      <th>days_to_drug_therapy_end</th>\n",
              "      <th>therapy_types</th>\n",
              "      <th>integrated_name</th>\n",
              "      <th>theraphy_period</th>\n",
              "    </tr>\n",
              "  </thead>\n",
              "  <tbody>\n",
              "    <tr>\n",
              "      <th>0</th>\n",
              "      <td>COAD</td>\n",
              "      <td>TCGA-D5-5539</td>\n",
              "      <td>5-FU</td>\n",
              "      <td>NaN</td>\n",
              "      <td>ADJUVANT</td>\n",
              "      <td>38.0</td>\n",
              "      <td>195.0</td>\n",
              "      <td>Chemotherapy</td>\n",
              "      <td>fluorouracil</td>\n",
              "      <td>157.0</td>\n",
              "    </tr>\n",
              "    <tr>\n",
              "      <th>1</th>\n",
              "      <td>COAD</td>\n",
              "      <td>TCGA-A6-6648</td>\n",
              "      <td>Oxaliplatin</td>\n",
              "      <td>NaN</td>\n",
              "      <td>OTHER, SPECIFY IN NOTES</td>\n",
              "      <td>63.0</td>\n",
              "      <td>91.0</td>\n",
              "      <td>NaN</td>\n",
              "      <td>oxaliplatin</td>\n",
              "      <td>28.0</td>\n",
              "    </tr>\n",
              "    <tr>\n",
              "      <th>3</th>\n",
              "      <td>COAD</td>\n",
              "      <td>TCGA-A6-6648</td>\n",
              "      <td>Leucovorin</td>\n",
              "      <td>NaN</td>\n",
              "      <td>OTHER, SPECIFY IN NOTES</td>\n",
              "      <td>63.0</td>\n",
              "      <td>91.0</td>\n",
              "      <td>NaN</td>\n",
              "      <td>folinic</td>\n",
              "      <td>28.0</td>\n",
              "    </tr>\n",
              "    <tr>\n",
              "      <th>4</th>\n",
              "      <td>COAD</td>\n",
              "      <td>TCGA-A6-6648</td>\n",
              "      <td>5 FU</td>\n",
              "      <td>NaN</td>\n",
              "      <td>OTHER, SPECIFY IN NOTES</td>\n",
              "      <td>63.0</td>\n",
              "      <td>93.0</td>\n",
              "      <td>NaN</td>\n",
              "      <td>fluorouracil</td>\n",
              "      <td>30.0</td>\n",
              "    </tr>\n",
              "    <tr>\n",
              "      <th>5</th>\n",
              "      <td>COAD</td>\n",
              "      <td>TCGA-AA-3560</td>\n",
              "      <td>Folinic acid</td>\n",
              "      <td>Complete Response</td>\n",
              "      <td>NaN</td>\n",
              "      <td>31.0</td>\n",
              "      <td>212.0</td>\n",
              "      <td>Chemotherapy</td>\n",
              "      <td>folinic</td>\n",
              "      <td>181.0</td>\n",
              "    </tr>\n",
              "    <tr>\n",
              "      <th>...</th>\n",
              "      <td>...</td>\n",
              "      <td>...</td>\n",
              "      <td>...</td>\n",
              "      <td>...</td>\n",
              "      <td>...</td>\n",
              "      <td>...</td>\n",
              "      <td>...</td>\n",
              "      <td>...</td>\n",
              "      <td>...</td>\n",
              "      <td>...</td>\n",
              "    </tr>\n",
              "    <tr>\n",
              "      <th>588</th>\n",
              "      <td>COAD</td>\n",
              "      <td>TCGA-A6-2674</td>\n",
              "      <td>Leucovorin</td>\n",
              "      <td>NaN</td>\n",
              "      <td>RECURRENCE</td>\n",
              "      <td>761.0</td>\n",
              "      <td>944.0</td>\n",
              "      <td>Other, specify in notesancillary</td>\n",
              "      <td>folinic</td>\n",
              "      <td>183.0</td>\n",
              "    </tr>\n",
              "    <tr>\n",
              "      <th>589</th>\n",
              "      <td>COAD</td>\n",
              "      <td>TCGA-A6-2674</td>\n",
              "      <td>Bevacizumab</td>\n",
              "      <td>NaN</td>\n",
              "      <td>RECURRENCE</td>\n",
              "      <td>761.0</td>\n",
              "      <td>944.0</td>\n",
              "      <td>Targeted Molecular therapy</td>\n",
              "      <td>bevacizumab</td>\n",
              "      <td>183.0</td>\n",
              "    </tr>\n",
              "    <tr>\n",
              "      <th>590</th>\n",
              "      <td>COAD</td>\n",
              "      <td>TCGA-A6-2674</td>\n",
              "      <td>Oxaliplatin</td>\n",
              "      <td>NaN</td>\n",
              "      <td>RECURRENCE</td>\n",
              "      <td>761.0</td>\n",
              "      <td>944.0</td>\n",
              "      <td>Chemotherapy</td>\n",
              "      <td>oxaliplatin</td>\n",
              "      <td>183.0</td>\n",
              "    </tr>\n",
              "    <tr>\n",
              "      <th>591</th>\n",
              "      <td>COAD</td>\n",
              "      <td>TCGA-A6-2674</td>\n",
              "      <td>Fluorouracil</td>\n",
              "      <td>NaN</td>\n",
              "      <td>RECURRENCE</td>\n",
              "      <td>761.0</td>\n",
              "      <td>946.0</td>\n",
              "      <td>Chemotherapy</td>\n",
              "      <td>fluorouracil</td>\n",
              "      <td>185.0</td>\n",
              "    </tr>\n",
              "    <tr>\n",
              "      <th>592</th>\n",
              "      <td>COAD</td>\n",
              "      <td>TCGA-A6-2674</td>\n",
              "      <td>Fluorouracil</td>\n",
              "      <td>NaN</td>\n",
              "      <td>RECURRENCE</td>\n",
              "      <td>761.0</td>\n",
              "      <td>944.0</td>\n",
              "      <td>Chemotherapy</td>\n",
              "      <td>fluorouracil</td>\n",
              "      <td>183.0</td>\n",
              "    </tr>\n",
              "  </tbody>\n",
              "</table>\n",
              "<p>542 rows × 10 columns</p>\n",
              "</div>"
            ],
            "text/plain": [
              "    Cancer Type bcr_patient_barcode  ... integrated_name theraphy_period\n",
              "0          COAD        TCGA-D5-5539  ...    fluorouracil           157.0\n",
              "1          COAD        TCGA-A6-6648  ...     oxaliplatin            28.0\n",
              "3          COAD        TCGA-A6-6648  ...         folinic            28.0\n",
              "4          COAD        TCGA-A6-6648  ...    fluorouracil            30.0\n",
              "5          COAD        TCGA-AA-3560  ...         folinic           181.0\n",
              "..          ...                 ...  ...             ...             ...\n",
              "588        COAD        TCGA-A6-2674  ...         folinic           183.0\n",
              "589        COAD        TCGA-A6-2674  ...     bevacizumab           183.0\n",
              "590        COAD        TCGA-A6-2674  ...     oxaliplatin           183.0\n",
              "591        COAD        TCGA-A6-2674  ...    fluorouracil           185.0\n",
              "592        COAD        TCGA-A6-2674  ...    fluorouracil           183.0\n",
              "\n",
              "[542 rows x 10 columns]"
            ]
          },
          "metadata": {
            "tags": []
          },
          "execution_count": 177
        }
      ]
    },
    {
      "cell_type": "code",
      "metadata": {
        "id": "xs7FT5IM1ssO"
      },
      "source": [
        ""
      ],
      "execution_count": null,
      "outputs": []
    },
    {
      "cell_type": "code",
      "metadata": {
        "id": "34Ld-sRp1soq"
      },
      "source": [
        ""
      ],
      "execution_count": null,
      "outputs": []
    },
    {
      "cell_type": "code",
      "metadata": {
        "id": "HJ3rGZUB1skw"
      },
      "source": [
        ""
      ],
      "execution_count": null,
      "outputs": []
    },
    {
      "cell_type": "code",
      "metadata": {
        "id": "zsI-QUVT1sLN"
      },
      "source": [
        ""
      ],
      "execution_count": null,
      "outputs": []
    },
    {
      "cell_type": "code",
      "metadata": {
        "id": "-RORuXFe5N9q"
      },
      "source": [
        "# suplmt_df = pd.read_excel(\"/content/drive/MyDrive/SW21Project/TCGA-CDR-SupplementalTableS1.xlsx\", index_col=0)\n",
        "# suplmt_coad = suplmt_df[suplmt_df['type'] == 'COAD']\n",
        "# suplmt_coad\n",
        "# patient_list_suplmt = suplmt_coad.bcr_patient_barcode.unique().tolist()\n",
        "# patient_list_drug = drug_res_c.bcr_patient_barcode.unique().tolist()\n",
        "\n",
        "# len(patient_list_drug), len(patient_list_suplmt)\n",
        "# # supplement table은 환자의 개인신상정보를 담고 있는 것 같은데 459명이고, 앞서 나온 drug-response의 환자는 총 154명으로 전체 환자의 약물반응성을 측정한 것은 아닌 것 같음\n",
        "\n"
      ],
      "execution_count": 178,
      "outputs": []
    },
    {
      "cell_type": "code",
      "metadata": {
        "id": "IwUkVqI1c9Bq"
      },
      "source": [
        "# suplmt_coad.treatment_outcome_first_course.value_counts()"
      ],
      "execution_count": 179,
      "outputs": []
    },
    {
      "cell_type": "code",
      "metadata": {
        "id": "74MFIau9g5l5"
      },
      "source": [
        "# suplmt_coad.Redaction.value_counts()"
      ],
      "execution_count": 180,
      "outputs": []
    },
    {
      "cell_type": "code",
      "metadata": {
        "id": "I6JdPYZk5ZPI"
      },
      "source": [
        "# clinical_df = pd.read_excel(\"/content/drive/MyDrive/SW21Project/clinical_PANCAN_patient_with_followup.xlsx\")\n",
        "# clinical_coad = clinical_df[clinical_df['acronym'] == 'COAD']"
      ],
      "execution_count": 181,
      "outputs": []
    },
    {
      "cell_type": "code",
      "metadata": {
        "id": "huEwmp_PoQR4"
      },
      "source": [
        "# clinical_coad"
      ],
      "execution_count": 182,
      "outputs": []
    },
    {
      "cell_type": "code",
      "metadata": {
        "id": "PK7RvQgioWZD"
      },
      "source": [
        ""
      ],
      "execution_count": null,
      "outputs": []
    },
    {
      "cell_type": "code",
      "metadata": {
        "id": "VM279_u7hL49"
      },
      "source": [
        ""
      ],
      "execution_count": null,
      "outputs": []
    }
  ]
}