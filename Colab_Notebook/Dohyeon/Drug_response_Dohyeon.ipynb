{
  "nbformat": 4,
  "nbformat_minor": 0,
  "metadata": {
    "colab": {
      "name": "Drug_response_Dohyeon.ipynb",
      "provenance": [],
      "collapsed_sections": [],
      "authorship_tag": "ABX9TyN5hb/qfTzgHrmiPXr63eHV",
      "include_colab_link": true
    },
    "kernelspec": {
      "name": "python3",
      "display_name": "Python 3"
    },
    "language_info": {
      "name": "python"
    }
  },
  "cells": [
    {
      "cell_type": "markdown",
      "metadata": {
        "id": "view-in-github",
        "colab_type": "text"
      },
      "source": [
        "<a href=\"https://colab.research.google.com/github/hansuho113/SwUniv_CancerAnalysis/blob/main/Colab_Notebook/Dohyeon/Drug_response_Dohyeon.ipynb\" target=\"_parent\"><img src=\"https://colab.research.google.com/assets/colab-badge.svg\" alt=\"Open In Colab\"/></a>"
      ]
    },
    {
      "cell_type": "code",
      "metadata": {
        "colab": {
          "base_uri": "https://localhost:8080/"
        },
        "id": "6mySwXBNZ-XO",
        "outputId": "f105d5b5-f517-4dec-c846-d1dee013668d"
      },
      "source": [
        "from google.colab import drive\n",
        "drive.mount(\"/content/drive\")"
      ],
      "execution_count": 1,
      "outputs": [
        {
          "output_type": "stream",
          "text": [
            "Mounted at /content/drive\n"
          ],
          "name": "stdout"
        }
      ]
    },
    {
      "cell_type": "code",
      "metadata": {
        "id": "MMTs9mVuaYAz"
      },
      "source": [
        "import pandas as pd\n",
        "import numpy as np"
      ],
      "execution_count": 2,
      "outputs": []
    },
    {
      "cell_type": "code",
      "metadata": {
        "colab": {
          "base_uri": "https://localhost:8080/",
          "height": 490
        },
        "id": "S-KFx8Wqaamq",
        "outputId": "292f2218-bc50-4442-ecb7-aa732a4da557"
      },
      "source": [
        "drug_res = pd.read_table(\"/content/drive/MyDrive/SW21/TCGA_Drug_Response_07272017.txt\")\n",
        "drug_res"
      ],
      "execution_count": 45,
      "outputs": [
        {
          "output_type": "execute_result",
          "data": {
            "text/html": [
              "<div>\n",
              "<style scoped>\n",
              "    .dataframe tbody tr th:only-of-type {\n",
              "        vertical-align: middle;\n",
              "    }\n",
              "\n",
              "    .dataframe tbody tr th {\n",
              "        vertical-align: top;\n",
              "    }\n",
              "\n",
              "    .dataframe thead th {\n",
              "        text-align: right;\n",
              "    }\n",
              "</style>\n",
              "<table border=\"1\" class=\"dataframe\">\n",
              "  <thead>\n",
              "    <tr style=\"text-align: right;\">\n",
              "      <th></th>\n",
              "      <th>Cancer Type</th>\n",
              "      <th>bcr_patient_barcode</th>\n",
              "      <th>drug_name</th>\n",
              "      <th>measure_of_response</th>\n",
              "      <th>regimen_indication</th>\n",
              "      <th>days_to_drug_therapy_start</th>\n",
              "      <th>days_to_drug_therapy_end</th>\n",
              "      <th>therapy_types</th>\n",
              "    </tr>\n",
              "  </thead>\n",
              "  <tbody>\n",
              "    <tr>\n",
              "      <th>0</th>\n",
              "      <td>ACC</td>\n",
              "      <td>TCGA-PK-A5HB</td>\n",
              "      <td>Sorafenib</td>\n",
              "      <td>Clinical Progressive Disease</td>\n",
              "      <td>NaN</td>\n",
              "      <td>968.0</td>\n",
              "      <td>1029.0</td>\n",
              "      <td>Targeted Molecular therapy</td>\n",
              "    </tr>\n",
              "    <tr>\n",
              "      <th>1</th>\n",
              "      <td>ACC</td>\n",
              "      <td>TCGA-OR-A5K2</td>\n",
              "      <td>Adriamycin</td>\n",
              "      <td>NaN</td>\n",
              "      <td>NaN</td>\n",
              "      <td>118.0</td>\n",
              "      <td>298.0</td>\n",
              "      <td>Chemotherapy</td>\n",
              "    </tr>\n",
              "    <tr>\n",
              "      <th>2</th>\n",
              "      <td>ACC</td>\n",
              "      <td>TCGA-OR-A5K2</td>\n",
              "      <td>Cisplatin</td>\n",
              "      <td>NaN</td>\n",
              "      <td>NaN</td>\n",
              "      <td>118.0</td>\n",
              "      <td>298.0</td>\n",
              "      <td>Chemotherapy</td>\n",
              "    </tr>\n",
              "    <tr>\n",
              "      <th>3</th>\n",
              "      <td>ACC</td>\n",
              "      <td>TCGA-OR-A5K2</td>\n",
              "      <td>carboplatin</td>\n",
              "      <td>NaN</td>\n",
              "      <td>NaN</td>\n",
              "      <td>118.0</td>\n",
              "      <td>299.0</td>\n",
              "      <td>Chemotherapy</td>\n",
              "    </tr>\n",
              "    <tr>\n",
              "      <th>4</th>\n",
              "      <td>ACC</td>\n",
              "      <td>TCGA-OR-A5K2</td>\n",
              "      <td>etoposide</td>\n",
              "      <td>NaN</td>\n",
              "      <td>NaN</td>\n",
              "      <td>118.0</td>\n",
              "      <td>298.0</td>\n",
              "      <td>Chemotherapy</td>\n",
              "    </tr>\n",
              "    <tr>\n",
              "      <th>...</th>\n",
              "      <td>...</td>\n",
              "      <td>...</td>\n",
              "      <td>...</td>\n",
              "      <td>...</td>\n",
              "      <td>...</td>\n",
              "      <td>...</td>\n",
              "      <td>...</td>\n",
              "      <td>...</td>\n",
              "    </tr>\n",
              "    <tr>\n",
              "      <th>12566</th>\n",
              "      <td>UCS</td>\n",
              "      <td>TCGA-N5-A4RU</td>\n",
              "      <td>Cisplatin</td>\n",
              "      <td>Complete Response</td>\n",
              "      <td>NaN</td>\n",
              "      <td>48.0</td>\n",
              "      <td>113.0</td>\n",
              "      <td>Chemotherapy</td>\n",
              "    </tr>\n",
              "    <tr>\n",
              "      <th>12567</th>\n",
              "      <td>UVM</td>\n",
              "      <td>TCGA-V4-A9F3</td>\n",
              "      <td>fotemustine</td>\n",
              "      <td>NaN</td>\n",
              "      <td>NaN</td>\n",
              "      <td>27.0</td>\n",
              "      <td>175.0</td>\n",
              "      <td>Chemotherapy</td>\n",
              "    </tr>\n",
              "    <tr>\n",
              "      <th>12568</th>\n",
              "      <td>UVM</td>\n",
              "      <td>TCGA-V4-A9F1</td>\n",
              "      <td>fotemustine</td>\n",
              "      <td>NaN</td>\n",
              "      <td>NaN</td>\n",
              "      <td>22.0</td>\n",
              "      <td>147.0</td>\n",
              "      <td>Chemotherapy</td>\n",
              "    </tr>\n",
              "    <tr>\n",
              "      <th>12569</th>\n",
              "      <td>UVM</td>\n",
              "      <td>TCGA-V4-A9ET</td>\n",
              "      <td>fotemustine</td>\n",
              "      <td>NaN</td>\n",
              "      <td>NaN</td>\n",
              "      <td>21.0</td>\n",
              "      <td>174.0</td>\n",
              "      <td>Chemotherapy</td>\n",
              "    </tr>\n",
              "    <tr>\n",
              "      <th>12570</th>\n",
              "      <td>UVM</td>\n",
              "      <td>TCGA-V4-A9EM</td>\n",
              "      <td>fotemustine</td>\n",
              "      <td>NaN</td>\n",
              "      <td>NaN</td>\n",
              "      <td>24.0</td>\n",
              "      <td>187.0</td>\n",
              "      <td>Chemotherapy</td>\n",
              "    </tr>\n",
              "  </tbody>\n",
              "</table>\n",
              "<p>12571 rows × 8 columns</p>\n",
              "</div>"
            ],
            "text/plain": [
              "      Cancer Type  ...               therapy_types\n",
              "0             ACC  ...  Targeted Molecular therapy\n",
              "1             ACC  ...                Chemotherapy\n",
              "2             ACC  ...                Chemotherapy\n",
              "3             ACC  ...                Chemotherapy\n",
              "4             ACC  ...                Chemotherapy\n",
              "...           ...  ...                         ...\n",
              "12566         UCS  ...                Chemotherapy\n",
              "12567         UVM  ...                Chemotherapy\n",
              "12568         UVM  ...                Chemotherapy\n",
              "12569         UVM  ...                Chemotherapy\n",
              "12570         UVM  ...                Chemotherapy\n",
              "\n",
              "[12571 rows x 8 columns]"
            ]
          },
          "metadata": {
            "tags": []
          },
          "execution_count": 45
        }
      ]
    },
    {
      "cell_type": "markdown",
      "metadata": {
        "id": "6kmNVDhwhJqC"
      },
      "source": [
        "#대장암에 대한 데이터만 가져옴"
      ]
    },
    {
      "cell_type": "code",
      "metadata": {
        "colab": {
          "base_uri": "https://localhost:8080/",
          "height": 575
        },
        "id": "7b25PRd7bJwV",
        "outputId": "8be59df1-57c7-4571-c761-77825c181656"
      },
      "source": [
        "drug_COAD = drug_res[drug_res['Cancer Type'] == 'COAD']\n",
        "drug_COAD"
      ],
      "execution_count": 46,
      "outputs": [
        {
          "output_type": "execute_result",
          "data": {
            "text/html": [
              "<div>\n",
              "<style scoped>\n",
              "    .dataframe tbody tr th:only-of-type {\n",
              "        vertical-align: middle;\n",
              "    }\n",
              "\n",
              "    .dataframe tbody tr th {\n",
              "        vertical-align: top;\n",
              "    }\n",
              "\n",
              "    .dataframe thead th {\n",
              "        text-align: right;\n",
              "    }\n",
              "</style>\n",
              "<table border=\"1\" class=\"dataframe\">\n",
              "  <thead>\n",
              "    <tr style=\"text-align: right;\">\n",
              "      <th></th>\n",
              "      <th>Cancer Type</th>\n",
              "      <th>bcr_patient_barcode</th>\n",
              "      <th>drug_name</th>\n",
              "      <th>measure_of_response</th>\n",
              "      <th>regimen_indication</th>\n",
              "      <th>days_to_drug_therapy_start</th>\n",
              "      <th>days_to_drug_therapy_end</th>\n",
              "      <th>therapy_types</th>\n",
              "    </tr>\n",
              "  </thead>\n",
              "  <tbody>\n",
              "    <tr>\n",
              "      <th>2940</th>\n",
              "      <td>COAD</td>\n",
              "      <td>TCGA-D5-5539</td>\n",
              "      <td>5-FU</td>\n",
              "      <td>NaN</td>\n",
              "      <td>ADJUVANT</td>\n",
              "      <td>38.0</td>\n",
              "      <td>195.0</td>\n",
              "      <td>Chemotherapy</td>\n",
              "    </tr>\n",
              "    <tr>\n",
              "      <th>2941</th>\n",
              "      <td>COAD</td>\n",
              "      <td>TCGA-A6-6648</td>\n",
              "      <td>Oxaliplatin</td>\n",
              "      <td>NaN</td>\n",
              "      <td>OTHER, SPECIFY IN NOTES</td>\n",
              "      <td>63.0</td>\n",
              "      <td>91.0</td>\n",
              "      <td>NaN</td>\n",
              "    </tr>\n",
              "    <tr>\n",
              "      <th>2942</th>\n",
              "      <td>COAD</td>\n",
              "      <td>TCGA-A6-6648</td>\n",
              "      <td>Cetuximab Study drug</td>\n",
              "      <td>NaN</td>\n",
              "      <td>OTHER, SPECIFY IN NOTES</td>\n",
              "      <td>63.0</td>\n",
              "      <td>77.0</td>\n",
              "      <td>NaN</td>\n",
              "    </tr>\n",
              "    <tr>\n",
              "      <th>2943</th>\n",
              "      <td>COAD</td>\n",
              "      <td>TCGA-A6-6648</td>\n",
              "      <td>Leucovorin</td>\n",
              "      <td>NaN</td>\n",
              "      <td>OTHER, SPECIFY IN NOTES</td>\n",
              "      <td>63.0</td>\n",
              "      <td>91.0</td>\n",
              "      <td>NaN</td>\n",
              "    </tr>\n",
              "    <tr>\n",
              "      <th>2944</th>\n",
              "      <td>COAD</td>\n",
              "      <td>TCGA-A6-6648</td>\n",
              "      <td>5 FU</td>\n",
              "      <td>NaN</td>\n",
              "      <td>OTHER, SPECIFY IN NOTES</td>\n",
              "      <td>63.0</td>\n",
              "      <td>93.0</td>\n",
              "      <td>NaN</td>\n",
              "    </tr>\n",
              "    <tr>\n",
              "      <th>...</th>\n",
              "      <td>...</td>\n",
              "      <td>...</td>\n",
              "      <td>...</td>\n",
              "      <td>...</td>\n",
              "      <td>...</td>\n",
              "      <td>...</td>\n",
              "      <td>...</td>\n",
              "      <td>...</td>\n",
              "    </tr>\n",
              "    <tr>\n",
              "      <th>3528</th>\n",
              "      <td>COAD</td>\n",
              "      <td>TCGA-A6-2674</td>\n",
              "      <td>Leucovorin</td>\n",
              "      <td>NaN</td>\n",
              "      <td>RECURRENCE</td>\n",
              "      <td>761.0</td>\n",
              "      <td>944.0</td>\n",
              "      <td>Other, specify in notesancillary</td>\n",
              "    </tr>\n",
              "    <tr>\n",
              "      <th>3529</th>\n",
              "      <td>COAD</td>\n",
              "      <td>TCGA-A6-2674</td>\n",
              "      <td>Bevacizumab</td>\n",
              "      <td>NaN</td>\n",
              "      <td>RECURRENCE</td>\n",
              "      <td>761.0</td>\n",
              "      <td>944.0</td>\n",
              "      <td>Targeted Molecular therapy</td>\n",
              "    </tr>\n",
              "    <tr>\n",
              "      <th>3530</th>\n",
              "      <td>COAD</td>\n",
              "      <td>TCGA-A6-2674</td>\n",
              "      <td>Oxaliplatin</td>\n",
              "      <td>NaN</td>\n",
              "      <td>RECURRENCE</td>\n",
              "      <td>761.0</td>\n",
              "      <td>944.0</td>\n",
              "      <td>Chemotherapy</td>\n",
              "    </tr>\n",
              "    <tr>\n",
              "      <th>3531</th>\n",
              "      <td>COAD</td>\n",
              "      <td>TCGA-A6-2674</td>\n",
              "      <td>Fluorouracil</td>\n",
              "      <td>NaN</td>\n",
              "      <td>RECURRENCE</td>\n",
              "      <td>761.0</td>\n",
              "      <td>946.0</td>\n",
              "      <td>Chemotherapy</td>\n",
              "    </tr>\n",
              "    <tr>\n",
              "      <th>3532</th>\n",
              "      <td>COAD</td>\n",
              "      <td>TCGA-A6-2674</td>\n",
              "      <td>Fluorouracil</td>\n",
              "      <td>NaN</td>\n",
              "      <td>RECURRENCE</td>\n",
              "      <td>761.0</td>\n",
              "      <td>944.0</td>\n",
              "      <td>Chemotherapy</td>\n",
              "    </tr>\n",
              "  </tbody>\n",
              "</table>\n",
              "<p>593 rows × 8 columns</p>\n",
              "</div>"
            ],
            "text/plain": [
              "     Cancer Type  ...                     therapy_types\n",
              "2940        COAD  ...                      Chemotherapy\n",
              "2941        COAD  ...                               NaN\n",
              "2942        COAD  ...                               NaN\n",
              "2943        COAD  ...                               NaN\n",
              "2944        COAD  ...                               NaN\n",
              "...          ...  ...                               ...\n",
              "3528        COAD  ...  Other, specify in notesancillary\n",
              "3529        COAD  ...        Targeted Molecular therapy\n",
              "3530        COAD  ...                      Chemotherapy\n",
              "3531        COAD  ...                      Chemotherapy\n",
              "3532        COAD  ...                      Chemotherapy\n",
              "\n",
              "[593 rows x 8 columns]"
            ]
          },
          "metadata": {
            "tags": []
          },
          "execution_count": 46
        }
      ]
    },
    {
      "cell_type": "code",
      "metadata": {
        "id": "QvgwoudGsm8F"
      },
      "source": [
        "drug_COAD.reset_index(drop=True, inplace = True)"
      ],
      "execution_count": 47,
      "outputs": []
    },
    {
      "cell_type": "markdown",
      "metadata": {
        "id": "ZywyUI8QhN2I"
      },
      "source": [
        "#Drug name"
      ]
    },
    {
      "cell_type": "code",
      "metadata": {
        "id": "LY8TJydphGAw"
      },
      "source": [
        "drug_COAD_list = drug_COAD['drug_name'].unique().tolist()"
      ],
      "execution_count": 48,
      "outputs": []
    },
    {
      "cell_type": "code",
      "metadata": {
        "colab": {
          "base_uri": "https://localhost:8080/"
        },
        "id": "_Y-sLFJ9hmLj",
        "outputId": "3c9e95f6-9396-401d-8742-1ebac0c7917c"
      },
      "source": [
        "drug_COAD.drug_name.unique()"
      ],
      "execution_count": 49,
      "outputs": [
        {
          "output_type": "execute_result",
          "data": {
            "text/plain": [
              "array(['5-FU', 'Oxaliplatin', 'Cetuximab Study drug', 'Leucovorin',\n",
              "       '5 FU', 'Folinic acid', '5-Fluorouracil', nan, 'XELODA', '5FU',\n",
              "       'Fluorouracil', 'oxaliplatin', 'Folinic Acid', 'Cetuximab',\n",
              "       'Bevacizumab', 'Irinotecan', 'Avastin', 'Xeloda', 'Folfox',\n",
              "       'Capecitabine', 'capecitabine', 'Floxuridine', 'Dexamethasone',\n",
              "       'Irinotecan HCl', 'Pegfilgrastim', 'Leucovorin Calcium',\n",
              "       'IRINOtecan HCl', 'Mitomycin', 'Camptosar',\n",
              "       'Calcium Foliatum, fluorouracilum, oxaliplatinum, dexamethassone',\n",
              "       'oxaliplatinum+5 fluorouracilum', '5- FU', 'Raltitrexed',\n",
              "       'leucovorin', 'fluorouracil', 'Erbitux', 'avastin', 'irinotecan',\n",
              "       'leucovorin calcium', 'bevacizumab', 'regorafenib',\n",
              "       'Pegfilgrastim (Peg G-CSF)', 'Filgrastim (G-CSF)',\n",
              "       'Irinotecan HCL', 'C1 FOLFIRI/Zaltrap', 'Irinotecan + Cetuximab',\n",
              "       'FOLFIRI/Avastin', 'FOLFOX', '5-Fluorouracil + leucovorin',\n",
              "       'FolFox', 'Oxaliplatin, Folinic acid, Fluorouracil', 'Panitumumab',\n",
              "       'CPT-11', 'FLUOROURACIL', 'OXALIPLATIN', 'BEVACIZUMAB',\n",
              "       'Levcovorin', 'Mitomycin C', 'BEVACIZumab', 'CETUXimab',\n",
              "       'oxaliplatinum+ 5-FU', 'Mayo 425-20', 'FOLFIRI', 'Folfiri',\n",
              "       '5-Fluoruoracil', 'Study drug AMG 655'], dtype=object)"
            ]
          },
          "metadata": {
            "tags": []
          },
          "execution_count": 49
        }
      ]
    },
    {
      "cell_type": "markdown",
      "metadata": {
        "id": "f6LLh3m2h5H8"
      },
      "source": [
        "**<수호오빠 코드 참고>**"
      ]
    },
    {
      "cell_type": "code",
      "metadata": {
        "id": "rZ1gprhDhrbn"
      },
      "source": [
        "fluorouracil_list = [\"5-FU\", \"5 FU\", \"5-Fluorouracil\", \"5FU\", \"Fluorouracil\",\"5- FU\", \"fluorouracil\",\n",
        "                     \"FLUOROURACIL\", \"5-Fluoruoracil\"]   # 9\n",
        "oxaliplatin_list = [\"Oxaliplatin\", \"oxaliplatin\", \"OXALIPLATIN\"]    # 3\n",
        "cetuximab_list = [\"Cetuximab Study drug\", \"Cetuximab\", \"CETUXimab\",\n",
        "                  \"Erbitux\"]     # 4\n",
        "# 얼비툭스, Erbitux - 세툭시맙(Cetuximab) / 서울대학교 암병원\n",
        "\n",
        "folinic_list = [\"Leucovorin\", \"Leucovorin Calcium\", \"leucovorin\", \"leucovorin calcium\", \"Levcovorin\",\n",
        "                \"Folinic acid\", \"Folinic Acid\", ]     # 7\n",
        "# Folinic acid, also known as leucovorin,\n",
        "# is a medication used to decrease the toxic effects of methotrexate and pyrimethamine.\n",
        "\n",
        "regorafenib_list = [\"regorafenib\"]  # 1\n",
        "raltitrexed_list = [\"Raltitrexed\"]  # 1\n",
        "motomycin_list = ['Mitomycin', \"Mitomycin C\"]   # 2\n",
        "pegfilgrastim_list = ['Pegfilgrastim', \"Pegfilgrastim (Peg G-CSF)\"] # 2\n",
        "filgrastim_list = [\"Filgrastim (G-CSF)\"]    # 1\n",
        "dexamethasone_list = [\"Dexamethasone\"]  # 1\n",
        "floxuridine_list = [\"Floxuridine\"]  # 1\n",
        "\n",
        "capecitabine_list = [\"XELODA\", \"Xeloda\", \"Capecitabine\", \"capecitabine\"]    # 4\n",
        "# Xeloda라는 브랜드로 판매되는 Capecitabine은 유방암, 위암 및 대장 암을 치료하는 데 사용되는 화학 요법 약물입니다.\n",
        "\n",
        "bevacizumab_list = [\"Bevacizumab\", \"bevacizumab\", \"BEVACIZUMAB\", \"BEVACIZumab\", \"Avastin\", \"avastin\"]  # 6\n",
        "# 베바시주맙(bevacizumab, 상표명: Avastin)\n",
        "\n",
        "panitumumab_list = ['Panitumumab']    # 1\n",
        "\n",
        "irinotecan_list = [\"Irinotecan\", \"Irinotecan HCl\", \"IRINOtecan HCl\", \"irinotecan\", \"Irinotecan HCL\", \"CPT-11\",\n",
        "                   \"Camptosar\", ]   #7\n",
        "# CPT-11(irinotecan) is a promising new agent for the treatment of colorectal cancer with a unique mechanism of action\n",
        "# 특히 Camptosar라는 브랜드 이름으로 판매되는 Irinotecan은 결장암 및 소세포 폐암 치료에 사용되는 약물입니다.\n",
        "irinotecan_cetuximab = [\"Irinotecan + Cetuximab\"]   # 1\n",
        "\n",
        "folfiri_list = [\"FOLFIRI\", \"Folfiri\"]   # 2\n",
        "folfiri_zal_list = [\"C1 FOLFIRI/Zaltrap\"]   # 1\n",
        "folfiri_ava_list = [\"FOLFIRI/Avastin\"]  # 1\n",
        "\n",
        "# Folinic acid, fluorouracil and irinotecan (FOLFIRI)\n",
        "# FOLFIRI is the name of a chemotherapy combination that includes:\n",
        "# - folinic acid (also called leucovorin, calcium folinate or FA)\n",
        "# - fluorouracil (also called 5FU)\n",
        "# - irinotecan\n",
        "# https://www.cancerresearchuk.org/about-cancer/cancer-in-general/treatment/cancer-drugs/drugs/folfiri\n",
        "\n",
        "folfox_list = [\"Folfox\", \"FOLFOX\", \"FolFox\", \"Oxaliplatin, Folinic acid, Fluorouracil\"] # 4\n",
        "# FOLFOX: made up of the drugs Folinic acid (leucovorin) \"FOL\", Fluorouracil (5-FU) \"F\", and Oxaliplatin (Eloxatin) \"OX\"\n",
        "\n",
        "folfox_dex_list = [\"Calcium Foliatum, fluorouracilum, oxaliplatinum, dexamethassone\"]   # 1\n",
        "fox_list = [\"oxaliplatinum+5 fluorouracilum\", \"oxaliplatinum+ 5-FU\"]    # 2\n",
        "folf_list = [\"5-Fluorouracil + leucovorin\", 'Mayo 425-20']  # 2\n",
        "# Standard Dose (Mayo Regimen) 5-Fluorouracil and Low Dose Folinic Acid\n",
        "# https://www.researchgate.net/publication/232159892_Standard_Dose_Mayo_Regimen_5-Fluorouracil_and_Low_Dose_Folinic_Acid_Prohibitive_Toxicity\n",
        "\n",
        "conatumumab_list = ['Study drug AMG 655']   # 1\n",
        "# Conatumumab (originally AMG-655) is a monoclonal antibody developed for the treatment of cancer.\n",
        "\n",
        "nan_list = ['nan']  # 1"
      ],
      "execution_count": 50,
      "outputs": []
    },
    {
      "cell_type": "code",
      "metadata": {
        "id": "E-Ki-sNNh-8s"
      },
      "source": [
        "drug_dict = {\"fluorouracil\" : fluorouracil_list,\n",
        "\"oxaliplatin\":oxaliplatin_list,\n",
        "\"cetuximab\":cetuximab_list,\n",
        "\"folinic\":folinic_list,\n",
        "\"regorafenib\":regorafenib_list,\n",
        "\"raltitrexed\":raltitrexed_list,\n",
        "\"motomycin\":motomycin_list,\n",
        "\"pegfilgrastim\":pegfilgrastim_list,\n",
        "\"filgrastim\":filgrastim_list,\n",
        "\"dexamethasone\":dexamethasone_list,\n",
        "\"floxuridine\":floxuridine_list,\n",
        "\"capecitabine\":capecitabine_list,\n",
        "\"bevacizumab\":bevacizumab_list,\n",
        "\"panitumumab\":panitumumab_list,\n",
        "\"irinotecan\":irinotecan_list,\n",
        "\"irino_cetux\":irinotecan_cetuximab,\n",
        "\"folfiri\":folfiri_list,\n",
        "\"folfiri_zal\":folfiri_zal_list,\n",
        "\"folfiri_ava\":folfiri_ava_list,\n",
        "\"folfox\":folfox_list,\n",
        "\"folfox_dex\":folfox_dex_list,\n",
        "\"fox\":fox_list,\n",
        "\"folf\":folf_list,\n",
        "\"conatumumab\":conatumumab_list,\n",
        "\"nan\":nan_list}\n"
      ],
      "execution_count": 51,
      "outputs": []
    },
    {
      "cell_type": "code",
      "metadata": {
        "colab": {
          "base_uri": "https://localhost:8080/"
        },
        "id": "Jcx36k6WiC8h",
        "outputId": "cfc4bd0f-b841-4462-e504-cd49af07042c"
      },
      "source": [
        "drug_COAD['integrated_name'] = np.nan\n",
        "# 약물명 통일을 위해 nan을 default로 하는 \"integated_name\"이라는 새로운 컬럼 생성"
      ],
      "execution_count": 52,
      "outputs": [
        {
          "output_type": "stream",
          "text": [
            "/usr/local/lib/python3.7/dist-packages/ipykernel_launcher.py:1: SettingWithCopyWarning: \n",
            "A value is trying to be set on a copy of a slice from a DataFrame.\n",
            "Try using .loc[row_indexer,col_indexer] = value instead\n",
            "\n",
            "See the caveats in the documentation: https://pandas.pydata.org/pandas-docs/stable/user_guide/indexing.html#returning-a-view-versus-a-copy\n",
            "  \"\"\"Entry point for launching an IPython kernel.\n"
          ],
          "name": "stderr"
        }
      ]
    },
    {
      "cell_type": "code",
      "metadata": {
        "colab": {
          "base_uri": "https://localhost:8080/"
        },
        "id": "w3CkWa-qiFXX",
        "outputId": "b744c879-4ba5-474f-9fe1-4b480dbdf0b9"
      },
      "source": [
        "for r, each_row in enumerate(range(len(drug_COAD))):\n",
        "    name = drug_COAD.iloc[r,2]     # drug_res_c 데이터프레임의 각 row별 drug_name 값\n",
        "    drug_list = list(drug_dict.keys())     # drug_dict의 key값 리스트\n",
        "\n",
        "    for i, each_dict in enumerate(drug_dict.values()):\n",
        "        if name in each_dict:    # drug_dict value에 들어있는 drug_name_list 각각에 속해있는지 확인\n",
        "            drug_COAD.iloc[r,8] = drug_list[i]"
      ],
      "execution_count": 53,
      "outputs": [
        {
          "output_type": "stream",
          "text": [
            "/usr/local/lib/python3.7/dist-packages/pandas/core/indexing.py:1763: SettingWithCopyWarning: \n",
            "A value is trying to be set on a copy of a slice from a DataFrame.\n",
            "Try using .loc[row_indexer,col_indexer] = value instead\n",
            "\n",
            "See the caveats in the documentation: https://pandas.pydata.org/pandas-docs/stable/user_guide/indexing.html#returning-a-view-versus-a-copy\n",
            "  isetter(loc, value)\n"
          ],
          "name": "stderr"
        }
      ]
    },
    {
      "cell_type": "code",
      "metadata": {
        "colab": {
          "base_uri": "https://localhost:8080/"
        },
        "id": "akGQI5e-iKhv",
        "outputId": "ffdc2e4f-d3aa-47d2-fe6f-4e55fc1e7a70"
      },
      "source": [
        "drug_COAD.integrated_name.value_counts()"
      ],
      "execution_count": 54,
      "outputs": [
        {
          "output_type": "execute_result",
          "data": {
            "text/plain": [
              "fluorouracil     180\n",
              "folinic          127\n",
              "oxaliplatin      115\n",
              "bevacizumab       48\n",
              "irinotecan        39\n",
              "capecitabine      33\n",
              "cetuximab         15\n",
              "folfox             6\n",
              "floxuridine        5\n",
              "pegfilgrastim      4\n",
              "motomycin          3\n",
              "fox                2\n",
              "folfiri            2\n",
              "folf               2\n",
              "folfox_dex         2\n",
              "folfiri_ava        1\n",
              "dexamethasone      1\n",
              "regorafenib        1\n",
              "raltitrexed        1\n",
              "folfiri_zal        1\n",
              "irino_cetux        1\n",
              "filgrastim         1\n",
              "panitumumab        1\n",
              "conatumumab        1\n",
              "Name: integrated_name, dtype: int64"
            ]
          },
          "metadata": {
            "tags": []
          },
          "execution_count": 54
        }
      ]
    },
    {
      "cell_type": "markdown",
      "metadata": {
        "id": "wv5woRtKuCU_"
      },
      "source": [
        "**약물 6개로 추리기,,,,?**"
      ]
    },
    {
      "cell_type": "code",
      "metadata": {
        "colab": {
          "base_uri": "https://localhost:8080/"
        },
        "id": "2A5zi4Oeqv9Q",
        "outputId": "c306b319-15cc-4345-89c9-1949a05c1a71"
      },
      "source": [
        "drug_top6 = list(drug_COAD.integrated_name.value_counts().keys()[:6])\n",
        "drug_top6"
      ],
      "execution_count": 55,
      "outputs": [
        {
          "output_type": "execute_result",
          "data": {
            "text/plain": [
              "['fluorouracil',\n",
              " 'folinic',\n",
              " 'oxaliplatin',\n",
              " 'bevacizumab',\n",
              " 'irinotecan',\n",
              " 'capecitabine']"
            ]
          },
          "metadata": {
            "tags": []
          },
          "execution_count": 55
        }
      ]
    },
    {
      "cell_type": "code",
      "metadata": {
        "id": "BGzSDhdoq-pl"
      },
      "source": [
        "index_for_drop = []\n",
        "for i in range(len(drug_COAD)):\n",
        "  if drug_COAD.iloc[i,-1] not in drug_top6:\n",
        "    index_for_drop.append(i)"
      ],
      "execution_count": 56,
      "outputs": []
    },
    {
      "cell_type": "code",
      "metadata": {
        "colab": {
          "base_uri": "https://localhost:8080/",
          "height": 558
        },
        "id": "fen5AgfErMv1",
        "outputId": "2510e650-5aa0-43b3-a3d1-c9be672f1b91"
      },
      "source": [
        "drug6_COAD = drug_COAD.drop(index_for_drop)\n",
        "drug6_COAD"
      ],
      "execution_count": 57,
      "outputs": [
        {
          "output_type": "execute_result",
          "data": {
            "text/html": [
              "<div>\n",
              "<style scoped>\n",
              "    .dataframe tbody tr th:only-of-type {\n",
              "        vertical-align: middle;\n",
              "    }\n",
              "\n",
              "    .dataframe tbody tr th {\n",
              "        vertical-align: top;\n",
              "    }\n",
              "\n",
              "    .dataframe thead th {\n",
              "        text-align: right;\n",
              "    }\n",
              "</style>\n",
              "<table border=\"1\" class=\"dataframe\">\n",
              "  <thead>\n",
              "    <tr style=\"text-align: right;\">\n",
              "      <th></th>\n",
              "      <th>Cancer Type</th>\n",
              "      <th>bcr_patient_barcode</th>\n",
              "      <th>drug_name</th>\n",
              "      <th>measure_of_response</th>\n",
              "      <th>regimen_indication</th>\n",
              "      <th>days_to_drug_therapy_start</th>\n",
              "      <th>days_to_drug_therapy_end</th>\n",
              "      <th>therapy_types</th>\n",
              "      <th>integrated_name</th>\n",
              "    </tr>\n",
              "  </thead>\n",
              "  <tbody>\n",
              "    <tr>\n",
              "      <th>0</th>\n",
              "      <td>COAD</td>\n",
              "      <td>TCGA-D5-5539</td>\n",
              "      <td>5-FU</td>\n",
              "      <td>NaN</td>\n",
              "      <td>ADJUVANT</td>\n",
              "      <td>38.0</td>\n",
              "      <td>195.0</td>\n",
              "      <td>Chemotherapy</td>\n",
              "      <td>fluorouracil</td>\n",
              "    </tr>\n",
              "    <tr>\n",
              "      <th>1</th>\n",
              "      <td>COAD</td>\n",
              "      <td>TCGA-A6-6648</td>\n",
              "      <td>Oxaliplatin</td>\n",
              "      <td>NaN</td>\n",
              "      <td>OTHER, SPECIFY IN NOTES</td>\n",
              "      <td>63.0</td>\n",
              "      <td>91.0</td>\n",
              "      <td>NaN</td>\n",
              "      <td>oxaliplatin</td>\n",
              "    </tr>\n",
              "    <tr>\n",
              "      <th>3</th>\n",
              "      <td>COAD</td>\n",
              "      <td>TCGA-A6-6648</td>\n",
              "      <td>Leucovorin</td>\n",
              "      <td>NaN</td>\n",
              "      <td>OTHER, SPECIFY IN NOTES</td>\n",
              "      <td>63.0</td>\n",
              "      <td>91.0</td>\n",
              "      <td>NaN</td>\n",
              "      <td>folinic</td>\n",
              "    </tr>\n",
              "    <tr>\n",
              "      <th>4</th>\n",
              "      <td>COAD</td>\n",
              "      <td>TCGA-A6-6648</td>\n",
              "      <td>5 FU</td>\n",
              "      <td>NaN</td>\n",
              "      <td>OTHER, SPECIFY IN NOTES</td>\n",
              "      <td>63.0</td>\n",
              "      <td>93.0</td>\n",
              "      <td>NaN</td>\n",
              "      <td>fluorouracil</td>\n",
              "    </tr>\n",
              "    <tr>\n",
              "      <th>5</th>\n",
              "      <td>COAD</td>\n",
              "      <td>TCGA-AA-3560</td>\n",
              "      <td>Folinic acid</td>\n",
              "      <td>Complete Response</td>\n",
              "      <td>NaN</td>\n",
              "      <td>31.0</td>\n",
              "      <td>212.0</td>\n",
              "      <td>Chemotherapy</td>\n",
              "      <td>folinic</td>\n",
              "    </tr>\n",
              "    <tr>\n",
              "      <th>...</th>\n",
              "      <td>...</td>\n",
              "      <td>...</td>\n",
              "      <td>...</td>\n",
              "      <td>...</td>\n",
              "      <td>...</td>\n",
              "      <td>...</td>\n",
              "      <td>...</td>\n",
              "      <td>...</td>\n",
              "      <td>...</td>\n",
              "    </tr>\n",
              "    <tr>\n",
              "      <th>588</th>\n",
              "      <td>COAD</td>\n",
              "      <td>TCGA-A6-2674</td>\n",
              "      <td>Leucovorin</td>\n",
              "      <td>NaN</td>\n",
              "      <td>RECURRENCE</td>\n",
              "      <td>761.0</td>\n",
              "      <td>944.0</td>\n",
              "      <td>Other, specify in notesancillary</td>\n",
              "      <td>folinic</td>\n",
              "    </tr>\n",
              "    <tr>\n",
              "      <th>589</th>\n",
              "      <td>COAD</td>\n",
              "      <td>TCGA-A6-2674</td>\n",
              "      <td>Bevacizumab</td>\n",
              "      <td>NaN</td>\n",
              "      <td>RECURRENCE</td>\n",
              "      <td>761.0</td>\n",
              "      <td>944.0</td>\n",
              "      <td>Targeted Molecular therapy</td>\n",
              "      <td>bevacizumab</td>\n",
              "    </tr>\n",
              "    <tr>\n",
              "      <th>590</th>\n",
              "      <td>COAD</td>\n",
              "      <td>TCGA-A6-2674</td>\n",
              "      <td>Oxaliplatin</td>\n",
              "      <td>NaN</td>\n",
              "      <td>RECURRENCE</td>\n",
              "      <td>761.0</td>\n",
              "      <td>944.0</td>\n",
              "      <td>Chemotherapy</td>\n",
              "      <td>oxaliplatin</td>\n",
              "    </tr>\n",
              "    <tr>\n",
              "      <th>591</th>\n",
              "      <td>COAD</td>\n",
              "      <td>TCGA-A6-2674</td>\n",
              "      <td>Fluorouracil</td>\n",
              "      <td>NaN</td>\n",
              "      <td>RECURRENCE</td>\n",
              "      <td>761.0</td>\n",
              "      <td>946.0</td>\n",
              "      <td>Chemotherapy</td>\n",
              "      <td>fluorouracil</td>\n",
              "    </tr>\n",
              "    <tr>\n",
              "      <th>592</th>\n",
              "      <td>COAD</td>\n",
              "      <td>TCGA-A6-2674</td>\n",
              "      <td>Fluorouracil</td>\n",
              "      <td>NaN</td>\n",
              "      <td>RECURRENCE</td>\n",
              "      <td>761.0</td>\n",
              "      <td>944.0</td>\n",
              "      <td>Chemotherapy</td>\n",
              "      <td>fluorouracil</td>\n",
              "    </tr>\n",
              "  </tbody>\n",
              "</table>\n",
              "<p>542 rows × 9 columns</p>\n",
              "</div>"
            ],
            "text/plain": [
              "    Cancer Type  ... integrated_name\n",
              "0          COAD  ...    fluorouracil\n",
              "1          COAD  ...     oxaliplatin\n",
              "3          COAD  ...         folinic\n",
              "4          COAD  ...    fluorouracil\n",
              "5          COAD  ...         folinic\n",
              "..          ...  ...             ...\n",
              "588        COAD  ...         folinic\n",
              "589        COAD  ...     bevacizumab\n",
              "590        COAD  ...     oxaliplatin\n",
              "591        COAD  ...    fluorouracil\n",
              "592        COAD  ...    fluorouracil\n",
              "\n",
              "[542 rows x 9 columns]"
            ]
          },
          "metadata": {
            "tags": []
          },
          "execution_count": 57
        }
      ]
    },
    {
      "cell_type": "markdown",
      "metadata": {
        "id": "O6Lx40uyid6Q"
      },
      "source": [
        "# Drug response"
      ]
    },
    {
      "cell_type": "code",
      "metadata": {
        "colab": {
          "base_uri": "https://localhost:8080/"
        },
        "id": "0Sr5BCKXbWof",
        "outputId": "4e1a960d-b9fd-4a96-b7af-68f5bba836b8"
      },
      "source": [
        "drug6_COAD.measure_of_response.value_counts()"
      ],
      "execution_count": 70,
      "outputs": [
        {
          "output_type": "execute_result",
          "data": {
            "text/plain": [
              "Complete Response               121\n",
              "Clinical Progressive Disease     68\n",
              "Partial Response                 32\n",
              "Stable Disease                   12\n",
              "Name: measure_of_response, dtype: int64"
            ]
          },
          "metadata": {
            "tags": []
          },
          "execution_count": 70
        }
      ]
    },
    {
      "cell_type": "code",
      "metadata": {
        "colab": {
          "base_uri": "https://localhost:8080/"
        },
        "id": "QS1kng00bmqe",
        "outputId": "244b21e8-2a04-4ed2-a087-fa3a4b860884"
      },
      "source": [
        "drug6_COAD.measure_of_response.unique()"
      ],
      "execution_count": 71,
      "outputs": [
        {
          "output_type": "execute_result",
          "data": {
            "text/plain": [
              "array([nan, 'Complete Response', 'Clinical Progressive Disease',\n",
              "       'Partial Response', 'Stable Disease'], dtype=object)"
            ]
          },
          "metadata": {
            "tags": []
          },
          "execution_count": 71
        }
      ]
    },
    {
      "cell_type": "code",
      "metadata": {
        "colab": {
          "base_uri": "https://localhost:8080/"
        },
        "id": "KKXrhZu8qg8g",
        "outputId": "371696e6-eff1-46dc-d23e-8766a1534752"
      },
      "source": [
        "null = drug6_COAD.measure_of_response.isnull().sum()\n",
        "null"
      ],
      "execution_count": 72,
      "outputs": [
        {
          "output_type": "execute_result",
          "data": {
            "text/plain": [
              "309"
            ]
          },
          "metadata": {
            "tags": []
          },
          "execution_count": 72
        }
      ]
    },
    {
      "cell_type": "code",
      "metadata": {
        "id": "0fDRwqHsrV5c"
      },
      "source": [
        "response_list = [\"Complete Response\", \"Partial Response\"]\n",
        "no_response_list = [\"Clinical Progressive Disease\", \"Stable Disease\"]"
      ],
      "execution_count": 73,
      "outputs": []
    },
    {
      "cell_type": "code",
      "metadata": {
        "id": "NVITD8QzszG-"
      },
      "source": [
        "res_dict = {\"response\" : response_list, \"no response\" : no_response_list}"
      ],
      "execution_count": 74,
      "outputs": []
    },
    {
      "cell_type": "code",
      "metadata": {
        "id": "9dH-S54WsE6C"
      },
      "source": [
        "drug6_COAD['therapy_response'] = np.nan"
      ],
      "execution_count": 75,
      "outputs": []
    },
    {
      "cell_type": "code",
      "metadata": {
        "id": "whoEme7QsRVQ"
      },
      "source": [
        "for r, each_row in enumerate(range(len(drug6_COAD))):\n",
        "  name = drug6_COAD.iloc[r,3]\n",
        "  res_list = list(res_dict.keys())\n",
        "\n",
        "  for i, each_dict in enumerate(res_dict.values()):\n",
        "    if name in each_dict:\n",
        "      drug6_COAD.iloc[r,9] = res_list[i]"
      ],
      "execution_count": 76,
      "outputs": []
    },
    {
      "cell_type": "code",
      "metadata": {
        "colab": {
          "base_uri": "https://localhost:8080/",
          "height": 558
        },
        "id": "D0shRJyutSRx",
        "outputId": "79b8a859-ecae-41b9-d431-069db8b75c99"
      },
      "source": [
        "drug6_COAD"
      ],
      "execution_count": 77,
      "outputs": [
        {
          "output_type": "execute_result",
          "data": {
            "text/html": [
              "<div>\n",
              "<style scoped>\n",
              "    .dataframe tbody tr th:only-of-type {\n",
              "        vertical-align: middle;\n",
              "    }\n",
              "\n",
              "    .dataframe tbody tr th {\n",
              "        vertical-align: top;\n",
              "    }\n",
              "\n",
              "    .dataframe thead th {\n",
              "        text-align: right;\n",
              "    }\n",
              "</style>\n",
              "<table border=\"1\" class=\"dataframe\">\n",
              "  <thead>\n",
              "    <tr style=\"text-align: right;\">\n",
              "      <th></th>\n",
              "      <th>Cancer Type</th>\n",
              "      <th>bcr_patient_barcode</th>\n",
              "      <th>drug_name</th>\n",
              "      <th>measure_of_response</th>\n",
              "      <th>regimen_indication</th>\n",
              "      <th>days_to_drug_therapy_start</th>\n",
              "      <th>days_to_drug_therapy_end</th>\n",
              "      <th>therapy_types</th>\n",
              "      <th>integrated_name</th>\n",
              "      <th>therapy_response</th>\n",
              "    </tr>\n",
              "  </thead>\n",
              "  <tbody>\n",
              "    <tr>\n",
              "      <th>0</th>\n",
              "      <td>COAD</td>\n",
              "      <td>TCGA-D5-5539</td>\n",
              "      <td>5-FU</td>\n",
              "      <td>NaN</td>\n",
              "      <td>ADJUVANT</td>\n",
              "      <td>38.0</td>\n",
              "      <td>195.0</td>\n",
              "      <td>Chemotherapy</td>\n",
              "      <td>fluorouracil</td>\n",
              "      <td>NaN</td>\n",
              "    </tr>\n",
              "    <tr>\n",
              "      <th>1</th>\n",
              "      <td>COAD</td>\n",
              "      <td>TCGA-A6-6648</td>\n",
              "      <td>Oxaliplatin</td>\n",
              "      <td>NaN</td>\n",
              "      <td>OTHER, SPECIFY IN NOTES</td>\n",
              "      <td>63.0</td>\n",
              "      <td>91.0</td>\n",
              "      <td>NaN</td>\n",
              "      <td>oxaliplatin</td>\n",
              "      <td>NaN</td>\n",
              "    </tr>\n",
              "    <tr>\n",
              "      <th>3</th>\n",
              "      <td>COAD</td>\n",
              "      <td>TCGA-A6-6648</td>\n",
              "      <td>Leucovorin</td>\n",
              "      <td>NaN</td>\n",
              "      <td>OTHER, SPECIFY IN NOTES</td>\n",
              "      <td>63.0</td>\n",
              "      <td>91.0</td>\n",
              "      <td>NaN</td>\n",
              "      <td>folinic</td>\n",
              "      <td>NaN</td>\n",
              "    </tr>\n",
              "    <tr>\n",
              "      <th>4</th>\n",
              "      <td>COAD</td>\n",
              "      <td>TCGA-A6-6648</td>\n",
              "      <td>5 FU</td>\n",
              "      <td>NaN</td>\n",
              "      <td>OTHER, SPECIFY IN NOTES</td>\n",
              "      <td>63.0</td>\n",
              "      <td>93.0</td>\n",
              "      <td>NaN</td>\n",
              "      <td>fluorouracil</td>\n",
              "      <td>NaN</td>\n",
              "    </tr>\n",
              "    <tr>\n",
              "      <th>5</th>\n",
              "      <td>COAD</td>\n",
              "      <td>TCGA-AA-3560</td>\n",
              "      <td>Folinic acid</td>\n",
              "      <td>Complete Response</td>\n",
              "      <td>NaN</td>\n",
              "      <td>31.0</td>\n",
              "      <td>212.0</td>\n",
              "      <td>Chemotherapy</td>\n",
              "      <td>folinic</td>\n",
              "      <td>response</td>\n",
              "    </tr>\n",
              "    <tr>\n",
              "      <th>...</th>\n",
              "      <td>...</td>\n",
              "      <td>...</td>\n",
              "      <td>...</td>\n",
              "      <td>...</td>\n",
              "      <td>...</td>\n",
              "      <td>...</td>\n",
              "      <td>...</td>\n",
              "      <td>...</td>\n",
              "      <td>...</td>\n",
              "      <td>...</td>\n",
              "    </tr>\n",
              "    <tr>\n",
              "      <th>588</th>\n",
              "      <td>COAD</td>\n",
              "      <td>TCGA-A6-2674</td>\n",
              "      <td>Leucovorin</td>\n",
              "      <td>NaN</td>\n",
              "      <td>RECURRENCE</td>\n",
              "      <td>761.0</td>\n",
              "      <td>944.0</td>\n",
              "      <td>Other, specify in notesancillary</td>\n",
              "      <td>folinic</td>\n",
              "      <td>NaN</td>\n",
              "    </tr>\n",
              "    <tr>\n",
              "      <th>589</th>\n",
              "      <td>COAD</td>\n",
              "      <td>TCGA-A6-2674</td>\n",
              "      <td>Bevacizumab</td>\n",
              "      <td>NaN</td>\n",
              "      <td>RECURRENCE</td>\n",
              "      <td>761.0</td>\n",
              "      <td>944.0</td>\n",
              "      <td>Targeted Molecular therapy</td>\n",
              "      <td>bevacizumab</td>\n",
              "      <td>NaN</td>\n",
              "    </tr>\n",
              "    <tr>\n",
              "      <th>590</th>\n",
              "      <td>COAD</td>\n",
              "      <td>TCGA-A6-2674</td>\n",
              "      <td>Oxaliplatin</td>\n",
              "      <td>NaN</td>\n",
              "      <td>RECURRENCE</td>\n",
              "      <td>761.0</td>\n",
              "      <td>944.0</td>\n",
              "      <td>Chemotherapy</td>\n",
              "      <td>oxaliplatin</td>\n",
              "      <td>NaN</td>\n",
              "    </tr>\n",
              "    <tr>\n",
              "      <th>591</th>\n",
              "      <td>COAD</td>\n",
              "      <td>TCGA-A6-2674</td>\n",
              "      <td>Fluorouracil</td>\n",
              "      <td>NaN</td>\n",
              "      <td>RECURRENCE</td>\n",
              "      <td>761.0</td>\n",
              "      <td>946.0</td>\n",
              "      <td>Chemotherapy</td>\n",
              "      <td>fluorouracil</td>\n",
              "      <td>NaN</td>\n",
              "    </tr>\n",
              "    <tr>\n",
              "      <th>592</th>\n",
              "      <td>COAD</td>\n",
              "      <td>TCGA-A6-2674</td>\n",
              "      <td>Fluorouracil</td>\n",
              "      <td>NaN</td>\n",
              "      <td>RECURRENCE</td>\n",
              "      <td>761.0</td>\n",
              "      <td>944.0</td>\n",
              "      <td>Chemotherapy</td>\n",
              "      <td>fluorouracil</td>\n",
              "      <td>NaN</td>\n",
              "    </tr>\n",
              "  </tbody>\n",
              "</table>\n",
              "<p>542 rows × 10 columns</p>\n",
              "</div>"
            ],
            "text/plain": [
              "    Cancer Type bcr_patient_barcode  ... integrated_name therapy_response\n",
              "0          COAD        TCGA-D5-5539  ...    fluorouracil              NaN\n",
              "1          COAD        TCGA-A6-6648  ...     oxaliplatin              NaN\n",
              "3          COAD        TCGA-A6-6648  ...         folinic              NaN\n",
              "4          COAD        TCGA-A6-6648  ...    fluorouracil              NaN\n",
              "5          COAD        TCGA-AA-3560  ...         folinic         response\n",
              "..          ...                 ...  ...             ...              ...\n",
              "588        COAD        TCGA-A6-2674  ...         folinic              NaN\n",
              "589        COAD        TCGA-A6-2674  ...     bevacizumab              NaN\n",
              "590        COAD        TCGA-A6-2674  ...     oxaliplatin              NaN\n",
              "591        COAD        TCGA-A6-2674  ...    fluorouracil              NaN\n",
              "592        COAD        TCGA-A6-2674  ...    fluorouracil              NaN\n",
              "\n",
              "[542 rows x 10 columns]"
            ]
          },
          "metadata": {
            "tags": []
          },
          "execution_count": 77
        }
      ]
    },
    {
      "cell_type": "code",
      "metadata": {
        "colab": {
          "base_uri": "https://localhost:8080/"
        },
        "id": "ZSYBoe7Ati9f",
        "outputId": "04980093-3cce-48b0-c598-7bbd3b2cfb5c"
      },
      "source": [
        "drug6_COAD.therapy_response.unique()"
      ],
      "execution_count": 78,
      "outputs": [
        {
          "output_type": "execute_result",
          "data": {
            "text/plain": [
              "array([nan, 'response', 'no response'], dtype=object)"
            ]
          },
          "metadata": {
            "tags": []
          },
          "execution_count": 78
        }
      ]
    },
    {
      "cell_type": "code",
      "metadata": {
        "colab": {
          "base_uri": "https://localhost:8080/"
        },
        "id": "6TmhiszauG6u",
        "outputId": "fa7230b8-b960-41ac-f226-845283c89700"
      },
      "source": [
        "drug6_COAD.therapy_response.value_counts()"
      ],
      "execution_count": 79,
      "outputs": [
        {
          "output_type": "execute_result",
          "data": {
            "text/plain": [
              "response       153\n",
              "no response     80\n",
              "Name: therapy_response, dtype: int64"
            ]
          },
          "metadata": {
            "tags": []
          },
          "execution_count": 79
        }
      ]
    },
    {
      "cell_type": "code",
      "metadata": {
        "colab": {
          "base_uri": "https://localhost:8080/"
        },
        "id": "k9jmKWZruSrF",
        "outputId": "14228d37-ecc4-4230-c09f-2ac35b8ee903"
      },
      "source": [
        "null2 = drug6_COAD.therapy_response.isnull().sum()\n",
        "null2\n",
        "# null값 수 확인"
      ],
      "execution_count": 80,
      "outputs": [
        {
          "output_type": "execute_result",
          "data": {
            "text/plain": [
              "309"
            ]
          },
          "metadata": {
            "tags": []
          },
          "execution_count": 80
        }
      ]
    },
    {
      "cell_type": "markdown",
      "metadata": {
        "id": "6Wl2Q_ok57BL"
      },
      "source": [
        "**column에서 필요한 부분만 추출해서 순서 정리**"
      ]
    },
    {
      "cell_type": "code",
      "metadata": {
        "colab": {
          "base_uri": "https://localhost:8080/",
          "height": 558
        },
        "id": "mlciMyjuvA0C",
        "outputId": "93e9d059-357f-4bed-c9b9-8f41b55ac701"
      },
      "source": [
        "drug_COAD_res = drug6_COAD[['Cancer Type', 'bcr_patient_barcode','integrated_name','therapy_response','regimen_indication', 'days_to_drug_therapy_start', 'days_to_drug_therapy_end','therapy_types']]\n",
        "drug_COAD_res"
      ],
      "execution_count": 81,
      "outputs": [
        {
          "output_type": "execute_result",
          "data": {
            "text/html": [
              "<div>\n",
              "<style scoped>\n",
              "    .dataframe tbody tr th:only-of-type {\n",
              "        vertical-align: middle;\n",
              "    }\n",
              "\n",
              "    .dataframe tbody tr th {\n",
              "        vertical-align: top;\n",
              "    }\n",
              "\n",
              "    .dataframe thead th {\n",
              "        text-align: right;\n",
              "    }\n",
              "</style>\n",
              "<table border=\"1\" class=\"dataframe\">\n",
              "  <thead>\n",
              "    <tr style=\"text-align: right;\">\n",
              "      <th></th>\n",
              "      <th>Cancer Type</th>\n",
              "      <th>bcr_patient_barcode</th>\n",
              "      <th>integrated_name</th>\n",
              "      <th>therapy_response</th>\n",
              "      <th>regimen_indication</th>\n",
              "      <th>days_to_drug_therapy_start</th>\n",
              "      <th>days_to_drug_therapy_end</th>\n",
              "      <th>therapy_types</th>\n",
              "    </tr>\n",
              "  </thead>\n",
              "  <tbody>\n",
              "    <tr>\n",
              "      <th>0</th>\n",
              "      <td>COAD</td>\n",
              "      <td>TCGA-D5-5539</td>\n",
              "      <td>fluorouracil</td>\n",
              "      <td>NaN</td>\n",
              "      <td>ADJUVANT</td>\n",
              "      <td>38.0</td>\n",
              "      <td>195.0</td>\n",
              "      <td>Chemotherapy</td>\n",
              "    </tr>\n",
              "    <tr>\n",
              "      <th>1</th>\n",
              "      <td>COAD</td>\n",
              "      <td>TCGA-A6-6648</td>\n",
              "      <td>oxaliplatin</td>\n",
              "      <td>NaN</td>\n",
              "      <td>OTHER, SPECIFY IN NOTES</td>\n",
              "      <td>63.0</td>\n",
              "      <td>91.0</td>\n",
              "      <td>NaN</td>\n",
              "    </tr>\n",
              "    <tr>\n",
              "      <th>3</th>\n",
              "      <td>COAD</td>\n",
              "      <td>TCGA-A6-6648</td>\n",
              "      <td>folinic</td>\n",
              "      <td>NaN</td>\n",
              "      <td>OTHER, SPECIFY IN NOTES</td>\n",
              "      <td>63.0</td>\n",
              "      <td>91.0</td>\n",
              "      <td>NaN</td>\n",
              "    </tr>\n",
              "    <tr>\n",
              "      <th>4</th>\n",
              "      <td>COAD</td>\n",
              "      <td>TCGA-A6-6648</td>\n",
              "      <td>fluorouracil</td>\n",
              "      <td>NaN</td>\n",
              "      <td>OTHER, SPECIFY IN NOTES</td>\n",
              "      <td>63.0</td>\n",
              "      <td>93.0</td>\n",
              "      <td>NaN</td>\n",
              "    </tr>\n",
              "    <tr>\n",
              "      <th>5</th>\n",
              "      <td>COAD</td>\n",
              "      <td>TCGA-AA-3560</td>\n",
              "      <td>folinic</td>\n",
              "      <td>response</td>\n",
              "      <td>NaN</td>\n",
              "      <td>31.0</td>\n",
              "      <td>212.0</td>\n",
              "      <td>Chemotherapy</td>\n",
              "    </tr>\n",
              "    <tr>\n",
              "      <th>...</th>\n",
              "      <td>...</td>\n",
              "      <td>...</td>\n",
              "      <td>...</td>\n",
              "      <td>...</td>\n",
              "      <td>...</td>\n",
              "      <td>...</td>\n",
              "      <td>...</td>\n",
              "      <td>...</td>\n",
              "    </tr>\n",
              "    <tr>\n",
              "      <th>588</th>\n",
              "      <td>COAD</td>\n",
              "      <td>TCGA-A6-2674</td>\n",
              "      <td>folinic</td>\n",
              "      <td>NaN</td>\n",
              "      <td>RECURRENCE</td>\n",
              "      <td>761.0</td>\n",
              "      <td>944.0</td>\n",
              "      <td>Other, specify in notesancillary</td>\n",
              "    </tr>\n",
              "    <tr>\n",
              "      <th>589</th>\n",
              "      <td>COAD</td>\n",
              "      <td>TCGA-A6-2674</td>\n",
              "      <td>bevacizumab</td>\n",
              "      <td>NaN</td>\n",
              "      <td>RECURRENCE</td>\n",
              "      <td>761.0</td>\n",
              "      <td>944.0</td>\n",
              "      <td>Targeted Molecular therapy</td>\n",
              "    </tr>\n",
              "    <tr>\n",
              "      <th>590</th>\n",
              "      <td>COAD</td>\n",
              "      <td>TCGA-A6-2674</td>\n",
              "      <td>oxaliplatin</td>\n",
              "      <td>NaN</td>\n",
              "      <td>RECURRENCE</td>\n",
              "      <td>761.0</td>\n",
              "      <td>944.0</td>\n",
              "      <td>Chemotherapy</td>\n",
              "    </tr>\n",
              "    <tr>\n",
              "      <th>591</th>\n",
              "      <td>COAD</td>\n",
              "      <td>TCGA-A6-2674</td>\n",
              "      <td>fluorouracil</td>\n",
              "      <td>NaN</td>\n",
              "      <td>RECURRENCE</td>\n",
              "      <td>761.0</td>\n",
              "      <td>946.0</td>\n",
              "      <td>Chemotherapy</td>\n",
              "    </tr>\n",
              "    <tr>\n",
              "      <th>592</th>\n",
              "      <td>COAD</td>\n",
              "      <td>TCGA-A6-2674</td>\n",
              "      <td>fluorouracil</td>\n",
              "      <td>NaN</td>\n",
              "      <td>RECURRENCE</td>\n",
              "      <td>761.0</td>\n",
              "      <td>944.0</td>\n",
              "      <td>Chemotherapy</td>\n",
              "    </tr>\n",
              "  </tbody>\n",
              "</table>\n",
              "<p>542 rows × 8 columns</p>\n",
              "</div>"
            ],
            "text/plain": [
              "    Cancer Type  ...                     therapy_types\n",
              "0          COAD  ...                      Chemotherapy\n",
              "1          COAD  ...                               NaN\n",
              "3          COAD  ...                               NaN\n",
              "4          COAD  ...                               NaN\n",
              "5          COAD  ...                      Chemotherapy\n",
              "..          ...  ...                               ...\n",
              "588        COAD  ...  Other, specify in notesancillary\n",
              "589        COAD  ...        Targeted Molecular therapy\n",
              "590        COAD  ...                      Chemotherapy\n",
              "591        COAD  ...                      Chemotherapy\n",
              "592        COAD  ...                      Chemotherapy\n",
              "\n",
              "[542 rows x 8 columns]"
            ]
          },
          "metadata": {
            "tags": []
          },
          "execution_count": 81
        }
      ]
    },
    {
      "cell_type": "code",
      "metadata": {
        "colab": {
          "base_uri": "https://localhost:8080/",
          "height": 648
        },
        "id": "yhhiPBc7pk5D",
        "outputId": "f56a1f72-2915-415e-b7f4-0264710139db"
      },
      "source": [
        "drug_COAD_res.rename(columns = {'integrated_name':'drug_name'}, inplace = True)\n",
        "drug_COAD_res"
      ],
      "execution_count": 85,
      "outputs": [
        {
          "output_type": "stream",
          "text": [
            "/usr/local/lib/python3.7/dist-packages/pandas/core/frame.py:4308: SettingWithCopyWarning: \n",
            "A value is trying to be set on a copy of a slice from a DataFrame\n",
            "\n",
            "See the caveats in the documentation: https://pandas.pydata.org/pandas-docs/stable/user_guide/indexing.html#returning-a-view-versus-a-copy\n",
            "  errors=errors,\n"
          ],
          "name": "stderr"
        },
        {
          "output_type": "execute_result",
          "data": {
            "text/html": [
              "<div>\n",
              "<style scoped>\n",
              "    .dataframe tbody tr th:only-of-type {\n",
              "        vertical-align: middle;\n",
              "    }\n",
              "\n",
              "    .dataframe tbody tr th {\n",
              "        vertical-align: top;\n",
              "    }\n",
              "\n",
              "    .dataframe thead th {\n",
              "        text-align: right;\n",
              "    }\n",
              "</style>\n",
              "<table border=\"1\" class=\"dataframe\">\n",
              "  <thead>\n",
              "    <tr style=\"text-align: right;\">\n",
              "      <th></th>\n",
              "      <th>Cancer Type</th>\n",
              "      <th>bcr_patient_barcode</th>\n",
              "      <th>drug_name</th>\n",
              "      <th>therapy_response</th>\n",
              "      <th>regimen_indication</th>\n",
              "      <th>days_to_drug_therapy_start</th>\n",
              "      <th>days_to_drug_therapy_end</th>\n",
              "      <th>therapy_types</th>\n",
              "    </tr>\n",
              "  </thead>\n",
              "  <tbody>\n",
              "    <tr>\n",
              "      <th>0</th>\n",
              "      <td>COAD</td>\n",
              "      <td>TCGA-D5-5539</td>\n",
              "      <td>fluorouracil</td>\n",
              "      <td>NaN</td>\n",
              "      <td>ADJUVANT</td>\n",
              "      <td>38.0</td>\n",
              "      <td>195.0</td>\n",
              "      <td>Chemotherapy</td>\n",
              "    </tr>\n",
              "    <tr>\n",
              "      <th>1</th>\n",
              "      <td>COAD</td>\n",
              "      <td>TCGA-A6-6648</td>\n",
              "      <td>oxaliplatin</td>\n",
              "      <td>NaN</td>\n",
              "      <td>OTHER, SPECIFY IN NOTES</td>\n",
              "      <td>63.0</td>\n",
              "      <td>91.0</td>\n",
              "      <td>NaN</td>\n",
              "    </tr>\n",
              "    <tr>\n",
              "      <th>3</th>\n",
              "      <td>COAD</td>\n",
              "      <td>TCGA-A6-6648</td>\n",
              "      <td>folinic</td>\n",
              "      <td>NaN</td>\n",
              "      <td>OTHER, SPECIFY IN NOTES</td>\n",
              "      <td>63.0</td>\n",
              "      <td>91.0</td>\n",
              "      <td>NaN</td>\n",
              "    </tr>\n",
              "    <tr>\n",
              "      <th>4</th>\n",
              "      <td>COAD</td>\n",
              "      <td>TCGA-A6-6648</td>\n",
              "      <td>fluorouracil</td>\n",
              "      <td>NaN</td>\n",
              "      <td>OTHER, SPECIFY IN NOTES</td>\n",
              "      <td>63.0</td>\n",
              "      <td>93.0</td>\n",
              "      <td>NaN</td>\n",
              "    </tr>\n",
              "    <tr>\n",
              "      <th>5</th>\n",
              "      <td>COAD</td>\n",
              "      <td>TCGA-AA-3560</td>\n",
              "      <td>folinic</td>\n",
              "      <td>response</td>\n",
              "      <td>NaN</td>\n",
              "      <td>31.0</td>\n",
              "      <td>212.0</td>\n",
              "      <td>Chemotherapy</td>\n",
              "    </tr>\n",
              "    <tr>\n",
              "      <th>...</th>\n",
              "      <td>...</td>\n",
              "      <td>...</td>\n",
              "      <td>...</td>\n",
              "      <td>...</td>\n",
              "      <td>...</td>\n",
              "      <td>...</td>\n",
              "      <td>...</td>\n",
              "      <td>...</td>\n",
              "    </tr>\n",
              "    <tr>\n",
              "      <th>588</th>\n",
              "      <td>COAD</td>\n",
              "      <td>TCGA-A6-2674</td>\n",
              "      <td>folinic</td>\n",
              "      <td>NaN</td>\n",
              "      <td>RECURRENCE</td>\n",
              "      <td>761.0</td>\n",
              "      <td>944.0</td>\n",
              "      <td>Other, specify in notesancillary</td>\n",
              "    </tr>\n",
              "    <tr>\n",
              "      <th>589</th>\n",
              "      <td>COAD</td>\n",
              "      <td>TCGA-A6-2674</td>\n",
              "      <td>bevacizumab</td>\n",
              "      <td>NaN</td>\n",
              "      <td>RECURRENCE</td>\n",
              "      <td>761.0</td>\n",
              "      <td>944.0</td>\n",
              "      <td>Targeted Molecular therapy</td>\n",
              "    </tr>\n",
              "    <tr>\n",
              "      <th>590</th>\n",
              "      <td>COAD</td>\n",
              "      <td>TCGA-A6-2674</td>\n",
              "      <td>oxaliplatin</td>\n",
              "      <td>NaN</td>\n",
              "      <td>RECURRENCE</td>\n",
              "      <td>761.0</td>\n",
              "      <td>944.0</td>\n",
              "      <td>Chemotherapy</td>\n",
              "    </tr>\n",
              "    <tr>\n",
              "      <th>591</th>\n",
              "      <td>COAD</td>\n",
              "      <td>TCGA-A6-2674</td>\n",
              "      <td>fluorouracil</td>\n",
              "      <td>NaN</td>\n",
              "      <td>RECURRENCE</td>\n",
              "      <td>761.0</td>\n",
              "      <td>946.0</td>\n",
              "      <td>Chemotherapy</td>\n",
              "    </tr>\n",
              "    <tr>\n",
              "      <th>592</th>\n",
              "      <td>COAD</td>\n",
              "      <td>TCGA-A6-2674</td>\n",
              "      <td>fluorouracil</td>\n",
              "      <td>NaN</td>\n",
              "      <td>RECURRENCE</td>\n",
              "      <td>761.0</td>\n",
              "      <td>944.0</td>\n",
              "      <td>Chemotherapy</td>\n",
              "    </tr>\n",
              "  </tbody>\n",
              "</table>\n",
              "<p>542 rows × 8 columns</p>\n",
              "</div>"
            ],
            "text/plain": [
              "    Cancer Type  ...                     therapy_types\n",
              "0          COAD  ...                      Chemotherapy\n",
              "1          COAD  ...                               NaN\n",
              "3          COAD  ...                               NaN\n",
              "4          COAD  ...                               NaN\n",
              "5          COAD  ...                      Chemotherapy\n",
              "..          ...  ...                               ...\n",
              "588        COAD  ...  Other, specify in notesancillary\n",
              "589        COAD  ...        Targeted Molecular therapy\n",
              "590        COAD  ...                      Chemotherapy\n",
              "591        COAD  ...                      Chemotherapy\n",
              "592        COAD  ...                      Chemotherapy\n",
              "\n",
              "[542 rows x 8 columns]"
            ]
          },
          "metadata": {
            "tags": []
          },
          "execution_count": 85
        }
      ]
    },
    {
      "cell_type": "code",
      "metadata": {
        "id": "kqfrcwj2ul-k"
      },
      "source": [
        "drug_COAD_res.to_csv('/content/drive/MyDrive/SW21/drug_response_COAD.csv')"
      ],
      "execution_count": 97,
      "outputs": []
    },
    {
      "cell_type": "markdown",
      "metadata": {
        "id": "8EzKaVEHwHww"
      },
      "source": [
        "**인덱스를 바코드로 한 데이터프레임**"
      ]
    },
    {
      "cell_type": "code",
      "metadata": {
        "colab": {
          "base_uri": "https://localhost:8080/",
          "height": 487
        },
        "id": "hJgWibV8vkE6",
        "outputId": "15fd1b52-d924-45bf-cd17-abc329565b5f"
      },
      "source": [
        "drug_COAD_barcode = drug_COAD.copy()\n",
        "# 환자 바코드 순으로 정렬 = 없어도 되긴 하는데\n",
        "drug_COAD_barcode = drug_COAD_barcode.sort_values(by = 'bcr_patient_barcode')\n",
        "drug_COAD_barcode.index = drug_COAD_barcode.bcr_patient_barcode\n",
        "drug_COAD_barcode.drop(['bcr_patient_barcode'], axis = 1, inplace = True)\n",
        "drug_COAD_barcode"
      ],
      "execution_count": null,
      "outputs": [
        {
          "output_type": "execute_result",
          "data": {
            "text/html": [
              "<div>\n",
              "<style scoped>\n",
              "    .dataframe tbody tr th:only-of-type {\n",
              "        vertical-align: middle;\n",
              "    }\n",
              "\n",
              "    .dataframe tbody tr th {\n",
              "        vertical-align: top;\n",
              "    }\n",
              "\n",
              "    .dataframe thead th {\n",
              "        text-align: right;\n",
              "    }\n",
              "</style>\n",
              "<table border=\"1\" class=\"dataframe\">\n",
              "  <thead>\n",
              "    <tr style=\"text-align: right;\">\n",
              "      <th></th>\n",
              "      <th>Cancer Type</th>\n",
              "      <th>integrated_name</th>\n",
              "      <th>therapy_response</th>\n",
              "      <th>regimen_indication</th>\n",
              "      <th>days_to_drug_therapy_start</th>\n",
              "      <th>days_to_drug_therapy_end</th>\n",
              "      <th>therapy_types</th>\n",
              "    </tr>\n",
              "    <tr>\n",
              "      <th>bcr_patient_barcode</th>\n",
              "      <th></th>\n",
              "      <th></th>\n",
              "      <th></th>\n",
              "      <th></th>\n",
              "      <th></th>\n",
              "      <th></th>\n",
              "      <th></th>\n",
              "    </tr>\n",
              "  </thead>\n",
              "  <tbody>\n",
              "    <tr>\n",
              "      <th>TCGA-4N-A93T</th>\n",
              "      <td>COAD</td>\n",
              "      <td>capecitabine</td>\n",
              "      <td>NaN</td>\n",
              "      <td>NaN</td>\n",
              "      <td>68.0</td>\n",
              "      <td>NaN</td>\n",
              "      <td>Chemotherapy</td>\n",
              "    </tr>\n",
              "    <tr>\n",
              "      <th>TCGA-A6-2671</th>\n",
              "      <td>COAD</td>\n",
              "      <td>fluorouracil</td>\n",
              "      <td>no response</td>\n",
              "      <td>NaN</td>\n",
              "      <td>844.0</td>\n",
              "      <td>846.0</td>\n",
              "      <td>Chemotherapy</td>\n",
              "    </tr>\n",
              "    <tr>\n",
              "      <th>TCGA-A6-2671</th>\n",
              "      <td>COAD</td>\n",
              "      <td>folinic</td>\n",
              "      <td>no response</td>\n",
              "      <td>NaN</td>\n",
              "      <td>844.0</td>\n",
              "      <td>844.0</td>\n",
              "      <td>Ancillary</td>\n",
              "    </tr>\n",
              "    <tr>\n",
              "      <th>TCGA-A6-2671</th>\n",
              "      <td>COAD</td>\n",
              "      <td>fluorouracil</td>\n",
              "      <td>no response</td>\n",
              "      <td>NaN</td>\n",
              "      <td>844.0</td>\n",
              "      <td>844.0</td>\n",
              "      <td>Chemotherapy</td>\n",
              "    </tr>\n",
              "    <tr>\n",
              "      <th>TCGA-A6-2671</th>\n",
              "      <td>COAD</td>\n",
              "      <td>irinotecan</td>\n",
              "      <td>no response</td>\n",
              "      <td>NaN</td>\n",
              "      <td>844.0</td>\n",
              "      <td>984.0</td>\n",
              "      <td>Chemotherapy</td>\n",
              "    </tr>\n",
              "    <tr>\n",
              "      <th>...</th>\n",
              "      <td>...</td>\n",
              "      <td>...</td>\n",
              "      <td>...</td>\n",
              "      <td>...</td>\n",
              "      <td>...</td>\n",
              "      <td>...</td>\n",
              "      <td>...</td>\n",
              "    </tr>\n",
              "    <tr>\n",
              "      <th>TCGA-RU-A8FL</th>\n",
              "      <td>COAD</td>\n",
              "      <td>folfox</td>\n",
              "      <td>no response</td>\n",
              "      <td>NaN</td>\n",
              "      <td>48.0</td>\n",
              "      <td>210.0</td>\n",
              "      <td>Chemotherapy</td>\n",
              "    </tr>\n",
              "    <tr>\n",
              "      <th>TCGA-RU-A8FL</th>\n",
              "      <td>COAD</td>\n",
              "      <td>folfiri_zal</td>\n",
              "      <td>no response</td>\n",
              "      <td>NaN</td>\n",
              "      <td>679.0</td>\n",
              "      <td>756.0</td>\n",
              "      <td>Chemotherapy</td>\n",
              "    </tr>\n",
              "    <tr>\n",
              "      <th>TCGA-SS-A7HO</th>\n",
              "      <td>COAD</td>\n",
              "      <td>oxaliplatin</td>\n",
              "      <td>response</td>\n",
              "      <td>NaN</td>\n",
              "      <td>37.0</td>\n",
              "      <td>93.0</td>\n",
              "      <td>Chemotherapy</td>\n",
              "    </tr>\n",
              "    <tr>\n",
              "      <th>TCGA-SS-A7HO</th>\n",
              "      <td>COAD</td>\n",
              "      <td>folinic</td>\n",
              "      <td>response</td>\n",
              "      <td>NaN</td>\n",
              "      <td>37.0</td>\n",
              "      <td>93.0</td>\n",
              "      <td>Ancillary</td>\n",
              "    </tr>\n",
              "    <tr>\n",
              "      <th>TCGA-SS-A7HO</th>\n",
              "      <td>COAD</td>\n",
              "      <td>fluorouracil</td>\n",
              "      <td>response</td>\n",
              "      <td>NaN</td>\n",
              "      <td>37.0</td>\n",
              "      <td>93.0</td>\n",
              "      <td>Chemotherapy</td>\n",
              "    </tr>\n",
              "  </tbody>\n",
              "</table>\n",
              "<p>593 rows × 7 columns</p>\n",
              "</div>"
            ],
            "text/plain": [
              "                    Cancer Type  ... therapy_types\n",
              "bcr_patient_barcode              ...              \n",
              "TCGA-4N-A93T               COAD  ...  Chemotherapy\n",
              "TCGA-A6-2671               COAD  ...  Chemotherapy\n",
              "TCGA-A6-2671               COAD  ...     Ancillary\n",
              "TCGA-A6-2671               COAD  ...  Chemotherapy\n",
              "TCGA-A6-2671               COAD  ...  Chemotherapy\n",
              "...                         ...  ...           ...\n",
              "TCGA-RU-A8FL               COAD  ...  Chemotherapy\n",
              "TCGA-RU-A8FL               COAD  ...  Chemotherapy\n",
              "TCGA-SS-A7HO               COAD  ...  Chemotherapy\n",
              "TCGA-SS-A7HO               COAD  ...     Ancillary\n",
              "TCGA-SS-A7HO               COAD  ...  Chemotherapy\n",
              "\n",
              "[593 rows x 7 columns]"
            ]
          },
          "metadata": {
            "tags": []
          },
          "execution_count": 56
        }
      ]
    }
  ]
}