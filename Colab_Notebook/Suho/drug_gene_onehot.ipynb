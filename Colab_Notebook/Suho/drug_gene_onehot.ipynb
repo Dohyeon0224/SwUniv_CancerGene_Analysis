{
  "nbformat": 4,
  "nbformat_minor": 0,
  "metadata": {
    "colab": {
      "name": "drug_gene_onehot.ipynb",
      "provenance": [],
      "collapsed_sections": [],
      "authorship_tag": "ABX9TyNSqKlGlZ3K9mxD6n5vP1Ov",
      "include_colab_link": true
    },
    "kernelspec": {
      "display_name": "Python 3",
      "name": "python3"
    },
    "language_info": {
      "name": "python"
    }
  },
  "cells": [
    {
      "cell_type": "markdown",
      "metadata": {
        "id": "view-in-github",
        "colab_type": "text"
      },
      "source": [
        "<a href=\"https://colab.research.google.com/github/hansuho113/SwUniv_CancerAnalysis/blob/main/Colab_Notebook/Suho/drug_gene_onehot.ipynb\" target=\"_parent\"><img src=\"https://colab.research.google.com/assets/colab-badge.svg\" alt=\"Open In Colab\"/></a>"
      ]
    },
    {
      "cell_type": "code",
      "metadata": {
        "colab": {
          "base_uri": "https://localhost:8080/"
        },
        "id": "GAMPzxV5WIXM",
        "outputId": "d432834a-7c36-4e62-e8e0-137a39b298a2"
      },
      "source": [
        "from google.colab import drive  \n",
        "drive.mount(\"/content/drive\")"
      ],
      "execution_count": null,
      "outputs": [
        {
          "output_type": "stream",
          "text": [
            "Mounted at /content/drive\n"
          ],
          "name": "stdout"
        }
      ]
    },
    {
      "cell_type": "markdown",
      "metadata": {
        "id": "ZqE_S8kxabPv"
      },
      "source": [
        "# Import library"
      ]
    },
    {
      "cell_type": "code",
      "metadata": {
        "colab": {
          "background_save": true
        },
        "id": "FfjpzosFWQuO"
      },
      "source": [
        "import numpy as np\n",
        "import pandas as pd\n",
        "import matplotlib.pyplot as plt\n",
        "\n",
        "from sklearn.model_selection import train_test_split\n",
        "\n",
        "import tensorflow as tf\n",
        "from tensorflow import keras\n",
        "from tensorflow.keras import layers\n",
        "from sklearn.preprocessing import LabelEncoder"
      ],
      "execution_count": null,
      "outputs": []
    },
    {
      "cell_type": "markdown",
      "metadata": {
        "id": "j6K_9NnxaiNx"
      },
      "source": [
        "# Load Data\n",
        "\n",
        "## measure_of_response:\n",
        "- ['unknown', 'Complete Response', 'Partial Response', 'Clinical Progressive Disease', 'Stable Disease']\n",
        "\n",
        "## therapy_response:\n",
        "- ['unknown', 'response', 'no response']"
      ]
    },
    {
      "cell_type": "code",
      "metadata": {
        "id": "DXsQ1R73WznC"
      },
      "source": [
        "original_df = pd.read_csv('/content/drive/MyDrive/SW21Project/drug_gene_preprocessed.csv')"
      ],
      "execution_count": null,
      "outputs": []
    },
    {
      "cell_type": "markdown",
      "metadata": {
        "id": "TbeAM9hEalqB"
      },
      "source": [
        "# Data Preprocessing\n",
        "## one_hot_encoding"
      ]
    },
    {
      "cell_type": "code",
      "metadata": {
        "id": "bWguN6mnX0VY"
      },
      "source": [
        "# one_hot_encoding\n",
        "df = original_df.copy()\n",
        "df = pd.get_dummies(data=df,\n",
        "                    columns=['regimen_indication', 'therapy_types', 'drug_name_'])"
      ],
      "execution_count": null,
      "outputs": []
    },
    {
      "cell_type": "code",
      "metadata": {
        "id": "tKKysTWxZywa"
      },
      "source": [
        "df.drop(['measure_of_response', 'bcr_patient_barcode'], axis=1, inplace=True)"
      ],
      "execution_count": null,
      "outputs": []
    },
    {
      "cell_type": "code",
      "metadata": {
        "colab": {
          "base_uri": "https://localhost:8080/",
          "height": 265
        },
        "id": "kF3lVll_aQnH",
        "outputId": "cff9dcb9-5bf8-4909-8bf5-dc1797526e1c"
      },
      "source": [
        "df.head(1)"
      ],
      "execution_count": null,
      "outputs": [
        {
          "output_type": "execute_result",
          "data": {
            "text/html": [
              "<div>\n",
              "<style scoped>\n",
              "    .dataframe tbody tr th:only-of-type {\n",
              "        vertical-align: middle;\n",
              "    }\n",
              "\n",
              "    .dataframe tbody tr th {\n",
              "        vertical-align: top;\n",
              "    }\n",
              "\n",
              "    .dataframe thead th {\n",
              "        text-align: right;\n",
              "    }\n",
              "</style>\n",
              "<table border=\"1\" class=\"dataframe\">\n",
              "  <thead>\n",
              "    <tr style=\"text-align: right;\">\n",
              "      <th></th>\n",
              "      <th>index</th>\n",
              "      <th>therapy_response</th>\n",
              "      <th>?|100130426</th>\n",
              "      <th>?|100133144</th>\n",
              "      <th>?|100134869</th>\n",
              "      <th>?|10357</th>\n",
              "      <th>?|10431</th>\n",
              "      <th>?|136542</th>\n",
              "      <th>?|155060</th>\n",
              "      <th>?|26823</th>\n",
              "      <th>?|280660</th>\n",
              "      <th>?|317712</th>\n",
              "      <th>?|340602</th>\n",
              "      <th>?|388795</th>\n",
              "      <th>?|390284</th>\n",
              "      <th>?|391343</th>\n",
              "      <th>?|391714</th>\n",
              "      <th>?|404770</th>\n",
              "      <th>?|441362</th>\n",
              "      <th>?|442388</th>\n",
              "      <th>?|553137</th>\n",
              "      <th>?|57714</th>\n",
              "      <th>?|645851</th>\n",
              "      <th>?|652919</th>\n",
              "      <th>?|653553</th>\n",
              "      <th>?|728045</th>\n",
              "      <th>?|728603</th>\n",
              "      <th>?|728788</th>\n",
              "      <th>?|729884</th>\n",
              "      <th>?|8225</th>\n",
              "      <th>?|90288</th>\n",
              "      <th>A1BG|1</th>\n",
              "      <th>A1CF|29974</th>\n",
              "      <th>A2BP1|54715</th>\n",
              "      <th>A2LD1|87769</th>\n",
              "      <th>A2M|2</th>\n",
              "      <th>A2ML1|144568</th>\n",
              "      <th>A4GALT|53947</th>\n",
              "      <th>A4GNT|51146</th>\n",
              "      <th>AAA1|404744</th>\n",
              "      <th>...</th>\n",
              "      <th>ZSCAN5A|79149</th>\n",
              "      <th>ZSCAN5B|342933</th>\n",
              "      <th>ZSWIM1|90204</th>\n",
              "      <th>ZSWIM2|151112</th>\n",
              "      <th>ZSWIM3|140831</th>\n",
              "      <th>ZSWIM4|65249</th>\n",
              "      <th>ZSWIM5|57643</th>\n",
              "      <th>ZSWIM6|57688</th>\n",
              "      <th>ZSWIM7|125150</th>\n",
              "      <th>ZUFSP|221302</th>\n",
              "      <th>ZW10|9183</th>\n",
              "      <th>ZWILCH|55055</th>\n",
              "      <th>ZWINT|11130</th>\n",
              "      <th>ZXDA|7789</th>\n",
              "      <th>ZXDB|158586</th>\n",
              "      <th>ZXDC|79364</th>\n",
              "      <th>ZYG11A|440590</th>\n",
              "      <th>ZYG11B|79699</th>\n",
              "      <th>ZYX|7791</th>\n",
              "      <th>ZZEF1|23140</th>\n",
              "      <th>ZZZ3|26009</th>\n",
              "      <th>regimen_indication_ADJUVANT</th>\n",
              "      <th>regimen_indication_OTHER, SPECIFY IN NOTES</th>\n",
              "      <th>regimen_indication_PROGRESSION</th>\n",
              "      <th>regimen_indication_RECURRENCE</th>\n",
              "      <th>regimen_indication_unknown</th>\n",
              "      <th>therapy_types_Ancillary</th>\n",
              "      <th>therapy_types_Chemotherapy</th>\n",
              "      <th>therapy_types_Immunotherapy</th>\n",
              "      <th>therapy_types_Other, specify in notesAncillary</th>\n",
              "      <th>therapy_types_Other, specify in notesAncillary Agent</th>\n",
              "      <th>therapy_types_Other, specify in notesancillary</th>\n",
              "      <th>therapy_types_Targeted Molecular therapy</th>\n",
              "      <th>therapy_types_unknown</th>\n",
              "      <th>drug_name__bevacizumab</th>\n",
              "      <th>drug_name__capecitabine</th>\n",
              "      <th>drug_name__fluorouracil</th>\n",
              "      <th>drug_name__folinic</th>\n",
              "      <th>drug_name__irinotecan</th>\n",
              "      <th>drug_name__oxaliplatin</th>\n",
              "    </tr>\n",
              "  </thead>\n",
              "  <tbody>\n",
              "    <tr>\n",
              "      <th>0</th>\n",
              "      <td>TCGA-A6-6648-01A-11R-1774-07</td>\n",
              "      <td>unknown</td>\n",
              "      <td>0.0</td>\n",
              "      <td>14.1703</td>\n",
              "      <td>12.2592</td>\n",
              "      <td>324.308</td>\n",
              "      <td>713.85</td>\n",
              "      <td>0.0</td>\n",
              "      <td>152.732</td>\n",
              "      <td>0.5083</td>\n",
              "      <td>0.0</td>\n",
              "      <td>0.0</td>\n",
              "      <td>0.0</td>\n",
              "      <td>3.0496</td>\n",
              "      <td>2.033</td>\n",
              "      <td>0.0</td>\n",
              "      <td>0.0</td>\n",
              "      <td>0.0</td>\n",
              "      <td>0.0</td>\n",
              "      <td>0.0</td>\n",
              "      <td>0.0</td>\n",
              "      <td>732.147</td>\n",
              "      <td>12.4524</td>\n",
              "      <td>0.0</td>\n",
              "      <td>31.5121</td>\n",
              "      <td>0.0</td>\n",
              "      <td>0.0</td>\n",
              "      <td>2.033</td>\n",
              "      <td>0.5083</td>\n",
              "      <td>506.48</td>\n",
              "      <td>0.5083</td>\n",
              "      <td>6.7929</td>\n",
              "      <td>191.614</td>\n",
              "      <td>6.8615</td>\n",
              "      <td>101.741</td>\n",
              "      <td>4753.24</td>\n",
              "      <td>0.2541</td>\n",
              "      <td>48.0305</td>\n",
              "      <td>0.0</td>\n",
              "      <td>0.2541</td>\n",
              "      <td>...</td>\n",
              "      <td>134.435</td>\n",
              "      <td>1.7789</td>\n",
              "      <td>518.678</td>\n",
              "      <td>0.0</td>\n",
              "      <td>309.022</td>\n",
              "      <td>240.661</td>\n",
              "      <td>703.939</td>\n",
              "      <td>488.437</td>\n",
              "      <td>110.066</td>\n",
              "      <td>233.799</td>\n",
              "      <td>892.503</td>\n",
              "      <td>940.455</td>\n",
              "      <td>1146.63</td>\n",
              "      <td>66.8361</td>\n",
              "      <td>558.577</td>\n",
              "      <td>988.31</td>\n",
              "      <td>1.0165</td>\n",
              "      <td>1029.22</td>\n",
              "      <td>2791.87</td>\n",
              "      <td>2283.1</td>\n",
              "      <td>1205.59</td>\n",
              "      <td>0</td>\n",
              "      <td>1</td>\n",
              "      <td>0</td>\n",
              "      <td>0</td>\n",
              "      <td>0</td>\n",
              "      <td>0</td>\n",
              "      <td>0</td>\n",
              "      <td>0</td>\n",
              "      <td>0</td>\n",
              "      <td>0</td>\n",
              "      <td>0</td>\n",
              "      <td>0</td>\n",
              "      <td>1</td>\n",
              "      <td>0</td>\n",
              "      <td>0</td>\n",
              "      <td>0</td>\n",
              "      <td>0</td>\n",
              "      <td>0</td>\n",
              "      <td>1</td>\n",
              "    </tr>\n",
              "  </tbody>\n",
              "</table>\n",
              "<p>1 rows × 20552 columns</p>\n",
              "</div>"
            ],
            "text/plain": [
              "                          index  ... drug_name__oxaliplatin\n",
              "0  TCGA-A6-6648-01A-11R-1774-07  ...                      1\n",
              "\n",
              "[1 rows x 20552 columns]"
            ]
          },
          "metadata": {
            "tags": []
          },
          "execution_count": 48
        }
      ]
    },
    {
      "cell_type": "markdown",
      "metadata": {
        "id": "iIejRyKdatOt"
      },
      "source": [
        "# keras sequential model\n",
        "- ## split the data to feature and target"
      ]
    },
    {
      "cell_type": "code",
      "metadata": {
        "id": "V6R-dcVYXiZz"
      },
      "source": [
        "data = np.array(df[df.columns.difference([\"index\", 'therapy_response'])])\n",
        "target = np.array(df.therapy_response)\n",
        "\n",
        "np.asarray(data).astype('float32')\n",
        "\n",
        "encoder = LabelEncoder()\n",
        "encoder.fit(target)\n",
        "labels = encoder.transform(target)\n",
        "\n",
        "target = labels"
      ],
      "execution_count": null,
      "outputs": []
    },
    {
      "cell_type": "code",
      "metadata": {
        "colab": {
          "base_uri": "https://localhost:8080/"
        },
        "id": "r46bJ12Xb-Dn",
        "outputId": "c7fc454d-ed6a-45ab-e75f-9b9eab76eb94"
      },
      "source": [
        "X_train, X_test, y_train, y_test = train_test_split(data, target)\n",
        "print(X_train.shape[1:])"
      ],
      "execution_count": null,
      "outputs": [
        {
          "output_type": "stream",
          "text": [
            "(20550,)\n"
          ],
          "name": "stdout"
        }
      ]
    },
    {
      "cell_type": "code",
      "metadata": {
        "id": "XWlKKQdOcjGu"
      },
      "source": [
        "inputs = keras.Input(shape=X_train.shape[1:])\n",
        "dense = layers.Dense(100, activation='relu')\n",
        "\n",
        "x = dense(inputs)\n",
        "x = layers.Dense(100, activation='relu')(x)\n",
        "\n",
        "x = layers.Dense(100, activation='relu')(x)\n",
        "\n",
        "outputs = layers.Dense(3, activation='softmax')(x)"
      ],
      "execution_count": null,
      "outputs": []
    },
    {
      "cell_type": "code",
      "metadata": {
        "colab": {
          "base_uri": "https://localhost:8080/"
        },
        "id": "i3ZiVPiBcy3n",
        "outputId": "1d4e8916-9da5-4769-da3f-968fa6bd08a2"
      },
      "source": [
        "model = keras.Model(inputs=inputs, outputs=outputs, name='drug_res_prediction')\n",
        "model.summary()"
      ],
      "execution_count": null,
      "outputs": [
        {
          "output_type": "stream",
          "text": [
            "Model: \"drug_res_prediction\"\n",
            "_________________________________________________________________\n",
            "Layer (type)                 Output Shape              Param #   \n",
            "=================================================================\n",
            "input_3 (InputLayer)         [(None, 20550)]           0         \n",
            "_________________________________________________________________\n",
            "dense_8 (Dense)              (None, 100)               2055100   \n",
            "_________________________________________________________________\n",
            "dense_9 (Dense)              (None, 100)               10100     \n",
            "_________________________________________________________________\n",
            "dense_10 (Dense)             (None, 100)               10100     \n",
            "_________________________________________________________________\n",
            "dense_11 (Dense)             (None, 3)                 303       \n",
            "=================================================================\n",
            "Total params: 2,075,603\n",
            "Trainable params: 2,075,603\n",
            "Non-trainable params: 0\n",
            "_________________________________________________________________\n"
          ],
          "name": "stdout"
        }
      ]
    },
    {
      "cell_type": "code",
      "metadata": {
        "id": "YTaYHy1Cc3yo"
      },
      "source": [
        "model.compile(loss=keras.losses.sparse_categorical_crossentropy,\n",
        "              optimizer=keras.optimizers.Adam(),\n",
        "              metrics=['accuracy'])"
      ],
      "execution_count": null,
      "outputs": []
    },
    {
      "cell_type": "code",
      "metadata": {
        "colab": {
          "base_uri": "https://localhost:8080/"
        },
        "id": "rYJErdh7c984",
        "outputId": "1694815a-0ca4-4ff7-9ad0-f540c7f5fa47"
      },
      "source": [
        "history = model.fit(X_train, y_train,\n",
        "                    epochs=100,\n",
        "                    validation_split=0.2)"
      ],
      "execution_count": null,
      "outputs": [
        {
          "output_type": "stream",
          "text": [
            "Epoch 1/100\n",
            "5/5 [==============================] - 0s 47ms/step - loss: 58.1129 - accuracy: 0.9247 - val_loss: 215.9860 - val_accuracy: 0.7838\n",
            "Epoch 2/100\n",
            "5/5 [==============================] - 0s 31ms/step - loss: 67.5065 - accuracy: 0.9521 - val_loss: 141.1481 - val_accuracy: 0.8649\n",
            "Epoch 3/100\n",
            "5/5 [==============================] - 0s 30ms/step - loss: 25.6228 - accuracy: 0.8973 - val_loss: 131.5981 - val_accuracy: 0.8378\n",
            "Epoch 4/100\n",
            "5/5 [==============================] - 0s 30ms/step - loss: 39.0027 - accuracy: 0.9247 - val_loss: 295.1196 - val_accuracy: 0.7838\n",
            "Epoch 5/100\n",
            "5/5 [==============================] - 0s 31ms/step - loss: 88.5265 - accuracy: 0.8973 - val_loss: 131.0500 - val_accuracy: 0.8919\n",
            "Epoch 6/100\n",
            "5/5 [==============================] - 0s 31ms/step - loss: 90.7019 - accuracy: 0.8904 - val_loss: 165.8459 - val_accuracy: 0.8108\n",
            "Epoch 7/100\n",
            "5/5 [==============================] - 0s 33ms/step - loss: 110.0907 - accuracy: 0.8767 - val_loss: 253.4665 - val_accuracy: 0.7838\n",
            "Epoch 8/100\n",
            "5/5 [==============================] - 0s 31ms/step - loss: 120.6663 - accuracy: 0.9041 - val_loss: 185.5769 - val_accuracy: 0.7838\n",
            "Epoch 9/100\n",
            "5/5 [==============================] - 0s 32ms/step - loss: 77.3993 - accuracy: 0.8973 - val_loss: 265.0587 - val_accuracy: 0.8649\n",
            "Epoch 10/100\n",
            "5/5 [==============================] - 0s 32ms/step - loss: 50.6349 - accuracy: 0.9178 - val_loss: 188.9971 - val_accuracy: 0.7838\n",
            "Epoch 11/100\n",
            "5/5 [==============================] - 0s 33ms/step - loss: 106.8863 - accuracy: 0.9452 - val_loss: 360.7300 - val_accuracy: 0.6757\n",
            "Epoch 12/100\n",
            "5/5 [==============================] - 0s 33ms/step - loss: 105.4552 - accuracy: 0.9384 - val_loss: 221.1374 - val_accuracy: 0.8649\n",
            "Epoch 13/100\n",
            "5/5 [==============================] - 0s 31ms/step - loss: 51.4867 - accuracy: 0.9041 - val_loss: 158.5350 - val_accuracy: 0.8108\n",
            "Epoch 14/100\n",
            "5/5 [==============================] - 0s 33ms/step - loss: 36.5503 - accuracy: 0.9452 - val_loss: 130.2306 - val_accuracy: 0.8919\n",
            "Epoch 15/100\n",
            "5/5 [==============================] - 0s 31ms/step - loss: 32.3892 - accuracy: 0.8973 - val_loss: 161.1527 - val_accuracy: 0.8108\n",
            "Epoch 16/100\n",
            "5/5 [==============================] - 0s 32ms/step - loss: 39.6226 - accuracy: 0.9247 - val_loss: 207.7586 - val_accuracy: 0.8378\n",
            "Epoch 17/100\n",
            "5/5 [==============================] - 0s 32ms/step - loss: 38.0580 - accuracy: 0.9041 - val_loss: 444.1742 - val_accuracy: 0.6486\n",
            "Epoch 18/100\n",
            "5/5 [==============================] - 0s 31ms/step - loss: 93.5907 - accuracy: 0.9110 - val_loss: 223.3705 - val_accuracy: 0.8649\n",
            "Epoch 19/100\n",
            "5/5 [==============================] - 0s 30ms/step - loss: 45.7051 - accuracy: 0.8904 - val_loss: 275.3762 - val_accuracy: 0.8649\n",
            "Epoch 20/100\n",
            "5/5 [==============================] - 0s 33ms/step - loss: 54.2134 - accuracy: 0.9452 - val_loss: 328.6808 - val_accuracy: 0.8108\n",
            "Epoch 21/100\n",
            "5/5 [==============================] - 0s 34ms/step - loss: 132.9321 - accuracy: 0.8699 - val_loss: 293.1470 - val_accuracy: 0.7838\n",
            "Epoch 22/100\n",
            "5/5 [==============================] - 0s 32ms/step - loss: 173.7867 - accuracy: 0.8699 - val_loss: 418.0111 - val_accuracy: 0.7838\n",
            "Epoch 23/100\n",
            "5/5 [==============================] - 0s 31ms/step - loss: 129.9203 - accuracy: 0.9178 - val_loss: 192.3568 - val_accuracy: 0.7838\n",
            "Epoch 24/100\n",
            "5/5 [==============================] - 0s 32ms/step - loss: 44.2690 - accuracy: 0.9110 - val_loss: 220.9275 - val_accuracy: 0.8649\n",
            "Epoch 25/100\n",
            "5/5 [==============================] - 0s 31ms/step - loss: 33.6054 - accuracy: 0.9521 - val_loss: 227.6321 - val_accuracy: 0.8108\n",
            "Epoch 26/100\n",
            "5/5 [==============================] - 0s 35ms/step - loss: 40.2277 - accuracy: 0.9452 - val_loss: 216.0601 - val_accuracy: 0.8649\n",
            "Epoch 27/100\n",
            "5/5 [==============================] - 0s 35ms/step - loss: 57.0307 - accuracy: 0.8630 - val_loss: 300.4682 - val_accuracy: 0.7838\n",
            "Epoch 28/100\n",
            "5/5 [==============================] - 0s 32ms/step - loss: 71.9758 - accuracy: 0.9452 - val_loss: 149.7269 - val_accuracy: 0.8649\n",
            "Epoch 29/100\n",
            "5/5 [==============================] - 0s 31ms/step - loss: 87.6946 - accuracy: 0.9178 - val_loss: 194.0769 - val_accuracy: 0.7297\n",
            "Epoch 30/100\n",
            "5/5 [==============================] - 0s 32ms/step - loss: 43.4634 - accuracy: 0.9247 - val_loss: 203.2857 - val_accuracy: 0.8649\n",
            "Epoch 31/100\n",
            "5/5 [==============================] - 0s 33ms/step - loss: 44.6391 - accuracy: 0.9315 - val_loss: 117.0395 - val_accuracy: 0.8108\n",
            "Epoch 32/100\n",
            "5/5 [==============================] - 0s 32ms/step - loss: 36.6721 - accuracy: 0.9452 - val_loss: 156.8138 - val_accuracy: 0.8378\n",
            "Epoch 33/100\n",
            "5/5 [==============================] - 0s 32ms/step - loss: 51.9563 - accuracy: 0.8836 - val_loss: 195.1630 - val_accuracy: 0.8108\n",
            "Epoch 34/100\n",
            "5/5 [==============================] - 0s 31ms/step - loss: 119.7765 - accuracy: 0.8630 - val_loss: 260.9611 - val_accuracy: 0.8108\n",
            "Epoch 35/100\n",
            "5/5 [==============================] - 0s 32ms/step - loss: 69.9636 - accuracy: 0.8904 - val_loss: 616.0457 - val_accuracy: 0.7027\n",
            "Epoch 36/100\n",
            "5/5 [==============================] - 0s 32ms/step - loss: 248.8965 - accuracy: 0.8151 - val_loss: 256.3893 - val_accuracy: 0.7297\n",
            "Epoch 37/100\n",
            "5/5 [==============================] - 0s 32ms/step - loss: 140.7102 - accuracy: 0.8699 - val_loss: 413.9579 - val_accuracy: 0.7297\n",
            "Epoch 38/100\n",
            "5/5 [==============================] - 0s 30ms/step - loss: 148.0360 - accuracy: 0.8493 - val_loss: 286.5759 - val_accuracy: 0.7838\n",
            "Epoch 39/100\n",
            "5/5 [==============================] - 0s 31ms/step - loss: 91.8474 - accuracy: 0.9178 - val_loss: 315.2530 - val_accuracy: 0.8378\n",
            "Epoch 40/100\n",
            "5/5 [==============================] - 0s 35ms/step - loss: 60.5703 - accuracy: 0.9315 - val_loss: 280.0139 - val_accuracy: 0.8649\n",
            "Epoch 41/100\n",
            "5/5 [==============================] - 0s 31ms/step - loss: 74.3111 - accuracy: 0.9178 - val_loss: 313.8132 - val_accuracy: 0.7838\n",
            "Epoch 42/100\n",
            "5/5 [==============================] - 0s 32ms/step - loss: 125.7478 - accuracy: 0.8767 - val_loss: 249.6960 - val_accuracy: 0.7568\n",
            "Epoch 43/100\n",
            "5/5 [==============================] - 0s 31ms/step - loss: 73.4267 - accuracy: 0.8836 - val_loss: 132.0174 - val_accuracy: 0.8649\n",
            "Epoch 44/100\n",
            "5/5 [==============================] - 0s 34ms/step - loss: 105.3249 - accuracy: 0.9178 - val_loss: 331.0743 - val_accuracy: 0.8108\n",
            "Epoch 45/100\n",
            "5/5 [==============================] - 0s 33ms/step - loss: 116.7955 - accuracy: 0.8699 - val_loss: 656.8802 - val_accuracy: 0.5946\n",
            "Epoch 46/100\n",
            "5/5 [==============================] - 0s 31ms/step - loss: 203.3538 - accuracy: 0.8425 - val_loss: 161.7008 - val_accuracy: 0.8378\n",
            "Epoch 47/100\n",
            "5/5 [==============================] - 0s 31ms/step - loss: 300.5348 - accuracy: 0.8151 - val_loss: 367.6510 - val_accuracy: 0.7027\n",
            "Epoch 48/100\n",
            "5/5 [==============================] - 0s 31ms/step - loss: 258.9310 - accuracy: 0.8219 - val_loss: 480.5033 - val_accuracy: 0.8649\n",
            "Epoch 49/100\n",
            "5/5 [==============================] - 0s 32ms/step - loss: 260.2610 - accuracy: 0.8425 - val_loss: 313.9240 - val_accuracy: 0.8108\n",
            "Epoch 50/100\n",
            "5/5 [==============================] - 0s 33ms/step - loss: 97.3381 - accuracy: 0.9384 - val_loss: 564.8400 - val_accuracy: 0.6757\n",
            "Epoch 51/100\n",
            "5/5 [==============================] - 0s 35ms/step - loss: 258.0981 - accuracy: 0.8219 - val_loss: 354.0719 - val_accuracy: 0.8108\n",
            "Epoch 52/100\n",
            "5/5 [==============================] - 0s 32ms/step - loss: 193.4823 - accuracy: 0.8699 - val_loss: 230.2345 - val_accuracy: 0.8108\n",
            "Epoch 53/100\n",
            "5/5 [==============================] - 0s 34ms/step - loss: 120.1201 - accuracy: 0.8973 - val_loss: 313.5448 - val_accuracy: 0.8108\n",
            "Epoch 54/100\n",
            "5/5 [==============================] - 0s 34ms/step - loss: 108.9790 - accuracy: 0.8699 - val_loss: 379.9892 - val_accuracy: 0.8108\n",
            "Epoch 55/100\n",
            "5/5 [==============================] - 0s 33ms/step - loss: 80.1344 - accuracy: 0.9247 - val_loss: 256.7973 - val_accuracy: 0.8649\n",
            "Epoch 56/100\n",
            "5/5 [==============================] - 0s 31ms/step - loss: 42.3350 - accuracy: 0.9315 - val_loss: 192.4484 - val_accuracy: 0.8108\n",
            "Epoch 57/100\n",
            "5/5 [==============================] - 0s 31ms/step - loss: 32.0715 - accuracy: 0.9384 - val_loss: 242.1543 - val_accuracy: 0.8649\n",
            "Epoch 58/100\n",
            "5/5 [==============================] - 0s 31ms/step - loss: 80.8835 - accuracy: 0.9041 - val_loss: 271.7467 - val_accuracy: 0.7568\n",
            "Epoch 59/100\n",
            "5/5 [==============================] - 0s 32ms/step - loss: 149.8966 - accuracy: 0.8356 - val_loss: 273.5527 - val_accuracy: 0.8649\n",
            "Epoch 60/100\n",
            "5/5 [==============================] - 0s 31ms/step - loss: 132.2916 - accuracy: 0.8288 - val_loss: 213.9197 - val_accuracy: 0.8108\n",
            "Epoch 61/100\n",
            "5/5 [==============================] - 0s 32ms/step - loss: 129.0284 - accuracy: 0.8904 - val_loss: 340.3918 - val_accuracy: 0.7838\n",
            "Epoch 62/100\n",
            "5/5 [==============================] - 0s 34ms/step - loss: 127.0849 - accuracy: 0.8493 - val_loss: 411.6454 - val_accuracy: 0.7297\n",
            "Epoch 63/100\n",
            "5/5 [==============================] - 0s 31ms/step - loss: 79.8948 - accuracy: 0.9041 - val_loss: 142.2388 - val_accuracy: 0.8649\n",
            "Epoch 64/100\n",
            "5/5 [==============================] - 0s 37ms/step - loss: 94.9940 - accuracy: 0.9178 - val_loss: 310.5880 - val_accuracy: 0.7838\n",
            "Epoch 65/100\n",
            "5/5 [==============================] - 0s 31ms/step - loss: 105.0450 - accuracy: 0.9041 - val_loss: 214.3727 - val_accuracy: 0.8649\n",
            "Epoch 66/100\n",
            "5/5 [==============================] - 0s 36ms/step - loss: 79.6291 - accuracy: 0.9521 - val_loss: 245.6919 - val_accuracy: 0.7838\n",
            "Epoch 67/100\n",
            "5/5 [==============================] - 0s 34ms/step - loss: 74.8126 - accuracy: 0.9521 - val_loss: 165.3706 - val_accuracy: 0.8649\n",
            "Epoch 68/100\n",
            "5/5 [==============================] - 0s 31ms/step - loss: 47.8447 - accuracy: 0.9315 - val_loss: 329.6666 - val_accuracy: 0.8649\n",
            "Epoch 69/100\n",
            "5/5 [==============================] - 0s 31ms/step - loss: 72.7038 - accuracy: 0.8973 - val_loss: 209.7772 - val_accuracy: 0.8649\n",
            "Epoch 70/100\n",
            "5/5 [==============================] - 0s 32ms/step - loss: 51.7294 - accuracy: 0.9589 - val_loss: 263.5335 - val_accuracy: 0.8108\n",
            "Epoch 71/100\n",
            "5/5 [==============================] - 0s 31ms/step - loss: 67.1452 - accuracy: 0.9452 - val_loss: 264.2301 - val_accuracy: 0.8108\n",
            "Epoch 72/100\n",
            "5/5 [==============================] - 0s 32ms/step - loss: 70.3038 - accuracy: 0.9110 - val_loss: 266.4715 - val_accuracy: 0.8108\n",
            "Epoch 73/100\n",
            "5/5 [==============================] - 0s 33ms/step - loss: 98.4587 - accuracy: 0.9452 - val_loss: 233.7139 - val_accuracy: 0.8108\n",
            "Epoch 74/100\n",
            "5/5 [==============================] - 0s 33ms/step - loss: 56.1246 - accuracy: 0.8973 - val_loss: 207.2110 - val_accuracy: 0.8108\n",
            "Epoch 75/100\n",
            "5/5 [==============================] - 0s 32ms/step - loss: 127.0081 - accuracy: 0.8904 - val_loss: 191.6472 - val_accuracy: 0.7838\n",
            "Epoch 76/100\n",
            "5/5 [==============================] - 0s 34ms/step - loss: 99.5435 - accuracy: 0.8904 - val_loss: 254.1946 - val_accuracy: 0.8108\n",
            "Epoch 77/100\n",
            "5/5 [==============================] - 0s 31ms/step - loss: 145.0108 - accuracy: 0.9247 - val_loss: 293.8924 - val_accuracy: 0.8649\n",
            "Epoch 78/100\n",
            "5/5 [==============================] - 0s 31ms/step - loss: 74.9552 - accuracy: 0.8836 - val_loss: 223.8321 - val_accuracy: 0.8108\n",
            "Epoch 79/100\n",
            "5/5 [==============================] - 0s 34ms/step - loss: 127.7035 - accuracy: 0.9178 - val_loss: 468.4253 - val_accuracy: 0.7838\n",
            "Epoch 80/100\n",
            "5/5 [==============================] - 0s 32ms/step - loss: 84.9712 - accuracy: 0.9247 - val_loss: 329.3690 - val_accuracy: 0.8378\n",
            "Epoch 81/100\n",
            "5/5 [==============================] - 0s 34ms/step - loss: 80.9214 - accuracy: 0.8973 - val_loss: 518.6812 - val_accuracy: 0.6757\n",
            "Epoch 82/100\n",
            "5/5 [==============================] - 0s 32ms/step - loss: 171.8349 - accuracy: 0.9041 - val_loss: 227.4686 - val_accuracy: 0.8649\n",
            "Epoch 83/100\n",
            "5/5 [==============================] - 0s 32ms/step - loss: 101.9523 - accuracy: 0.8767 - val_loss: 252.1880 - val_accuracy: 0.8378\n",
            "Epoch 84/100\n",
            "5/5 [==============================] - 0s 31ms/step - loss: 45.3881 - accuracy: 0.9589 - val_loss: 288.2170 - val_accuracy: 0.7838\n",
            "Epoch 85/100\n",
            "5/5 [==============================] - 0s 33ms/step - loss: 57.4378 - accuracy: 0.9521 - val_loss: 195.1868 - val_accuracy: 0.8378\n",
            "Epoch 86/100\n",
            "5/5 [==============================] - 0s 34ms/step - loss: 61.0418 - accuracy: 0.9110 - val_loss: 257.7641 - val_accuracy: 0.7297\n",
            "Epoch 87/100\n",
            "5/5 [==============================] - 0s 33ms/step - loss: 48.4426 - accuracy: 0.9178 - val_loss: 152.6274 - val_accuracy: 0.7838\n",
            "Epoch 88/100\n",
            "5/5 [==============================] - 0s 33ms/step - loss: 51.3722 - accuracy: 0.9110 - val_loss: 478.1595 - val_accuracy: 0.7027\n",
            "Epoch 89/100\n",
            "5/5 [==============================] - 0s 33ms/step - loss: 116.4396 - accuracy: 0.8973 - val_loss: 278.8029 - val_accuracy: 0.7568\n",
            "Epoch 90/100\n",
            "5/5 [==============================] - 0s 33ms/step - loss: 67.6267 - accuracy: 0.8767 - val_loss: 384.8028 - val_accuracy: 0.7027\n",
            "Epoch 91/100\n",
            "5/5 [==============================] - 0s 31ms/step - loss: 87.1914 - accuracy: 0.9110 - val_loss: 358.4888 - val_accuracy: 0.8649\n",
            "Epoch 92/100\n",
            "5/5 [==============================] - 0s 34ms/step - loss: 64.6476 - accuracy: 0.9247 - val_loss: 258.8600 - val_accuracy: 0.8108\n",
            "Epoch 93/100\n",
            "5/5 [==============================] - 0s 34ms/step - loss: 58.0707 - accuracy: 0.9315 - val_loss: 312.6591 - val_accuracy: 0.8649\n",
            "Epoch 94/100\n",
            "1/5 [=====>........................] - ETA: 0s - loss: 82.7859 - accuracy: 0.7812"
          ],
          "name": "stdout"
        }
      ]
    },
    {
      "cell_type": "code",
      "metadata": {
        "colab": {
          "background_save": true
        },
        "id": "gRwId01zdSru",
        "outputId": "c463ba35-9065-409d-fe43-a789c76fcec7"
      },
      "source": [
        "pd.DataFrame(history.history).plot(figsize=(8,5))\n",
        "plt.grid(True)\n",
        "plt.gca().set_ylim(0,1)    # 수직축 범위 [0-1] 사이로 설정\n",
        "plt.show()"
      ],
      "execution_count": null,
      "outputs": [
        {
          "output_type": "display_data",
          "data": {
            "image/png": "[encoded data removed]",
            "text/plain": [
              "<Figure size 576x360 with 1 Axes>"
            ]
          },
          "metadata": {
            "tags": []
          }
        }
      ]
    },
    {
      "cell_type": "code",
      "metadata": {
        "id": "aWgZ76sQeV_6"
      },
      "source": [
        ""
      ],
      "execution_count": null,
      "outputs": []
    }
  ]
}